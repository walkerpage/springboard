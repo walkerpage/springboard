{
 "cells": [
  {
   "cell_type": "markdown",
   "metadata": {},
   "source": [
    "# Statistical Data Analysis #\n",
    "\n",
    "This notebook aims to complete the following application of statistics:\n",
    "* Compute the mean star rating for two categories of restaurants, and test whether the difference in mean\n",
    "star rating is statistically significant."
   ]
  },
  {
   "cell_type": "code",
   "execution_count": 85,
   "metadata": {},
   "outputs": [],
   "source": [
    "# Imports\n",
    "import matplotlib.pyplot as plt\n",
    "# import numpy as np\n",
    "import pandas as pd\n",
    "import researchpy as rp\n",
    "import scipy.stats as stats\n",
    "import statsmodels.stats.api as sms\n",
    "\n",
    "from collections import Counter\n",
    "from itertools import chain"
   ]
  },
  {
   "cell_type": "code",
   "execution_count": 3,
   "metadata": {},
   "outputs": [],
   "source": [
    "# Load data\n",
    "r_df = pd.read_csv('/Users/dwalkerpage/Documents/Data_Science/Springboard/Projects/springboard/Capstone_Projects/Capstone_Project_2/Code/cleaned_restaurants_final.csv')"
   ]
  },
  {
   "cell_type": "code",
   "execution_count": 33,
   "metadata": {},
   "outputs": [
    {
     "data": {
      "text/plain": [
       "Index(['address', 'attributes', 'business_id', 'categories', 'city', 'hours',\n",
       "       'is_open', 'latitude', 'longitude', 'name', 'postal_code',\n",
       "       'review_count', 'stars_x', 'state', 'cool', 'date', 'funny',\n",
       "       'review_id', 'stars_y', 'text', 'useful', 'user_id'],\n",
       "      dtype='object')"
      ]
     },
     "execution_count": 33,
     "metadata": {},
     "output_type": "execute_result"
    }
   ],
   "source": [
    "r_df.columns"
   ]
  },
  {
   "cell_type": "code",
   "execution_count": 25,
   "metadata": {},
   "outputs": [
    {
     "data": {
      "text/html": [
       "<div>\n",
       "<style scoped>\n",
       "    .dataframe tbody tr th:only-of-type {\n",
       "        vertical-align: middle;\n",
       "    }\n",
       "\n",
       "    .dataframe tbody tr th {\n",
       "        vertical-align: top;\n",
       "    }\n",
       "\n",
       "    .dataframe thead th {\n",
       "        text-align: right;\n",
       "    }\n",
       "</style>\n",
       "<table border=\"1\" class=\"dataframe\">\n",
       "  <thead>\n",
       "    <tr style=\"text-align: right;\">\n",
       "      <th></th>\n",
       "      <th>address</th>\n",
       "      <th>attributes</th>\n",
       "      <th>business_id</th>\n",
       "      <th>categories</th>\n",
       "      <th>city</th>\n",
       "      <th>hours</th>\n",
       "      <th>is_open</th>\n",
       "      <th>latitude</th>\n",
       "      <th>longitude</th>\n",
       "      <th>name</th>\n",
       "      <th>...</th>\n",
       "      <th>stars_x</th>\n",
       "      <th>state</th>\n",
       "      <th>cool</th>\n",
       "      <th>date</th>\n",
       "      <th>funny</th>\n",
       "      <th>review_id</th>\n",
       "      <th>stars_y</th>\n",
       "      <th>text</th>\n",
       "      <th>useful</th>\n",
       "      <th>user_id</th>\n",
       "    </tr>\n",
       "  </thead>\n",
       "  <tbody>\n",
       "    <tr>\n",
       "      <th>0</th>\n",
       "      <td>30 Eglinton Avenue W</td>\n",
       "      <td>{'RestaurantsReservations': 'True', 'GoodForMe...</td>\n",
       "      <td>QXAEGFB4oINsVuTFxEYKFQ</td>\n",
       "      <td>Specialty Food, Restaurants, Dim Sum, Imported...</td>\n",
       "      <td>Mississauga</td>\n",
       "      <td>{'Monday': '9:0-0:0', 'Tuesday': '9:0-0:0', 'W...</td>\n",
       "      <td>1.0</td>\n",
       "      <td>43.605499</td>\n",
       "      <td>-79.652289</td>\n",
       "      <td>Emerald Chinese Restaurant</td>\n",
       "      <td>...</td>\n",
       "      <td>2.5</td>\n",
       "      <td>ON</td>\n",
       "      <td>0.0</td>\n",
       "      <td>2017-01-27 21:54:30</td>\n",
       "      <td>2.0</td>\n",
       "      <td>6W0MQHmasK0IsaoDo4bmkw</td>\n",
       "      <td>3.0</td>\n",
       "      <td>My girlfriend and I went for dinner at Emerald...</td>\n",
       "      <td>3.0</td>\n",
       "      <td>2K62MJ4CJ19L8Tp5pRfjfQ</td>\n",
       "    </tr>\n",
       "    <tr>\n",
       "      <th>1</th>\n",
       "      <td>30 Eglinton Avenue W</td>\n",
       "      <td>{'RestaurantsReservations': 'True', 'GoodForMe...</td>\n",
       "      <td>QXAEGFB4oINsVuTFxEYKFQ</td>\n",
       "      <td>Specialty Food, Restaurants, Dim Sum, Imported...</td>\n",
       "      <td>Mississauga</td>\n",
       "      <td>{'Monday': '9:0-0:0', 'Tuesday': '9:0-0:0', 'W...</td>\n",
       "      <td>1.0</td>\n",
       "      <td>43.605499</td>\n",
       "      <td>-79.652289</td>\n",
       "      <td>Emerald Chinese Restaurant</td>\n",
       "      <td>...</td>\n",
       "      <td>2.5</td>\n",
       "      <td>ON</td>\n",
       "      <td>0.0</td>\n",
       "      <td>2013-06-24 23:11:30</td>\n",
       "      <td>0.0</td>\n",
       "      <td>BeeBfUxvzD4qNX4HxrgA5g</td>\n",
       "      <td>3.0</td>\n",
       "      <td>We've always been there on a Sunday so we were...</td>\n",
       "      <td>0.0</td>\n",
       "      <td>A0kENtCCoVT3m7T35zb2Vg</td>\n",
       "    </tr>\n",
       "    <tr>\n",
       "      <th>2</th>\n",
       "      <td>30 Eglinton Avenue W</td>\n",
       "      <td>{'RestaurantsReservations': 'True', 'GoodForMe...</td>\n",
       "      <td>QXAEGFB4oINsVuTFxEYKFQ</td>\n",
       "      <td>Specialty Food, Restaurants, Dim Sum, Imported...</td>\n",
       "      <td>Mississauga</td>\n",
       "      <td>{'Monday': '9:0-0:0', 'Tuesday': '9:0-0:0', 'W...</td>\n",
       "      <td>1.0</td>\n",
       "      <td>43.605499</td>\n",
       "      <td>-79.652289</td>\n",
       "      <td>Emerald Chinese Restaurant</td>\n",
       "      <td>...</td>\n",
       "      <td>2.5</td>\n",
       "      <td>ON</td>\n",
       "      <td>0.0</td>\n",
       "      <td>2016-01-04 12:59:22</td>\n",
       "      <td>0.0</td>\n",
       "      <td>A1D2kUnZ0HTroFreAheNSg</td>\n",
       "      <td>3.0</td>\n",
       "      <td>***No automatic doors, not baby friendly!*** I...</td>\n",
       "      <td>0.0</td>\n",
       "      <td>SuOLY03LW5ZcnynKhbTydA</td>\n",
       "    </tr>\n",
       "    <tr>\n",
       "      <th>3</th>\n",
       "      <td>30 Eglinton Avenue W</td>\n",
       "      <td>{'RestaurantsReservations': 'True', 'GoodForMe...</td>\n",
       "      <td>QXAEGFB4oINsVuTFxEYKFQ</td>\n",
       "      <td>Specialty Food, Restaurants, Dim Sum, Imported...</td>\n",
       "      <td>Mississauga</td>\n",
       "      <td>{'Monday': '9:0-0:0', 'Tuesday': '9:0-0:0', 'W...</td>\n",
       "      <td>1.0</td>\n",
       "      <td>43.605499</td>\n",
       "      <td>-79.652289</td>\n",
       "      <td>Emerald Chinese Restaurant</td>\n",
       "      <td>...</td>\n",
       "      <td>2.5</td>\n",
       "      <td>ON</td>\n",
       "      <td>0.0</td>\n",
       "      <td>2014-05-09 02:38:43</td>\n",
       "      <td>0.0</td>\n",
       "      <td>2pf45Stf-pNew-xgTababQ</td>\n",
       "      <td>1.0</td>\n",
       "      <td>Horrible service,\\nI went there tonight with m...</td>\n",
       "      <td>1.0</td>\n",
       "      <td>lymyUak6KNcNKoDbK87MiQ</td>\n",
       "    </tr>\n",
       "    <tr>\n",
       "      <th>4</th>\n",
       "      <td>30 Eglinton Avenue W</td>\n",
       "      <td>{'RestaurantsReservations': 'True', 'GoodForMe...</td>\n",
       "      <td>QXAEGFB4oINsVuTFxEYKFQ</td>\n",
       "      <td>Specialty Food, Restaurants, Dim Sum, Imported...</td>\n",
       "      <td>Mississauga</td>\n",
       "      <td>{'Monday': '9:0-0:0', 'Tuesday': '9:0-0:0', 'W...</td>\n",
       "      <td>1.0</td>\n",
       "      <td>43.605499</td>\n",
       "      <td>-79.652289</td>\n",
       "      <td>Emerald Chinese Restaurant</td>\n",
       "      <td>...</td>\n",
       "      <td>2.5</td>\n",
       "      <td>ON</td>\n",
       "      <td>2.0</td>\n",
       "      <td>2011-03-21 14:39:55</td>\n",
       "      <td>1.0</td>\n",
       "      <td>RHhlmL07evgAdPaXQV8Omg</td>\n",
       "      <td>4.0</td>\n",
       "      <td>One of the gauges of a good Chinese restaurant...</td>\n",
       "      <td>2.0</td>\n",
       "      <td>6vU0I5XgCv9OQHZ76rV6qw</td>\n",
       "    </tr>\n",
       "  </tbody>\n",
       "</table>\n",
       "<p>5 rows × 22 columns</p>\n",
       "</div>"
      ],
      "text/plain": [
       "                address                                         attributes  \\\n",
       "0  30 Eglinton Avenue W  {'RestaurantsReservations': 'True', 'GoodForMe...   \n",
       "1  30 Eglinton Avenue W  {'RestaurantsReservations': 'True', 'GoodForMe...   \n",
       "2  30 Eglinton Avenue W  {'RestaurantsReservations': 'True', 'GoodForMe...   \n",
       "3  30 Eglinton Avenue W  {'RestaurantsReservations': 'True', 'GoodForMe...   \n",
       "4  30 Eglinton Avenue W  {'RestaurantsReservations': 'True', 'GoodForMe...   \n",
       "\n",
       "              business_id                                         categories  \\\n",
       "0  QXAEGFB4oINsVuTFxEYKFQ  Specialty Food, Restaurants, Dim Sum, Imported...   \n",
       "1  QXAEGFB4oINsVuTFxEYKFQ  Specialty Food, Restaurants, Dim Sum, Imported...   \n",
       "2  QXAEGFB4oINsVuTFxEYKFQ  Specialty Food, Restaurants, Dim Sum, Imported...   \n",
       "3  QXAEGFB4oINsVuTFxEYKFQ  Specialty Food, Restaurants, Dim Sum, Imported...   \n",
       "4  QXAEGFB4oINsVuTFxEYKFQ  Specialty Food, Restaurants, Dim Sum, Imported...   \n",
       "\n",
       "          city                                              hours  is_open  \\\n",
       "0  Mississauga  {'Monday': '9:0-0:0', 'Tuesday': '9:0-0:0', 'W...      1.0   \n",
       "1  Mississauga  {'Monday': '9:0-0:0', 'Tuesday': '9:0-0:0', 'W...      1.0   \n",
       "2  Mississauga  {'Monday': '9:0-0:0', 'Tuesday': '9:0-0:0', 'W...      1.0   \n",
       "3  Mississauga  {'Monday': '9:0-0:0', 'Tuesday': '9:0-0:0', 'W...      1.0   \n",
       "4  Mississauga  {'Monday': '9:0-0:0', 'Tuesday': '9:0-0:0', 'W...      1.0   \n",
       "\n",
       "    latitude  longitude                        name  ... stars_x  state  cool  \\\n",
       "0  43.605499 -79.652289  Emerald Chinese Restaurant  ...     2.5     ON   0.0   \n",
       "1  43.605499 -79.652289  Emerald Chinese Restaurant  ...     2.5     ON   0.0   \n",
       "2  43.605499 -79.652289  Emerald Chinese Restaurant  ...     2.5     ON   0.0   \n",
       "3  43.605499 -79.652289  Emerald Chinese Restaurant  ...     2.5     ON   0.0   \n",
       "4  43.605499 -79.652289  Emerald Chinese Restaurant  ...     2.5     ON   2.0   \n",
       "\n",
       "                  date  funny               review_id  stars_y  \\\n",
       "0  2017-01-27 21:54:30    2.0  6W0MQHmasK0IsaoDo4bmkw      3.0   \n",
       "1  2013-06-24 23:11:30    0.0  BeeBfUxvzD4qNX4HxrgA5g      3.0   \n",
       "2  2016-01-04 12:59:22    0.0  A1D2kUnZ0HTroFreAheNSg      3.0   \n",
       "3  2014-05-09 02:38:43    0.0  2pf45Stf-pNew-xgTababQ      1.0   \n",
       "4  2011-03-21 14:39:55    1.0  RHhlmL07evgAdPaXQV8Omg      4.0   \n",
       "\n",
       "                                                text  useful  \\\n",
       "0  My girlfriend and I went for dinner at Emerald...     3.0   \n",
       "1  We've always been there on a Sunday so we were...     0.0   \n",
       "2  ***No automatic doors, not baby friendly!*** I...     0.0   \n",
       "3  Horrible service,\\nI went there tonight with m...     1.0   \n",
       "4  One of the gauges of a good Chinese restaurant...     2.0   \n",
       "\n",
       "                  user_id  \n",
       "0  2K62MJ4CJ19L8Tp5pRfjfQ  \n",
       "1  A0kENtCCoVT3m7T35zb2Vg  \n",
       "2  SuOLY03LW5ZcnynKhbTydA  \n",
       "3  lymyUak6KNcNKoDbK87MiQ  \n",
       "4  6vU0I5XgCv9OQHZ76rV6qw  \n",
       "\n",
       "[5 rows x 22 columns]"
      ]
     },
     "execution_count": 25,
     "metadata": {},
     "output_type": "execute_result"
    }
   ],
   "source": [
    "r_df.head()"
   ]
  },
  {
   "cell_type": "code",
   "execution_count": 12,
   "metadata": {},
   "outputs": [],
   "source": [
    "# Convert strings in 'categories' column to lists of categories\n",
    "categories = r_df['categories'].str.split(pat = ', ')"
   ]
  },
  {
   "cell_type": "code",
   "execution_count": 22,
   "metadata": {},
   "outputs": [],
   "source": [
    "# Compute the frequency of each individual category in the dataset\n",
    "# From here: https://stackoverflow.com/questions/51813266/get-unique-values-from-pandas-series-of-lists\n",
    "categories_counts = pd.DataFrame.from_dict(Counter(chain(*categories)), orient='index').sort_values(0, ascending=False)"
   ]
  },
  {
   "cell_type": "code",
   "execution_count": 59,
   "metadata": {},
   "outputs": [
    {
     "data": {
      "text/html": [
       "<div>\n",
       "<style scoped>\n",
       "    .dataframe tbody tr th:only-of-type {\n",
       "        vertical-align: middle;\n",
       "    }\n",
       "\n",
       "    .dataframe tbody tr th {\n",
       "        vertical-align: top;\n",
       "    }\n",
       "\n",
       "    .dataframe thead th {\n",
       "        text-align: right;\n",
       "    }\n",
       "</style>\n",
       "<table border=\"1\" class=\"dataframe\">\n",
       "  <thead>\n",
       "    <tr style=\"text-align: right;\">\n",
       "      <th></th>\n",
       "      <th>0</th>\n",
       "    </tr>\n",
       "  </thead>\n",
       "  <tbody>\n",
       "    <tr>\n",
       "      <th>Restaurants</th>\n",
       "      <td>4167461</td>\n",
       "    </tr>\n",
       "    <tr>\n",
       "      <th>Food</th>\n",
       "      <td>1124819</td>\n",
       "    </tr>\n",
       "    <tr>\n",
       "      <th>Nightlife</th>\n",
       "      <td>1003084</td>\n",
       "    </tr>\n",
       "    <tr>\n",
       "      <th>Bars</th>\n",
       "      <td>968677</td>\n",
       "    </tr>\n",
       "    <tr>\n",
       "      <th>American (Traditional)</th>\n",
       "      <td>729756</td>\n",
       "    </tr>\n",
       "    <tr>\n",
       "      <th>American (New)</th>\n",
       "      <td>726153</td>\n",
       "    </tr>\n",
       "    <tr>\n",
       "      <th>Breakfast &amp; Brunch</th>\n",
       "      <td>640900</td>\n",
       "    </tr>\n",
       "    <tr>\n",
       "      <th>Sandwiches</th>\n",
       "      <td>472401</td>\n",
       "    </tr>\n",
       "    <tr>\n",
       "      <th>Mexican</th>\n",
       "      <td>399047</td>\n",
       "    </tr>\n",
       "    <tr>\n",
       "      <th>Burgers</th>\n",
       "      <td>392176</td>\n",
       "    </tr>\n",
       "    <tr>\n",
       "      <th>Pizza</th>\n",
       "      <td>391734</td>\n",
       "    </tr>\n",
       "    <tr>\n",
       "      <th>Italian</th>\n",
       "      <td>389493</td>\n",
       "    </tr>\n",
       "    <tr>\n",
       "      <th>Seafood</th>\n",
       "      <td>341075</td>\n",
       "    </tr>\n",
       "    <tr>\n",
       "      <th>Japanese</th>\n",
       "      <td>307186</td>\n",
       "    </tr>\n",
       "    <tr>\n",
       "      <th>Event Planning &amp; Services</th>\n",
       "      <td>297362</td>\n",
       "    </tr>\n",
       "    <tr>\n",
       "      <th>Chinese</th>\n",
       "      <td>259719</td>\n",
       "    </tr>\n",
       "    <tr>\n",
       "      <th>Sushi Bars</th>\n",
       "      <td>252360</td>\n",
       "    </tr>\n",
       "    <tr>\n",
       "      <th>Salad</th>\n",
       "      <td>247943</td>\n",
       "    </tr>\n",
       "    <tr>\n",
       "      <th>Steakhouses</th>\n",
       "      <td>241959</td>\n",
       "    </tr>\n",
       "    <tr>\n",
       "      <th>Asian Fusion</th>\n",
       "      <td>238782</td>\n",
       "    </tr>\n",
       "    <tr>\n",
       "      <th>Fast Food</th>\n",
       "      <td>228951</td>\n",
       "    </tr>\n",
       "    <tr>\n",
       "      <th>Coffee &amp; Tea</th>\n",
       "      <td>224074</td>\n",
       "    </tr>\n",
       "    <tr>\n",
       "      <th>Cafes</th>\n",
       "      <td>214062</td>\n",
       "    </tr>\n",
       "    <tr>\n",
       "      <th>Desserts</th>\n",
       "      <td>194746</td>\n",
       "    </tr>\n",
       "    <tr>\n",
       "      <th>Barbeque</th>\n",
       "      <td>171805</td>\n",
       "    </tr>\n",
       "  </tbody>\n",
       "</table>\n",
       "</div>"
      ],
      "text/plain": [
       "                                 0\n",
       "Restaurants                4167461\n",
       "Food                       1124819\n",
       "Nightlife                  1003084\n",
       "Bars                        968677\n",
       "American (Traditional)      729756\n",
       "American (New)              726153\n",
       "Breakfast & Brunch          640900\n",
       "Sandwiches                  472401\n",
       "Mexican                     399047\n",
       "Burgers                     392176\n",
       "Pizza                       391734\n",
       "Italian                     389493\n",
       "Seafood                     341075\n",
       "Japanese                    307186\n",
       "Event Planning & Services   297362\n",
       "Chinese                     259719\n",
       "Sushi Bars                  252360\n",
       "Salad                       247943\n",
       "Steakhouses                 241959\n",
       "Asian Fusion                238782\n",
       "Fast Food                   228951\n",
       "Coffee & Tea                224074\n",
       "Cafes                       214062\n",
       "Desserts                    194746\n",
       "Barbeque                    171805"
      ]
     },
     "execution_count": 59,
     "metadata": {},
     "output_type": "execute_result"
    }
   ],
   "source": [
    "categories_counts.head(25)"
   ]
  },
  {
   "cell_type": "code",
   "execution_count": 69,
   "metadata": {},
   "outputs": [],
   "source": [
    "# Dataframe with only restaurants in a 'Sushi Bars' category\n",
    "sushi_r_df = r_df[r_df['categories'].str.contains('Sushi Bars')]"
   ]
  },
  {
   "cell_type": "code",
   "execution_count": 67,
   "metadata": {},
   "outputs": [],
   "source": [
    "# Dataframe with only restaurants in a 'Mexican' category\n",
    "mexican_r_df = r_df[r_df['categories'].str.contains('Mexican')]"
   ]
  },
  {
   "cell_type": "code",
   "execution_count": 89,
   "metadata": {},
   "outputs": [
    {
     "data": {
      "image/png": "[encoded data removed]",
      "text/plain": [
       "<Figure size 432x288 with 1 Axes>"
      ]
     },
     "metadata": {
      "needs_background": "light"
     },
     "output_type": "display_data"
    }
   ],
   "source": [
    "# Plot total number/frequency of each star rating\n",
    "_ = sushi_r_df.stars_y.value_counts().sort_index().plot.bar()\n",
    "_ = plt.xlabel('Number of Stars', fontsize='large')\n",
    "_ = plt.ylabel('Frequency', fontsize='large')\n",
    "_ = plt.title('Most Star Ratings for Sushi Bars are 4 or 5', fontsize='xx-large')\n",
    "\n",
    "plt.show()"
   ]
  },
  {
   "cell_type": "code",
   "execution_count": 90,
   "metadata": {},
   "outputs": [
    {
     "data": {
      "image/png": "[encoded data removed]",
      "text/plain": [
       "<Figure size 432x288 with 1 Axes>"
      ]
     },
     "metadata": {
      "needs_background": "light"
     },
     "output_type": "display_data"
    }
   ],
   "source": [
    "# Plot total number/frequency of each star rating\n",
    "_ = mexican_r_df.stars_y.value_counts().sort_index().plot.bar()\n",
    "_ = plt.xlabel('Number of Stars', fontsize='large')\n",
    "_ = plt.ylabel('Frequency', fontsize='large')\n",
    "_ = plt.title('Most Star Ratings for Mexican Restaurants are 4 or 5', fontsize='xx-large')\n",
    "\n",
    "plt.show()"
   ]
  },
  {
   "cell_type": "markdown",
   "metadata": {},
   "source": [
    "Let's work with samples of size 100_000 to ensure that we are analyzing datasets of the same size."
   ]
  },
  {
   "cell_type": "code",
   "execution_count": 91,
   "metadata": {},
   "outputs": [],
   "source": [
    "sushi_r_df_sample = sushi_r_df.sample(n=100_000, random_state=7)"
   ]
  },
  {
   "cell_type": "code",
   "execution_count": 92,
   "metadata": {},
   "outputs": [],
   "source": [
    "mexican_r_df_sample = mexican_r_df.sample(n=100_000, random_state=7)"
   ]
  },
  {
   "cell_type": "code",
   "execution_count": 96,
   "metadata": {},
   "outputs": [
    {
     "data": {
      "text/plain": [
       "3.78071"
      ]
     },
     "execution_count": 96,
     "metadata": {},
     "output_type": "execute_result"
    }
   ],
   "source": [
    "# Compute mean stars for Sushi Bars\n",
    "sushi_r_df_sample.stars_y.mean()"
   ]
  },
  {
   "cell_type": "code",
   "execution_count": 97,
   "metadata": {},
   "outputs": [
    {
     "data": {
      "text/plain": [
       "3.69819"
      ]
     },
     "execution_count": 97,
     "metadata": {},
     "output_type": "execute_result"
    }
   ],
   "source": [
    "# Compute mean stars for Mexican\n",
    "mexican_r_df_sample.stars_y.mean()"
   ]
  },
  {
   "cell_type": "code",
   "execution_count": 98,
   "metadata": {},
   "outputs": [
    {
     "name": "stdout",
     "output_type": "stream",
     "text": [
      "\n",
      "\n"
     ]
    },
    {
     "data": {
      "text/html": [
       "<div>\n",
       "<style scoped>\n",
       "    .dataframe tbody tr th:only-of-type {\n",
       "        vertical-align: middle;\n",
       "    }\n",
       "\n",
       "    .dataframe tbody tr th {\n",
       "        vertical-align: top;\n",
       "    }\n",
       "\n",
       "    .dataframe thead th {\n",
       "        text-align: right;\n",
       "    }\n",
       "</style>\n",
       "<table border=\"1\" class=\"dataframe\">\n",
       "  <thead>\n",
       "    <tr style=\"text-align: right;\">\n",
       "      <th></th>\n",
       "      <th>Variable</th>\n",
       "      <th>N</th>\n",
       "      <th>Mean</th>\n",
       "      <th>SD</th>\n",
       "      <th>SE</th>\n",
       "      <th>95% Conf.</th>\n",
       "      <th>Interval</th>\n",
       "    </tr>\n",
       "  </thead>\n",
       "  <tbody>\n",
       "    <tr>\n",
       "      <th>0</th>\n",
       "      <td>stars_y</td>\n",
       "      <td>100000.0</td>\n",
       "      <td>3.78071</td>\n",
       "      <td>1.351185</td>\n",
       "      <td>0.004273</td>\n",
       "      <td>3.772335</td>\n",
       "      <td>3.789085</td>\n",
       "    </tr>\n",
       "  </tbody>\n",
       "</table>\n",
       "</div>"
      ],
      "text/plain": [
       "  Variable         N     Mean        SD        SE  95% Conf.  Interval\n",
       "0  stars_y  100000.0  3.78071  1.351185  0.004273   3.772335  3.789085"
      ]
     },
     "execution_count": 98,
     "metadata": {},
     "output_type": "execute_result"
    }
   ],
   "source": [
    "# Data table includes the total number of non-missing observations, standard deviation, standard error,\n",
    "# and the 95% confidence interval.\n",
    "rp.summary_cont(sushi_r_df_sample.stars_y)"
   ]
  },
  {
   "cell_type": "code",
   "execution_count": 99,
   "metadata": {},
   "outputs": [
    {
     "name": "stdout",
     "output_type": "stream",
     "text": [
      "\n",
      "\n"
     ]
    },
    {
     "data": {
      "text/html": [
       "<div>\n",
       "<style scoped>\n",
       "    .dataframe tbody tr th:only-of-type {\n",
       "        vertical-align: middle;\n",
       "    }\n",
       "\n",
       "    .dataframe tbody tr th {\n",
       "        vertical-align: top;\n",
       "    }\n",
       "\n",
       "    .dataframe thead th {\n",
       "        text-align: right;\n",
       "    }\n",
       "</style>\n",
       "<table border=\"1\" class=\"dataframe\">\n",
       "  <thead>\n",
       "    <tr style=\"text-align: right;\">\n",
       "      <th></th>\n",
       "      <th>Variable</th>\n",
       "      <th>N</th>\n",
       "      <th>Mean</th>\n",
       "      <th>SD</th>\n",
       "      <th>SE</th>\n",
       "      <th>95% Conf.</th>\n",
       "      <th>Interval</th>\n",
       "    </tr>\n",
       "  </thead>\n",
       "  <tbody>\n",
       "    <tr>\n",
       "      <th>0</th>\n",
       "      <td>stars_y</td>\n",
       "      <td>100000.0</td>\n",
       "      <td>3.69819</td>\n",
       "      <td>1.416341</td>\n",
       "      <td>0.004479</td>\n",
       "      <td>3.689411</td>\n",
       "      <td>3.706969</td>\n",
       "    </tr>\n",
       "  </tbody>\n",
       "</table>\n",
       "</div>"
      ],
      "text/plain": [
       "  Variable         N     Mean        SD        SE  95% Conf.  Interval\n",
       "0  stars_y  100000.0  3.69819  1.416341  0.004479   3.689411  3.706969"
      ]
     },
     "execution_count": 99,
     "metadata": {},
     "output_type": "execute_result"
    }
   ],
   "source": [
    "# Data table includes the total number of non-missing observations, standard deviation, standard error,\n",
    "# and the 95% confidence interval.\n",
    "rp.summary_cont(mexican_r_df_sample.stars_y)"
   ]
  },
  {
   "cell_type": "markdown",
   "metadata": {},
   "source": [
    "**Null Hypothesis:** The mean star rating is the same for Sushi Bars and Mexican Restaurants.  \n",
    "**Alternative Hypothesis:** The mean star rating is *not* the same for Sushi Bars and Mexican Restaurants\n",
    "\n",
    "**alpha:** We will set alpha at 0.05, and thus conclude that a p-value less than or equal to 0.05 is statistically significant."
   ]
  },
  {
   "cell_type": "code",
   "execution_count": 100,
   "metadata": {},
   "outputs": [],
   "source": [
    "# Set significance level\n",
    "alpha = 0.05"
   ]
  },
  {
   "cell_type": "code",
   "execution_count": 105,
   "metadata": {},
   "outputs": [],
   "source": [
    "# Define function to perform t-tests\n",
    "def t_test(data1, data2, equal_var=True):\n",
    "    '''Computes T-statistic, p-value, and 95% Confidence Interval'''\n",
    "    # Compute T-statistic and p-value\n",
    "    result = stats.ttest_ind(data1, data2, equal_var=equal_var)\n",
    "    # Compute 95% confidence interval\n",
    "    # See here: https://stackoverflow.com/questions/31768464/confidence-interval-for-t-test-difference-between-means-in-python\n",
    "    confidence_interval = sms.CompareMeans(sms.DescrStatsW(data1), sms.DescrStatsW(data2)).tconfint_diff()\n",
    "    if result[1] <= alpha:\n",
    "        print('T-statistic: ', result[0])\n",
    "        print('p-value: ', result[1])\n",
    "        print('95% Confidence Interval: ', confidence_interval)\n",
    "        print('The difference is statistically significant.')\n",
    "    else:\n",
    "        print('T-statistic: ', result[0])\n",
    "        print('p-value: ', result[1])\n",
    "        print('95% Confidence Interval: ', confidence_interval)\n",
    "        print('The difference is not statistically significant.')"
   ]
  },
  {
   "cell_type": "code",
   "execution_count": 104,
   "metadata": {},
   "outputs": [
    {
     "name": "stdout",
     "output_type": "stream",
     "text": [
      "T-statistic:  13.330986336154858\n",
      "p-value:  1.5909949135656546e-40\n",
      "95% Confidence Interval:  (0.07038757388083748, 0.09465242611916282)\n",
      "The difference is statistically significant.\n"
     ]
    }
   ],
   "source": [
    "# We set equal_var to False and hence perform Welch's t-test since the variances of the samples are unequal.\n",
    "t_test(sushi_r_df_sample.stars_y, mexican_r_df_sample.stars_y, equal_var=False)"
   ]
  },
  {
   "cell_type": "markdown",
   "metadata": {},
   "source": [
    "The p-value is below our alpha, so we can reasonably reject the null hypothesis and conclude that the difference in mean star rating observed between Sushi Bars and Mexican Restaurants is\n",
    "statistically significant."
   ]
  }
 ],
 "metadata": {
  "kernelspec": {
   "display_name": "Python 3",
   "language": "python",
   "name": "python3"
  },
  "language_info": {
   "codemirror_mode": {
    "name": "ipython",
    "version": 3
   },
   "file_extension": ".py",
   "mimetype": "text/x-python",
   "name": "python",
   "nbconvert_exporter": "python",
   "pygments_lexer": "ipython3",
   "version": "3.7.3"
  }
 },
 "nbformat": 4,
 "nbformat_minor": 2
}
