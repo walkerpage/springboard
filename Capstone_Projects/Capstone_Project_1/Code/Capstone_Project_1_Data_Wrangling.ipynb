{
 "cells": [
  {
   "cell_type": "code",
   "execution_count": 10,
   "metadata": {},
   "outputs": [],
   "source": [
    "import json\n",
    "import pandas as pd\n",
    "import numpy as np\n",
    "import matplotlib.pyplot as plt\n",
    "import seaborn as sns"
   ]
  },
  {
   "cell_type": "markdown",
   "metadata": {},
   "source": [
    "There are two data sets that are relevant for this project. The first contains information about businesses. The second contains review information of those businesses.\n",
    "Documentation for these data sets can be found [here](https://www.yelp.com/dataset/documentation/main)."
   ]
  },
  {
   "cell_type": "code",
   "execution_count": 2,
   "metadata": {},
   "outputs": [],
   "source": [
    "# assign variable to business data\n",
    "b_data = '/Users/dwalkerpage/Documents/Data_Science/Springboard/Projects/springboard/Capstone_Project_1_Data/yelp_dataset/business.json'\n",
    "\n",
    "# assign variable to review data\n",
    "rev_data = '/Users/dwalkerpage/Documents/Data_Science/Springboard/Projects/springboard/Capstone_Project_1_Data/yelp_dataset/review.json'"
   ]
  },
  {
   "cell_type": "markdown",
   "metadata": {},
   "source": [
    "# Explore and Clean Business Data #\n",
    "Goals include:\n",
    "1. Determine what kinds of businesses are included in the data.\n",
    "2. Depending on results from 1, extract a subset of data that includes only restaurants."
   ]
  },
  {
   "cell_type": "code",
   "execution_count": 3,
   "metadata": {},
   "outputs": [
    {
     "data": {
      "text/html": [
       "<div>\n",
       "<style scoped>\n",
       "    .dataframe tbody tr th:only-of-type {\n",
       "        vertical-align: middle;\n",
       "    }\n",
       "\n",
       "    .dataframe tbody tr th {\n",
       "        vertical-align: top;\n",
       "    }\n",
       "\n",
       "    .dataframe thead th {\n",
       "        text-align: right;\n",
       "    }\n",
       "</style>\n",
       "<table border=\"1\" class=\"dataframe\">\n",
       "  <thead>\n",
       "    <tr style=\"text-align: right;\">\n",
       "      <th></th>\n",
       "      <th>address</th>\n",
       "      <th>attributes</th>\n",
       "      <th>business_id</th>\n",
       "      <th>categories</th>\n",
       "      <th>city</th>\n",
       "      <th>hours</th>\n",
       "      <th>is_open</th>\n",
       "      <th>latitude</th>\n",
       "      <th>longitude</th>\n",
       "      <th>name</th>\n",
       "      <th>postal_code</th>\n",
       "      <th>review_count</th>\n",
       "      <th>stars</th>\n",
       "      <th>state</th>\n",
       "    </tr>\n",
       "  </thead>\n",
       "  <tbody>\n",
       "    <tr>\n",
       "      <th>0</th>\n",
       "      <td>2818 E Camino Acequia Drive</td>\n",
       "      <td>{'GoodForKids': 'False'}</td>\n",
       "      <td>1SWheh84yJXfytovILXOAQ</td>\n",
       "      <td>Golf, Active Life</td>\n",
       "      <td>Phoenix</td>\n",
       "      <td>None</td>\n",
       "      <td>0</td>\n",
       "      <td>33.522143</td>\n",
       "      <td>-112.018481</td>\n",
       "      <td>Arizona Biltmore Golf Club</td>\n",
       "      <td>85016</td>\n",
       "      <td>5</td>\n",
       "      <td>3.0</td>\n",
       "      <td>AZ</td>\n",
       "    </tr>\n",
       "    <tr>\n",
       "      <th>1</th>\n",
       "      <td>30 Eglinton Avenue W</td>\n",
       "      <td>{'RestaurantsReservations': 'True', 'GoodForMe...</td>\n",
       "      <td>QXAEGFB4oINsVuTFxEYKFQ</td>\n",
       "      <td>Specialty Food, Restaurants, Dim Sum, Imported...</td>\n",
       "      <td>Mississauga</td>\n",
       "      <td>{'Monday': '9:0-0:0', 'Tuesday': '9:0-0:0', 'W...</td>\n",
       "      <td>1</td>\n",
       "      <td>43.605499</td>\n",
       "      <td>-79.652289</td>\n",
       "      <td>Emerald Chinese Restaurant</td>\n",
       "      <td>L5R 3E7</td>\n",
       "      <td>128</td>\n",
       "      <td>2.5</td>\n",
       "      <td>ON</td>\n",
       "    </tr>\n",
       "    <tr>\n",
       "      <th>2</th>\n",
       "      <td>10110 Johnston Rd, Ste 15</td>\n",
       "      <td>{'GoodForKids': 'True', 'NoiseLevel': 'u'avera...</td>\n",
       "      <td>gnKjwL_1w79qoiV3IC_xQQ</td>\n",
       "      <td>Sushi Bars, Restaurants, Japanese</td>\n",
       "      <td>Charlotte</td>\n",
       "      <td>{'Monday': '17:30-21:30', 'Wednesday': '17:30-...</td>\n",
       "      <td>1</td>\n",
       "      <td>35.092564</td>\n",
       "      <td>-80.859132</td>\n",
       "      <td>Musashi Japanese Restaurant</td>\n",
       "      <td>28210</td>\n",
       "      <td>170</td>\n",
       "      <td>4.0</td>\n",
       "      <td>NC</td>\n",
       "    </tr>\n",
       "    <tr>\n",
       "      <th>3</th>\n",
       "      <td>15655 W Roosevelt St, Ste 237</td>\n",
       "      <td>None</td>\n",
       "      <td>xvX2CttrVhyG2z1dFg_0xw</td>\n",
       "      <td>Insurance, Financial Services</td>\n",
       "      <td>Goodyear</td>\n",
       "      <td>{'Monday': '8:0-17:0', 'Tuesday': '8:0-17:0', ...</td>\n",
       "      <td>1</td>\n",
       "      <td>33.455613</td>\n",
       "      <td>-112.395596</td>\n",
       "      <td>Farmers Insurance - Paul Lorenz</td>\n",
       "      <td>85338</td>\n",
       "      <td>3</td>\n",
       "      <td>5.0</td>\n",
       "      <td>AZ</td>\n",
       "    </tr>\n",
       "    <tr>\n",
       "      <th>4</th>\n",
       "      <td>4209 Stuart Andrew Blvd, Ste F</td>\n",
       "      <td>{'BusinessAcceptsBitcoin': 'False', 'ByAppoint...</td>\n",
       "      <td>HhyxOkGAM07SRYtlQ4wMFQ</td>\n",
       "      <td>Plumbing, Shopping, Local Services, Home Servi...</td>\n",
       "      <td>Charlotte</td>\n",
       "      <td>{'Monday': '7:0-23:0', 'Tuesday': '7:0-23:0', ...</td>\n",
       "      <td>1</td>\n",
       "      <td>35.190012</td>\n",
       "      <td>-80.887223</td>\n",
       "      <td>Queen City Plumbing</td>\n",
       "      <td>28217</td>\n",
       "      <td>4</td>\n",
       "      <td>4.0</td>\n",
       "      <td>NC</td>\n",
       "    </tr>\n",
       "  </tbody>\n",
       "</table>\n",
       "</div>"
      ],
      "text/plain": [
       "                          address  \\\n",
       "0     2818 E Camino Acequia Drive   \n",
       "1            30 Eglinton Avenue W   \n",
       "2       10110 Johnston Rd, Ste 15   \n",
       "3   15655 W Roosevelt St, Ste 237   \n",
       "4  4209 Stuart Andrew Blvd, Ste F   \n",
       "\n",
       "                                          attributes             business_id  \\\n",
       "0                           {'GoodForKids': 'False'}  1SWheh84yJXfytovILXOAQ   \n",
       "1  {'RestaurantsReservations': 'True', 'GoodForMe...  QXAEGFB4oINsVuTFxEYKFQ   \n",
       "2  {'GoodForKids': 'True', 'NoiseLevel': 'u'avera...  gnKjwL_1w79qoiV3IC_xQQ   \n",
       "3                                               None  xvX2CttrVhyG2z1dFg_0xw   \n",
       "4  {'BusinessAcceptsBitcoin': 'False', 'ByAppoint...  HhyxOkGAM07SRYtlQ4wMFQ   \n",
       "\n",
       "                                          categories         city  \\\n",
       "0                                  Golf, Active Life      Phoenix   \n",
       "1  Specialty Food, Restaurants, Dim Sum, Imported...  Mississauga   \n",
       "2                  Sushi Bars, Restaurants, Japanese    Charlotte   \n",
       "3                      Insurance, Financial Services     Goodyear   \n",
       "4  Plumbing, Shopping, Local Services, Home Servi...    Charlotte   \n",
       "\n",
       "                                               hours  is_open   latitude  \\\n",
       "0                                               None        0  33.522143   \n",
       "1  {'Monday': '9:0-0:0', 'Tuesday': '9:0-0:0', 'W...        1  43.605499   \n",
       "2  {'Monday': '17:30-21:30', 'Wednesday': '17:30-...        1  35.092564   \n",
       "3  {'Monday': '8:0-17:0', 'Tuesday': '8:0-17:0', ...        1  33.455613   \n",
       "4  {'Monday': '7:0-23:0', 'Tuesday': '7:0-23:0', ...        1  35.190012   \n",
       "\n",
       "    longitude                             name postal_code  review_count  \\\n",
       "0 -112.018481       Arizona Biltmore Golf Club       85016             5   \n",
       "1  -79.652289       Emerald Chinese Restaurant     L5R 3E7           128   \n",
       "2  -80.859132      Musashi Japanese Restaurant       28210           170   \n",
       "3 -112.395596  Farmers Insurance - Paul Lorenz       85338             3   \n",
       "4  -80.887223              Queen City Plumbing       28217             4   \n",
       "\n",
       "   stars state  \n",
       "0    3.0    AZ  \n",
       "1    2.5    ON  \n",
       "2    4.0    NC  \n",
       "3    5.0    AZ  \n",
       "4    4.0    NC  "
      ]
     },
     "execution_count": 3,
     "metadata": {},
     "output_type": "execute_result"
    }
   ],
   "source": [
    "# load business data as DataFrame\n",
    "b_df = pd.read_json(b_data, lines=True)\n",
    "b_df.head()"
   ]
  },
  {
   "cell_type": "code",
   "execution_count": 4,
   "metadata": {},
   "outputs": [
    {
     "data": {
      "text/plain": [
       "(192609, 14)"
      ]
     },
     "execution_count": 4,
     "metadata": {},
     "output_type": "execute_result"
    }
   ],
   "source": [
    "b_df.shape"
   ]
  },
  {
   "cell_type": "code",
   "execution_count": 5,
   "metadata": {},
   "outputs": [
    {
     "name": "stdout",
     "output_type": "stream",
     "text": [
      "<class 'pandas.core.frame.DataFrame'>\n",
      "RangeIndex: 192609 entries, 0 to 192608\n",
      "Data columns (total 14 columns):\n",
      "address         192609 non-null object\n",
      "attributes      163773 non-null object\n",
      "business_id     192609 non-null object\n",
      "categories      192127 non-null object\n",
      "city            192609 non-null object\n",
      "hours           147779 non-null object\n",
      "is_open         192609 non-null int64\n",
      "latitude        192609 non-null float64\n",
      "longitude       192609 non-null float64\n",
      "name            192609 non-null object\n",
      "postal_code     192609 non-null object\n",
      "review_count    192609 non-null int64\n",
      "stars           192609 non-null float64\n",
      "state           192609 non-null object\n",
      "dtypes: float64(3), int64(2), object(9)\n",
      "memory usage: 20.6+ MB\n"
     ]
    }
   ],
   "source": [
    "b_df.info()"
   ]
  },
  {
   "cell_type": "markdown",
   "metadata": {},
   "source": [
    "Since several of the columns are irrelevant for present purposes, I will remove them from the DataFrame and keep only those columns that will likely be relevant."
   ]
  },
  {
   "cell_type": "code",
   "execution_count": 6,
   "metadata": {
    "scrolled": true
   },
   "outputs": [
    {
     "data": {
      "text/html": [
       "<div>\n",
       "<style scoped>\n",
       "    .dataframe tbody tr th:only-of-type {\n",
       "        vertical-align: middle;\n",
       "    }\n",
       "\n",
       "    .dataframe tbody tr th {\n",
       "        vertical-align: top;\n",
       "    }\n",
       "\n",
       "    .dataframe thead th {\n",
       "        text-align: right;\n",
       "    }\n",
       "</style>\n",
       "<table border=\"1\" class=\"dataframe\">\n",
       "  <thead>\n",
       "    <tr style=\"text-align: right;\">\n",
       "      <th></th>\n",
       "      <th>business_id</th>\n",
       "      <th>categories</th>\n",
       "      <th>review_count</th>\n",
       "      <th>stars</th>\n",
       "    </tr>\n",
       "  </thead>\n",
       "  <tbody>\n",
       "    <tr>\n",
       "      <th>0</th>\n",
       "      <td>1SWheh84yJXfytovILXOAQ</td>\n",
       "      <td>Golf, Active Life</td>\n",
       "      <td>5</td>\n",
       "      <td>3.0</td>\n",
       "    </tr>\n",
       "    <tr>\n",
       "      <th>1</th>\n",
       "      <td>QXAEGFB4oINsVuTFxEYKFQ</td>\n",
       "      <td>Specialty Food, Restaurants, Dim Sum, Imported...</td>\n",
       "      <td>128</td>\n",
       "      <td>2.5</td>\n",
       "    </tr>\n",
       "    <tr>\n",
       "      <th>2</th>\n",
       "      <td>gnKjwL_1w79qoiV3IC_xQQ</td>\n",
       "      <td>Sushi Bars, Restaurants, Japanese</td>\n",
       "      <td>170</td>\n",
       "      <td>4.0</td>\n",
       "    </tr>\n",
       "    <tr>\n",
       "      <th>3</th>\n",
       "      <td>xvX2CttrVhyG2z1dFg_0xw</td>\n",
       "      <td>Insurance, Financial Services</td>\n",
       "      <td>3</td>\n",
       "      <td>5.0</td>\n",
       "    </tr>\n",
       "    <tr>\n",
       "      <th>4</th>\n",
       "      <td>HhyxOkGAM07SRYtlQ4wMFQ</td>\n",
       "      <td>Plumbing, Shopping, Local Services, Home Servi...</td>\n",
       "      <td>4</td>\n",
       "      <td>4.0</td>\n",
       "    </tr>\n",
       "  </tbody>\n",
       "</table>\n",
       "</div>"
      ],
      "text/plain": [
       "              business_id                                         categories  \\\n",
       "0  1SWheh84yJXfytovILXOAQ                                  Golf, Active Life   \n",
       "1  QXAEGFB4oINsVuTFxEYKFQ  Specialty Food, Restaurants, Dim Sum, Imported...   \n",
       "2  gnKjwL_1w79qoiV3IC_xQQ                  Sushi Bars, Restaurants, Japanese   \n",
       "3  xvX2CttrVhyG2z1dFg_0xw                      Insurance, Financial Services   \n",
       "4  HhyxOkGAM07SRYtlQ4wMFQ  Plumbing, Shopping, Local Services, Home Servi...   \n",
       "\n",
       "   review_count  stars  \n",
       "0             5    3.0  \n",
       "1           128    2.5  \n",
       "2           170    4.0  \n",
       "3             3    5.0  \n",
       "4             4    4.0  "
      ]
     },
     "execution_count": 6,
     "metadata": {},
     "output_type": "execute_result"
    }
   ],
   "source": [
    "# remove irrelevant columns\n",
    "b_df = b_df[['business_id', 'categories', 'review_count', 'stars']]\n",
    "b_df.head()"
   ]
  },
  {
   "cell_type": "code",
   "execution_count": 7,
   "metadata": {},
   "outputs": [
    {
     "data": {
      "text/plain": [
       "'Golf, Active Life'"
      ]
     },
     "execution_count": 7,
     "metadata": {},
     "output_type": "execute_result"
    }
   ],
   "source": [
    "b_df.categories[0]"
   ]
  },
  {
   "cell_type": "markdown",
   "metadata": {},
   "source": [
    "The most important finding is that there are business categories included in the data besides restaurants (see above), so I need to filter the categories to include only relevant ones."
   ]
  },
  {
   "cell_type": "markdown",
   "metadata": {},
   "source": [
    "First, let's try to get an idea of what categories are included in the data."
   ]
  },
  {
   "cell_type": "code",
   "execution_count": 8,
   "metadata": {},
   "outputs": [
    {
     "data": {
      "text/plain": [
       "str"
      ]
     },
     "execution_count": 8,
     "metadata": {},
     "output_type": "execute_result"
    }
   ],
   "source": [
    "type(b_df.categories[0])"
   ]
  },
  {
   "cell_type": "markdown",
   "metadata": {},
   "source": [
    "Since the values in the categories are strings with multiple categories included in each individual string, it will be helpful to reformat the values as lists of strings with each individual string representing a single category. This will allow us to (1) inspect the individual categories, and (2) count the number of each category to get an idea of how many of the businesses are restaurants."
   ]
  },
  {
   "cell_type": "code",
   "execution_count": 9,
   "metadata": {},
   "outputs": [
    {
     "data": {
      "text/plain": [
       "0                                  [Golf, Active Life]\n",
       "1    [Specialty Food, Restaurants, Dim Sum, Importe...\n",
       "2                  [Sushi Bars, Restaurants, Japanese]\n",
       "3                      [Insurance, Financial Services]\n",
       "4    [Plumbing, Shopping, Local Services, Home Serv...\n",
       "Name: categories, dtype: object"
      ]
     },
     "execution_count": 9,
     "metadata": {},
     "output_type": "execute_result"
    }
   ],
   "source": [
    "# convert each string of categories to a list of strings\n",
    "# with each string representing a single category\n",
    "b_df['categories'] = b_df['categories'].str.split(pat = ', ')\n",
    "b_df.categories.head()"
   ]
  },
  {
   "cell_type": "code",
   "execution_count": 10,
   "metadata": {},
   "outputs": [
    {
     "data": {
      "text/plain": [
       "Restaurants                  59371\n",
       "Shopping                     31878\n",
       "Food                         29989\n",
       "Home Services                19729\n",
       "Beauty & Spas                19370\n",
       "Health & Medical             17171\n",
       "Local Services               13932\n",
       "Automotive                   13203\n",
       "Nightlife                    13095\n",
       "Bars                         11341\n",
       "Event Planning & Services    10371\n",
       "Active Life                   9521\n",
       "Fashion                       7798\n",
       "Sandwiches                    7332\n",
       "Coffee & Tea                  7321\n",
       "Fast Food                     7257\n",
       "American (Traditional)        7107\n",
       "Hair Salons                   6955\n",
       "Pizza                         6804\n",
       "Home & Garden                 6489\n",
       "Arts & Entertainment          6304\n",
       "Professional Services         6276\n",
       "Auto Repair                   6140\n",
       "Hotels & Travel               6033\n",
       "Doctors                       5867\n",
       "Real Estate                   5677\n",
       "Burgers                       5404\n",
       "Breakfast & Brunch            5381\n",
       "Nail Salons                   5043\n",
       "Specialty Food                4883\n",
       "                             ...  \n",
       "Medical Foot Care                1\n",
       "Tempura                          1\n",
       "Oaxacan                          1\n",
       "Island Pub                       1\n",
       "Drive-Thru Bars                  1\n",
       "Studio Taping                    1\n",
       "Minho                            1\n",
       "Calligraphy                      1\n",
       "Dialysis Clinics                 1\n",
       "Milkshake Bars                   1\n",
       "Rotisserie Chicken               1\n",
       "Churros                          1\n",
       "Hainan                           1\n",
       "Senegalese                       1\n",
       "Bocce Ball                       1\n",
       "Geneticists                      1\n",
       "Osteopaths                       1\n",
       "Backshop                         1\n",
       "Tonkatsu                         1\n",
       "Beach Volleyball                 1\n",
       "Christmas Markets                1\n",
       "Bulgarian                        1\n",
       "Japanese Sweets                  1\n",
       "Market Stalls                    1\n",
       "Beer Hall                        1\n",
       "Court Reporters                  1\n",
       "Czech/Slovakian                  1\n",
       "Hang Gliding                     1\n",
       "Halfway Houses                   1\n",
       "Customs Brokers                  1\n",
       "Length: 1300, dtype: int64"
      ]
     },
     "execution_count": 10,
     "metadata": {},
     "output_type": "execute_result"
    }
   ],
   "source": [
    "# count number of each category\n",
    "cat_count = b_df['categories'].apply(pd.Series).stack().value_counts()\n",
    "cat_count"
   ]
  },
  {
   "cell_type": "code",
   "execution_count": 11,
   "metadata": {},
   "outputs": [
    {
     "data": {
      "text/plain": [
       "(1300,)"
      ]
     },
     "execution_count": 11,
     "metadata": {},
     "output_type": "execute_result"
    }
   ],
   "source": [
    "cat_count.shape"
   ]
  },
  {
   "cell_type": "markdown",
   "metadata": {},
   "source": [
    "It might be helpful to visualize the category counts, but since there are 1300 separate categories (see above) the visualization will probably be more helpful if we limit how many categories we visualize. Let's visualize the 50 most common categories."
   ]
  },
  {
   "cell_type": "code",
   "execution_count": 40,
   "metadata": {},
   "outputs": [
    {
     "data": {
      "text/plain": [
       "<matplotlib.axes._subplots.AxesSubplot at 0x1a242ee978>"
      ]
     },
     "execution_count": 40,
     "metadata": {},
     "output_type": "execute_result"
    },
    {
     "data": {
      "image/png": "[encoded data removed]",
      "text/plain": [
       "<Figure size 1440x1080 with 1 Axes>"
      ]
     },
     "metadata": {
      "needs_background": "light"
     },
     "output_type": "display_data"
    }
   ],
   "source": [
    "# construct bar plot of 50 most common categories\n",
    "cat_count_plot = sns.barplot(cat_count.head(50).index, cat_count.head(50).values, color='gray')\n",
    "\n",
    "# fix x-axis labels so they are readable\n",
    "cat_count_plot.set_xticklabels(cat_count_plot.get_xticklabels(), rotation=90)\n",
    "\n",
    "# plot the graph\n",
    "cat_count_plot"
   ]
  },
  {
   "cell_type": "markdown",
   "metadata": {},
   "source": [
    "The visualization clearly shows that there are many categories besides 'Restaurants'. I now want to construct a separate DataFrame composed only of the Restaurants data. To do this, I first need to check for and remove any null values in the 'categories' column because I cannot iterate through null values in the 'categories' column."
   ]
  },
  {
   "cell_type": "code",
   "execution_count": 13,
   "metadata": {},
   "outputs": [
    {
     "name": "stdout",
     "output_type": "stream",
     "text": [
      "There are 482 null values in the categories column.\n"
     ]
    }
   ],
   "source": [
    "# check for null values in 'categories' column\n",
    "print('There are {} null values in the categories column.'.format(pd.isna(b_df['categories']).sum()))"
   ]
  },
  {
   "cell_type": "code",
   "execution_count": 14,
   "metadata": {},
   "outputs": [
    {
     "name": "stdout",
     "output_type": "stream",
     "text": [
      "There are 0 null values in the categories column.\n"
     ]
    }
   ],
   "source": [
    "# remove any null values in 'categories' column\n",
    "b_df = b_df.loc[~pd.isna(b_df['categories'])]\n",
    "\n",
    "# check again for null values in 'categories' column\n",
    "print('There are {} null values in the categories column.'.format(pd.isna(b_df['categories']).sum()))"
   ]
  },
  {
   "cell_type": "code",
   "execution_count": 15,
   "metadata": {},
   "outputs": [
    {
     "name": "stdout",
     "output_type": "stream",
     "text": [
      "All businesses are restaurants.\n"
     ]
    }
   ],
   "source": [
    "# construct DataFrame composed only of businesses in the 'Restaurants' category\n",
    "rest_df = b_df.loc[b_df['categories'].apply(lambda x: 'Restaurants' in x), :]\n",
    "\n",
    "# verify that all remaining businesses are included in the category 'Restaurants'\n",
    "for i in range(len(rest_df.categories)):\n",
    "    if 'Restaurants' not in rest_df.categories.iloc[i]:\n",
    "        print(rest_df.categories.iloc[i])\n",
    "print('All businesses are restaurants.')"
   ]
  },
  {
   "cell_type": "code",
   "execution_count": 16,
   "metadata": {},
   "outputs": [
    {
     "data": {
      "text/html": [
       "<div>\n",
       "<style scoped>\n",
       "    .dataframe tbody tr th:only-of-type {\n",
       "        vertical-align: middle;\n",
       "    }\n",
       "\n",
       "    .dataframe tbody tr th {\n",
       "        vertical-align: top;\n",
       "    }\n",
       "\n",
       "    .dataframe thead th {\n",
       "        text-align: right;\n",
       "    }\n",
       "</style>\n",
       "<table border=\"1\" class=\"dataframe\">\n",
       "  <thead>\n",
       "    <tr style=\"text-align: right;\">\n",
       "      <th></th>\n",
       "      <th>business_id</th>\n",
       "      <th>categories</th>\n",
       "      <th>review_count</th>\n",
       "      <th>stars</th>\n",
       "    </tr>\n",
       "  </thead>\n",
       "  <tbody>\n",
       "    <tr>\n",
       "      <th>1</th>\n",
       "      <td>QXAEGFB4oINsVuTFxEYKFQ</td>\n",
       "      <td>[Specialty Food, Restaurants, Dim Sum, Importe...</td>\n",
       "      <td>128</td>\n",
       "      <td>2.5</td>\n",
       "    </tr>\n",
       "    <tr>\n",
       "      <th>2</th>\n",
       "      <td>gnKjwL_1w79qoiV3IC_xQQ</td>\n",
       "      <td>[Sushi Bars, Restaurants, Japanese]</td>\n",
       "      <td>170</td>\n",
       "      <td>4.0</td>\n",
       "    </tr>\n",
       "    <tr>\n",
       "      <th>11</th>\n",
       "      <td>1Dfx3zM-rW4n-31KeC8sJg</td>\n",
       "      <td>[Restaurants, Breakfast &amp; Brunch, Mexican, Tac...</td>\n",
       "      <td>18</td>\n",
       "      <td>3.0</td>\n",
       "    </tr>\n",
       "    <tr>\n",
       "      <th>13</th>\n",
       "      <td>fweCYi8FmbJXHCqLnwuk8w</td>\n",
       "      <td>[Italian, Restaurants, Pizza, Chicken Wings]</td>\n",
       "      <td>16</td>\n",
       "      <td>4.0</td>\n",
       "    </tr>\n",
       "    <tr>\n",
       "      <th>17</th>\n",
       "      <td>PZ-LZzSlhSe9utkQYU8pFg</td>\n",
       "      <td>[Restaurants, Italian]</td>\n",
       "      <td>40</td>\n",
       "      <td>4.0</td>\n",
       "    </tr>\n",
       "  </tbody>\n",
       "</table>\n",
       "</div>"
      ],
      "text/plain": [
       "               business_id                                         categories  \\\n",
       "1   QXAEGFB4oINsVuTFxEYKFQ  [Specialty Food, Restaurants, Dim Sum, Importe...   \n",
       "2   gnKjwL_1w79qoiV3IC_xQQ                [Sushi Bars, Restaurants, Japanese]   \n",
       "11  1Dfx3zM-rW4n-31KeC8sJg  [Restaurants, Breakfast & Brunch, Mexican, Tac...   \n",
       "13  fweCYi8FmbJXHCqLnwuk8w       [Italian, Restaurants, Pizza, Chicken Wings]   \n",
       "17  PZ-LZzSlhSe9utkQYU8pFg                             [Restaurants, Italian]   \n",
       "\n",
       "    review_count  stars  \n",
       "1            128    2.5  \n",
       "2            170    4.0  \n",
       "11            18    3.0  \n",
       "13            16    4.0  \n",
       "17            40    4.0  "
      ]
     },
     "execution_count": 16,
     "metadata": {},
     "output_type": "execute_result"
    }
   ],
   "source": [
    "rest_df.head()"
   ]
  },
  {
   "cell_type": "code",
   "execution_count": 17,
   "metadata": {},
   "outputs": [
    {
     "name": "stdout",
     "output_type": "stream",
     "text": [
      "(59371, 4)\n",
      "\n",
      "<class 'pandas.core.frame.DataFrame'>\n",
      "Int64Index: 59371 entries, 1 to 192603\n",
      "Data columns (total 4 columns):\n",
      "business_id     59371 non-null object\n",
      "categories      59371 non-null object\n",
      "review_count    59371 non-null int64\n",
      "stars           59371 non-null float64\n",
      "dtypes: float64(1), int64(1), object(2)\n",
      "memory usage: 2.3+ MB\n"
     ]
    }
   ],
   "source": [
    "print(rest_df.shape)\n",
    "print()\n",
    "rest_df.info()"
   ]
  },
  {
   "cell_type": "markdown",
   "metadata": {},
   "source": [
    "Note that the number of rows in our new DataFrame is the same as the 'Restaurants' count from above, which is what we wanted."
   ]
  },
  {
   "cell_type": "markdown",
   "metadata": {},
   "source": [
    "# Explore and Clean Review Data #\n",
    "Goals Include:\n",
    "1. Use the restricted business data set just created to extract relevant reviews from the review data set. We only want the reviews of restaurants."
   ]
  },
  {
   "cell_type": "markdown",
   "metadata": {},
   "source": [
    "Now that we have a DataFrame with the relevant businesses, it is time to extract the relevant reviews from the reviews data set. Since the original reviews data set is over 5 GB in size, filtering the reviews should also make the data set a more usable size."
   ]
  },
  {
   "cell_type": "markdown",
   "metadata": {},
   "source": [
    "First, I will construct an iterator to load the review data set in chunks so we don't have to hold the entire data set in memory."
   ]
  },
  {
   "cell_type": "code",
   "execution_count": 18,
   "metadata": {},
   "outputs": [],
   "source": [
    "# construct iterator to load review data in chunks\n",
    "rev_it = pd.read_json(rev_data, lines=True, chunksize=100000)"
   ]
  },
  {
   "cell_type": "markdown",
   "metadata": {},
   "source": [
    "Next, we can use the business_ids in the restaurants DataFrame constructed earlier to filter the review data. First, we need to isolate the business_ids as a list. Then we can use that list to filter the review data."
   ]
  },
  {
   "cell_type": "code",
   "execution_count": 19,
   "metadata": {
    "scrolled": true
   },
   "outputs": [
    {
     "data": {
      "text/plain": [
       "array(['QXAEGFB4oINsVuTFxEYKFQ', 'gnKjwL_1w79qoiV3IC_xQQ',\n",
       "       '1Dfx3zM-rW4n-31KeC8sJg', ..., 'h3QErqS3OZgLJ5Tb6-sLyQ',\n",
       "       'KnafX7T6qSAmSrLhd709vA', 'p1eUTUB_5hf1enoKYBV3DA'], dtype=object)"
      ]
     },
     "execution_count": 19,
     "metadata": {},
     "output_type": "execute_result"
    }
   ],
   "source": [
    "# isolate restaurant business ids as a list\n",
    "rest_ids = rest_df['business_id'].values\n",
    "rest_ids"
   ]
  },
  {
   "cell_type": "markdown",
   "metadata": {},
   "source": [
    "Next, we use the rest_ids list to filter the review data."
   ]
  },
  {
   "cell_type": "code",
   "execution_count": 20,
   "metadata": {},
   "outputs": [],
   "source": [
    "%%time (took about 6 hrs, 20 mins to process)\n",
    "\n",
    "# construct list composed of only and all restaurant reviews\n",
    "rest_reviews = [rev.loc[rev['business_id'].apply(lambda x: x in rest_ids)] for rev in rev_it]\n",
    "\n",
    "\n",
    "# %%time\n",
    "\n",
    "# Here is another method worth trying:\n",
    "# Found here: https://stackoverflow.com/questions/12096252/use-a-list-of-values-to-select-rows-from-a-pandas-dataframe\n",
    "# rest_reviews = rev_it[rev_it['business_id'].isin(rest_ids)]"
   ]
  },
  {
   "cell_type": "code",
   "execution_count": 21,
   "metadata": {},
   "outputs": [],
   "source": [
    "# turn restaurant reviews list into DataFrame\n",
    "rest_reviews_df = pd.concat(rest_reviews)"
   ]
  },
  {
   "cell_type": "code",
   "execution_count": 22,
   "metadata": {},
   "outputs": [],
   "source": [
    "# save restaurant reviews DataFrame to CSV file\n",
    "rest_reviews_df.to_csv('restaurant_reviews1.csv', index=False)"
   ]
  },
  {
   "cell_type": "code",
   "execution_count": 57,
   "metadata": {
    "scrolled": true
   },
   "outputs": [],
   "source": [
    "rest_reviews = pd.read_csv('restaurant_reviews1.csv')\n",
    "rest_reviews.head()"
   ]
  },
  {
   "cell_type": "code",
   "execution_count": 26,
   "metadata": {
    "scrolled": true
   },
   "outputs": [
    {
     "name": "stdout",
     "output_type": "stream",
     "text": [
      "<class 'pandas.core.frame.DataFrame'>\n",
      "RangeIndex: 4074505 entries, 0 to 4074504\n",
      "Data columns (total 9 columns):\n",
      "business_id    object\n",
      "cool           int64\n",
      "date           object\n",
      "funny          float64\n",
      "review_id      object\n",
      "stars          float64\n",
      "text           object\n",
      "useful         float64\n",
      "user_id        object\n",
      "dtypes: float64(3), int64(1), object(5)\n",
      "memory usage: 279.8+ MB\n"
     ]
    }
   ],
   "source": [
    "rest_reviews.info()"
   ]
  },
  {
   "cell_type": "markdown",
   "metadata": {},
   "source": [
    "We have now isolated the restaurant reviews, but there are some irrelevant columns that we need to remove."
   ]
  },
  {
   "cell_type": "code",
   "execution_count": 48,
   "metadata": {},
   "outputs": [
    {
     "data": {
      "text/html": [
       "<div>\n",
       "<style scoped>\n",
       "    .dataframe tbody tr th:only-of-type {\n",
       "        vertical-align: middle;\n",
       "    }\n",
       "\n",
       "    .dataframe tbody tr th {\n",
       "        vertical-align: top;\n",
       "    }\n",
       "\n",
       "    .dataframe thead th {\n",
       "        text-align: right;\n",
       "    }\n",
       "</style>\n",
       "<table border=\"1\" class=\"dataframe\">\n",
       "  <thead>\n",
       "    <tr style=\"text-align: right;\">\n",
       "      <th></th>\n",
       "      <th>business_id</th>\n",
       "      <th>stars</th>\n",
       "      <th>text</th>\n",
       "    </tr>\n",
       "  </thead>\n",
       "  <tbody>\n",
       "    <tr>\n",
       "      <th>0</th>\n",
       "      <td>EXAbfr5PkoRzMqlCb_3ALQ</td>\n",
       "      <td>5.0</td>\n",
       "      <td>We were in town from San Francisco to visit fr...</td>\n",
       "    </tr>\n",
       "    <tr>\n",
       "      <th>1</th>\n",
       "      <td>6sOBPz69VLgIvNAY7dowOg</td>\n",
       "      <td>2.0</td>\n",
       "      <td>I bought a Dealfind voucher and decided to giv...</td>\n",
       "    </tr>\n",
       "    <tr>\n",
       "      <th>2</th>\n",
       "      <td>VMXl3Dm1Nwvgwo1PVYTXbg</td>\n",
       "      <td>5.0</td>\n",
       "      <td>Fun club!!  Great place to hang out and a real...</td>\n",
       "    </tr>\n",
       "    <tr>\n",
       "      <th>3</th>\n",
       "      <td>q3ilBINLR7KoBBlxSqCvlA</td>\n",
       "      <td>4.0</td>\n",
       "      <td>很不錯的港式茶餐廳，味道對。住附近的絕對可以一試。\\n侍應態度都很好。\\n午餐價錢$8 / ...</td>\n",
       "    </tr>\n",
       "    <tr>\n",
       "      <th>4</th>\n",
       "      <td>yNPh5SO-7wr8HPpVCDPbXQ</td>\n",
       "      <td>5.0</td>\n",
       "      <td>After our horrible customer service next door ...</td>\n",
       "    </tr>\n",
       "  </tbody>\n",
       "</table>\n",
       "</div>"
      ],
      "text/plain": [
       "              business_id  stars  \\\n",
       "0  EXAbfr5PkoRzMqlCb_3ALQ    5.0   \n",
       "1  6sOBPz69VLgIvNAY7dowOg    2.0   \n",
       "2  VMXl3Dm1Nwvgwo1PVYTXbg    5.0   \n",
       "3  q3ilBINLR7KoBBlxSqCvlA    4.0   \n",
       "4  yNPh5SO-7wr8HPpVCDPbXQ    5.0   \n",
       "\n",
       "                                                text  \n",
       "0  We were in town from San Francisco to visit fr...  \n",
       "1  I bought a Dealfind voucher and decided to giv...  \n",
       "2  Fun club!!  Great place to hang out and a real...  \n",
       "3  很不錯的港式茶餐廳，味道對。住附近的絕對可以一試。\\n侍應態度都很好。\\n午餐價錢$8 / ...  \n",
       "4  After our horrible customer service next door ...  "
      ]
     },
     "execution_count": 48,
     "metadata": {},
     "output_type": "execute_result"
    }
   ],
   "source": [
    "# remove irrelevant columns\n",
    "rest_reviews = rest_reviews[['business_id', 'stars', 'text']]\n",
    "rest_reviews.head()"
   ]
  },
  {
   "cell_type": "code",
   "execution_count": 63,
   "metadata": {},
   "outputs": [],
   "source": [
    "# re-save rest_reviews data with relevant columns to CSV file\n",
    "rest_reviews.to_csv('restaurant_reviews2.csv', index=False)"
   ]
  },
  {
   "cell_type": "markdown",
   "metadata": {},
   "source": [
    "We should now make sure there are no null or duplicate values in the rest_reviews DataFrame."
   ]
  },
  {
   "cell_type": "code",
   "execution_count": 54,
   "metadata": {},
   "outputs": [
    {
     "name": "stdout",
     "output_type": "stream",
     "text": [
      "There are no null values in the DataFrame.\n"
     ]
    }
   ],
   "source": [
    "# check for null values\n",
    "for v in rest_reviews.values:\n",
    "    if pd.isna(v.any()):\n",
    "        print(v)\n",
    "print('There are no null values in the DataFrame.')"
   ]
  },
  {
   "cell_type": "code",
   "execution_count": 59,
   "metadata": {},
   "outputs": [
    {
     "name": "stdout",
     "output_type": "stream",
     "text": [
      "True\n",
      "True\n"
     ]
    }
   ],
   "source": [
    "# check for duplicate values in 'business_id' and 'text' columns\n",
    "print(any(rest_reviews.business_id.duplicated()))\n",
    "print(any(rest_reviews.text.duplicated()))"
   ]
  },
  {
   "cell_type": "markdown",
   "metadata": {},
   "source": [
    "It appears that there are duplicate values.\n",
    "We should expect there to be duplicate values in the 'business_id' column since the data might contain multiple reviews for the same restaurant.\n",
    "But there shouldn't be duplicates in the 'text' column, which contains the reviews. At least, there shouldn't be duplicates for the same business_id (strictly speaking, the same review could be given for different restaurants). I suppose it is possible that two different reviewers could write identical reviews for the same business, but this is highly unlikely and shouldn't make a difference for present purposes.\n",
    "Before removing the duplicates, we should check how many there are."
   ]
  },
  {
   "cell_type": "code",
   "execution_count": 77,
   "metadata": {},
   "outputs": [
    {
     "name": "stdout",
     "output_type": "stream",
     "text": [
      "There are 7222 duplicate rows in the DataFrame.\n"
     ]
    }
   ],
   "source": [
    "# Count number of duplicates by row\n",
    "print('There are {} duplicate rows in the DataFrame.'.format(len(rest_reviews)-len(rest_reviews.drop_duplicates())))"
   ]
  },
  {
   "cell_type": "code",
   "execution_count": 78,
   "metadata": {},
   "outputs": [],
   "source": [
    "# Remove duplicate rows\n",
    "rest_reviews = rest_reviews.drop_duplicates()"
   ]
  },
  {
   "cell_type": "code",
   "execution_count": 79,
   "metadata": {},
   "outputs": [
    {
     "name": "stdout",
     "output_type": "stream",
     "text": [
      "There are 0 duplicate rows in the DataFrame.\n"
     ]
    }
   ],
   "source": [
    "# Check for remaining duplicates\n",
    "print('There are {} duplicate rows in the DataFrame.'.format(len(rest_reviews)-len(rest_reviews.drop_duplicates())))"
   ]
  },
  {
   "cell_type": "code",
   "execution_count": 98,
   "metadata": {},
   "outputs": [],
   "source": [
    "# re-save rest_reviews data without duplicates to CSV file\n",
    "rest_reviews.to_csv('restaurant_reviews3.csv', index=False)"
   ]
  },
  {
   "cell_type": "code",
   "execution_count": 11,
   "metadata": {},
   "outputs": [],
   "source": [
    "rest_reviews = pd.read_csv('restaurant_reviews3.csv')"
   ]
  },
  {
   "cell_type": "code",
   "execution_count": 15,
   "metadata": {
    "scrolled": false
   },
   "outputs": [
    {
     "data": {
      "text/html": [
       "<div>\n",
       "<style scoped>\n",
       "    .dataframe tbody tr th:only-of-type {\n",
       "        vertical-align: middle;\n",
       "    }\n",
       "\n",
       "    .dataframe tbody tr th {\n",
       "        vertical-align: top;\n",
       "    }\n",
       "\n",
       "    .dataframe thead th {\n",
       "        text-align: right;\n",
       "    }\n",
       "</style>\n",
       "<table border=\"1\" class=\"dataframe\">\n",
       "  <thead>\n",
       "    <tr style=\"text-align: right;\">\n",
       "      <th></th>\n",
       "      <th>business_id</th>\n",
       "      <th>stars</th>\n",
       "      <th>text</th>\n",
       "    </tr>\n",
       "  </thead>\n",
       "  <tbody>\n",
       "    <tr>\n",
       "      <th>0</th>\n",
       "      <td>EXAbfr5PkoRzMqlCb_3ALQ</td>\n",
       "      <td>5.0</td>\n",
       "      <td>We were in town from San Francisco to visit fr...</td>\n",
       "    </tr>\n",
       "    <tr>\n",
       "      <th>1</th>\n",
       "      <td>6sOBPz69VLgIvNAY7dowOg</td>\n",
       "      <td>2.0</td>\n",
       "      <td>I bought a Dealfind voucher and decided to giv...</td>\n",
       "    </tr>\n",
       "    <tr>\n",
       "      <th>2</th>\n",
       "      <td>VMXl3Dm1Nwvgwo1PVYTXbg</td>\n",
       "      <td>5.0</td>\n",
       "      <td>Fun club!!  Great place to hang out and a real...</td>\n",
       "    </tr>\n",
       "    <tr>\n",
       "      <th>3</th>\n",
       "      <td>q3ilBINLR7KoBBlxSqCvlA</td>\n",
       "      <td>4.0</td>\n",
       "      <td>很不錯的港式茶餐廳，味道對。住附近的絕對可以一試。\\n侍應態度都很好。\\n午餐價錢$8 / ...</td>\n",
       "    </tr>\n",
       "    <tr>\n",
       "      <th>4</th>\n",
       "      <td>yNPh5SO-7wr8HPpVCDPbXQ</td>\n",
       "      <td>5.0</td>\n",
       "      <td>After our horrible customer service next door ...</td>\n",
       "    </tr>\n",
       "  </tbody>\n",
       "</table>\n",
       "</div>"
      ],
      "text/plain": [
       "              business_id  stars  \\\n",
       "0  EXAbfr5PkoRzMqlCb_3ALQ    5.0   \n",
       "1  6sOBPz69VLgIvNAY7dowOg    2.0   \n",
       "2  VMXl3Dm1Nwvgwo1PVYTXbg    5.0   \n",
       "3  q3ilBINLR7KoBBlxSqCvlA    4.0   \n",
       "4  yNPh5SO-7wr8HPpVCDPbXQ    5.0   \n",
       "\n",
       "                                                text  \n",
       "0  We were in town from San Francisco to visit fr...  \n",
       "1  I bought a Dealfind voucher and decided to giv...  \n",
       "2  Fun club!!  Great place to hang out and a real...  \n",
       "3  很不錯的港式茶餐廳，味道對。住附近的絕對可以一試。\\n侍應態度都很好。\\n午餐價錢$8 / ...  \n",
       "4  After our horrible customer service next door ...  "
      ]
     },
     "execution_count": 15,
     "metadata": {},
     "output_type": "execute_result"
    }
   ],
   "source": [
    "rest_reviews.head()"
   ]
  },
  {
   "cell_type": "markdown",
   "metadata": {},
   "source": [
    "In the very beginning of the rest_reviews DataFrame, we can see that not all reviews in the 'text' column are written in English. For this project, we only want reviews that are written in English, so we need to filter the 'text' column accordingly. Since there is a non-English review at the beginning of the data set (index 3), I will first develop and test a filtering method on the first several rows of the data set before applying the method to the entire data set."
   ]
  },
  {
   "cell_type": "code",
   "execution_count": 26,
   "metadata": {
    "scrolled": true
   },
   "outputs": [
    {
     "data": {
      "text/html": [
       "<div>\n",
       "<style scoped>\n",
       "    .dataframe tbody tr th:only-of-type {\n",
       "        vertical-align: middle;\n",
       "    }\n",
       "\n",
       "    .dataframe tbody tr th {\n",
       "        vertical-align: top;\n",
       "    }\n",
       "\n",
       "    .dataframe thead th {\n",
       "        text-align: right;\n",
       "    }\n",
       "</style>\n",
       "<table border=\"1\" class=\"dataframe\">\n",
       "  <thead>\n",
       "    <tr style=\"text-align: right;\">\n",
       "      <th></th>\n",
       "      <th>business_id</th>\n",
       "      <th>stars</th>\n",
       "      <th>text</th>\n",
       "    </tr>\n",
       "  </thead>\n",
       "  <tbody>\n",
       "    <tr>\n",
       "      <th>0</th>\n",
       "      <td>EXAbfr5PkoRzMqlCb_3ALQ</td>\n",
       "      <td>5.0</td>\n",
       "      <td>We were in town from San Francisco to visit fr...</td>\n",
       "    </tr>\n",
       "    <tr>\n",
       "      <th>1</th>\n",
       "      <td>6sOBPz69VLgIvNAY7dowOg</td>\n",
       "      <td>2.0</td>\n",
       "      <td>I bought a Dealfind voucher and decided to giv...</td>\n",
       "    </tr>\n",
       "    <tr>\n",
       "      <th>2</th>\n",
       "      <td>VMXl3Dm1Nwvgwo1PVYTXbg</td>\n",
       "      <td>5.0</td>\n",
       "      <td>Fun club!!  Great place to hang out and a real...</td>\n",
       "    </tr>\n",
       "    <tr>\n",
       "      <th>3</th>\n",
       "      <td>q3ilBINLR7KoBBlxSqCvlA</td>\n",
       "      <td>4.0</td>\n",
       "      <td>很不錯的港式茶餐廳，味道對。住附近的絕對可以一試。\\n侍應態度都很好。\\n午餐價錢$8 / ...</td>\n",
       "    </tr>\n",
       "    <tr>\n",
       "      <th>4</th>\n",
       "      <td>yNPh5SO-7wr8HPpVCDPbXQ</td>\n",
       "      <td>5.0</td>\n",
       "      <td>After our horrible customer service next door ...</td>\n",
       "    </tr>\n",
       "    <tr>\n",
       "      <th>5</th>\n",
       "      <td>L0aSDVHNXCl6sY4cfZQ-5Q</td>\n",
       "      <td>1.0</td>\n",
       "      <td>If I could give this place zero stars, I would...</td>\n",
       "    </tr>\n",
       "  </tbody>\n",
       "</table>\n",
       "</div>"
      ],
      "text/plain": [
       "              business_id  stars  \\\n",
       "0  EXAbfr5PkoRzMqlCb_3ALQ    5.0   \n",
       "1  6sOBPz69VLgIvNAY7dowOg    2.0   \n",
       "2  VMXl3Dm1Nwvgwo1PVYTXbg    5.0   \n",
       "3  q3ilBINLR7KoBBlxSqCvlA    4.0   \n",
       "4  yNPh5SO-7wr8HPpVCDPbXQ    5.0   \n",
       "5  L0aSDVHNXCl6sY4cfZQ-5Q    1.0   \n",
       "\n",
       "                                                text  \n",
       "0  We were in town from San Francisco to visit fr...  \n",
       "1  I bought a Dealfind voucher and decided to giv...  \n",
       "2  Fun club!!  Great place to hang out and a real...  \n",
       "3  很不錯的港式茶餐廳，味道對。住附近的絕對可以一試。\\n侍應態度都很好。\\n午餐價錢$8 / ...  \n",
       "4  After our horrible customer service next door ...  \n",
       "5  If I could give this place zero stars, I would...  "
      ]
     },
     "execution_count": 26,
     "metadata": {},
     "output_type": "execute_result"
    }
   ],
   "source": [
    "# Construct test data set for filtering\n",
    "tdf = rest_reviews.head(6)\n",
    "\n",
    "tdf"
   ]
  },
  {
   "cell_type": "code",
   "execution_count": 42,
   "metadata": {},
   "outputs": [],
   "source": [
    "# Import language detection library\n",
    "from langdetect import detect\n",
    "from langdetect.lang_detect_exception import LangDetectException"
   ]
  },
  {
   "cell_type": "code",
   "execution_count": 27,
   "metadata": {},
   "outputs": [
    {
     "name": "stdout",
     "output_type": "stream",
     "text": [
      "[3]\n",
      "[]\n"
     ]
    },
    {
     "data": {
      "text/html": [
       "<div>\n",
       "<style scoped>\n",
       "    .dataframe tbody tr th:only-of-type {\n",
       "        vertical-align: middle;\n",
       "    }\n",
       "\n",
       "    .dataframe tbody tr th {\n",
       "        vertical-align: top;\n",
       "    }\n",
       "\n",
       "    .dataframe thead th {\n",
       "        text-align: right;\n",
       "    }\n",
       "</style>\n",
       "<table border=\"1\" class=\"dataframe\">\n",
       "  <thead>\n",
       "    <tr style=\"text-align: right;\">\n",
       "      <th></th>\n",
       "      <th>business_id</th>\n",
       "      <th>stars</th>\n",
       "      <th>text</th>\n",
       "    </tr>\n",
       "  </thead>\n",
       "  <tbody>\n",
       "    <tr>\n",
       "      <th>0</th>\n",
       "      <td>EXAbfr5PkoRzMqlCb_3ALQ</td>\n",
       "      <td>5.0</td>\n",
       "      <td>We were in town from San Francisco to visit fr...</td>\n",
       "    </tr>\n",
       "    <tr>\n",
       "      <th>1</th>\n",
       "      <td>6sOBPz69VLgIvNAY7dowOg</td>\n",
       "      <td>2.0</td>\n",
       "      <td>I bought a Dealfind voucher and decided to giv...</td>\n",
       "    </tr>\n",
       "    <tr>\n",
       "      <th>2</th>\n",
       "      <td>VMXl3Dm1Nwvgwo1PVYTXbg</td>\n",
       "      <td>5.0</td>\n",
       "      <td>Fun club!!  Great place to hang out and a real...</td>\n",
       "    </tr>\n",
       "    <tr>\n",
       "      <th>3</th>\n",
       "      <td>q3ilBINLR7KoBBlxSqCvlA</td>\n",
       "      <td>4.0</td>\n",
       "      <td>很不錯的港式茶餐廳，味道對。住附近的絕對可以一試。\\n侍應態度都很好。\\n午餐價錢$8 / ...</td>\n",
       "    </tr>\n",
       "    <tr>\n",
       "      <th>4</th>\n",
       "      <td>yNPh5SO-7wr8HPpVCDPbXQ</td>\n",
       "      <td>5.0</td>\n",
       "      <td>After our horrible customer service next door ...</td>\n",
       "    </tr>\n",
       "    <tr>\n",
       "      <th>5</th>\n",
       "      <td>L0aSDVHNXCl6sY4cfZQ-5Q</td>\n",
       "      <td>1.0</td>\n",
       "      <td>If I could give this place zero stars, I would...</td>\n",
       "    </tr>\n",
       "  </tbody>\n",
       "</table>\n",
       "</div>"
      ],
      "text/plain": [
       "              business_id  stars  \\\n",
       "0  EXAbfr5PkoRzMqlCb_3ALQ    5.0   \n",
       "1  6sOBPz69VLgIvNAY7dowOg    2.0   \n",
       "2  VMXl3Dm1Nwvgwo1PVYTXbg    5.0   \n",
       "3  q3ilBINLR7KoBBlxSqCvlA    4.0   \n",
       "4  yNPh5SO-7wr8HPpVCDPbXQ    5.0   \n",
       "5  L0aSDVHNXCl6sY4cfZQ-5Q    1.0   \n",
       "\n",
       "                                                text  \n",
       "0  We were in town from San Francisco to visit fr...  \n",
       "1  I bought a Dealfind voucher and decided to giv...  \n",
       "2  Fun club!!  Great place to hang out and a real...  \n",
       "3  很不錯的港式茶餐廳，味道對。住附近的絕對可以一試。\\n侍應態度都很好。\\n午餐價錢$8 / ...  \n",
       "4  After our horrible customer service next door ...  \n",
       "5  If I could give this place zero stars, I would...  "
      ]
     },
     "execution_count": 27,
     "metadata": {},
     "output_type": "execute_result"
    }
   ],
   "source": [
    "# Develop filtering method to try on test data\n",
    "'''The Approach: After doing some testing, we know that there are values in the larger rest_reviews data set\n",
    "that throw errors when passed into the detect() language detection function, so we implement try/except\n",
    "to handle the errors.\n",
    "We first try to detect whether the review at index i is NOT written in English. If it is not written in\n",
    "English, then the index i is appended to a list. If an error is raised when the review is passed, then the\n",
    "index i is appended to a different list.\n",
    "These two lists of indexes can be used to (1) observe the values that are throwing errors, and (2) efficiently\n",
    "remove the non-English and problematic reviews from the data set.\n",
    "'''\n",
    "test_error_data = []\n",
    "test_data_to_delete = []\n",
    "\n",
    "for i in range(len(tdf)):\n",
    "    try:\n",
    "        review = tdf.text[i]\n",
    "        if detect(review) != 'en':\n",
    "            test_data_to_delete += [i]\n",
    "    except:\n",
    "        test_error_data += [i]\n",
    "        continue\n",
    "\n",
    "# Print test DataFrame to make sure the non-English review's index was appended\n",
    "print(test_data_to_delete)\n",
    "print(test_error_data)\n",
    "tdf"
   ]
  },
  {
   "cell_type": "code",
   "execution_count": 28,
   "metadata": {},
   "outputs": [
    {
     "data": {
      "text/html": [
       "<div>\n",
       "<style scoped>\n",
       "    .dataframe tbody tr th:only-of-type {\n",
       "        vertical-align: middle;\n",
       "    }\n",
       "\n",
       "    .dataframe tbody tr th {\n",
       "        vertical-align: top;\n",
       "    }\n",
       "\n",
       "    .dataframe thead th {\n",
       "        text-align: right;\n",
       "    }\n",
       "</style>\n",
       "<table border=\"1\" class=\"dataframe\">\n",
       "  <thead>\n",
       "    <tr style=\"text-align: right;\">\n",
       "      <th></th>\n",
       "      <th>business_id</th>\n",
       "      <th>stars</th>\n",
       "      <th>text</th>\n",
       "    </tr>\n",
       "  </thead>\n",
       "  <tbody>\n",
       "    <tr>\n",
       "      <th>0</th>\n",
       "      <td>EXAbfr5PkoRzMqlCb_3ALQ</td>\n",
       "      <td>5.0</td>\n",
       "      <td>We were in town from San Francisco to visit fr...</td>\n",
       "    </tr>\n",
       "    <tr>\n",
       "      <th>1</th>\n",
       "      <td>6sOBPz69VLgIvNAY7dowOg</td>\n",
       "      <td>2.0</td>\n",
       "      <td>I bought a Dealfind voucher and decided to giv...</td>\n",
       "    </tr>\n",
       "    <tr>\n",
       "      <th>2</th>\n",
       "      <td>VMXl3Dm1Nwvgwo1PVYTXbg</td>\n",
       "      <td>5.0</td>\n",
       "      <td>Fun club!!  Great place to hang out and a real...</td>\n",
       "    </tr>\n",
       "    <tr>\n",
       "      <th>4</th>\n",
       "      <td>yNPh5SO-7wr8HPpVCDPbXQ</td>\n",
       "      <td>5.0</td>\n",
       "      <td>After our horrible customer service next door ...</td>\n",
       "    </tr>\n",
       "    <tr>\n",
       "      <th>5</th>\n",
       "      <td>L0aSDVHNXCl6sY4cfZQ-5Q</td>\n",
       "      <td>1.0</td>\n",
       "      <td>If I could give this place zero stars, I would...</td>\n",
       "    </tr>\n",
       "  </tbody>\n",
       "</table>\n",
       "</div>"
      ],
      "text/plain": [
       "              business_id  stars  \\\n",
       "0  EXAbfr5PkoRzMqlCb_3ALQ    5.0   \n",
       "1  6sOBPz69VLgIvNAY7dowOg    2.0   \n",
       "2  VMXl3Dm1Nwvgwo1PVYTXbg    5.0   \n",
       "4  yNPh5SO-7wr8HPpVCDPbXQ    5.0   \n",
       "5  L0aSDVHNXCl6sY4cfZQ-5Q    1.0   \n",
       "\n",
       "                                                text  \n",
       "0  We were in town from San Francisco to visit fr...  \n",
       "1  I bought a Dealfind voucher and decided to giv...  \n",
       "2  Fun club!!  Great place to hang out and a real...  \n",
       "4  After our horrible customer service next door ...  \n",
       "5  If I could give this place zero stars, I would...  "
      ]
     },
     "execution_count": 28,
     "metadata": {},
     "output_type": "execute_result"
    }
   ],
   "source": [
    "''' We can now use the list of indexes for non-English reviews to\n",
    "remove those reviews from the test DataFrame.\n",
    "'''\n",
    "drop_tdf = tdf.drop(index=test_data_to_delete)\n",
    "drop_tdf"
   ]
  },
  {
   "cell_type": "markdown",
   "metadata": {},
   "source": [
    "It looks like the method we developed worked on our test DataFrame, so let's now apply it to the larger rest_reviews DataFrame."
   ]
  },
  {
   "cell_type": "code",
   "execution_count": 16,
   "metadata": {},
   "outputs": [
    {
     "name": "stdout",
     "output_type": "stream",
     "text": [
      "CPU times: user 4h 34min 8s, sys: 1min 50s, total: 4h 35min 58s\n",
      "Wall time: 4h 36min 32s\n"
     ]
    },
    {
     "data": {
      "text/html": [
       "<div>\n",
       "<style scoped>\n",
       "    .dataframe tbody tr th:only-of-type {\n",
       "        vertical-align: middle;\n",
       "    }\n",
       "\n",
       "    .dataframe tbody tr th {\n",
       "        vertical-align: top;\n",
       "    }\n",
       "\n",
       "    .dataframe thead th {\n",
       "        text-align: right;\n",
       "    }\n",
       "</style>\n",
       "<table border=\"1\" class=\"dataframe\">\n",
       "  <thead>\n",
       "    <tr style=\"text-align: right;\">\n",
       "      <th></th>\n",
       "      <th>business_id</th>\n",
       "      <th>stars</th>\n",
       "      <th>text</th>\n",
       "    </tr>\n",
       "  </thead>\n",
       "  <tbody>\n",
       "    <tr>\n",
       "      <th>0</th>\n",
       "      <td>EXAbfr5PkoRzMqlCb_3ALQ</td>\n",
       "      <td>5.0</td>\n",
       "      <td>We were in town from San Francisco to visit fr...</td>\n",
       "    </tr>\n",
       "    <tr>\n",
       "      <th>1</th>\n",
       "      <td>6sOBPz69VLgIvNAY7dowOg</td>\n",
       "      <td>2.0</td>\n",
       "      <td>I bought a Dealfind voucher and decided to giv...</td>\n",
       "    </tr>\n",
       "    <tr>\n",
       "      <th>2</th>\n",
       "      <td>VMXl3Dm1Nwvgwo1PVYTXbg</td>\n",
       "      <td>5.0</td>\n",
       "      <td>Fun club!!  Great place to hang out and a real...</td>\n",
       "    </tr>\n",
       "    <tr>\n",
       "      <th>3</th>\n",
       "      <td>q3ilBINLR7KoBBlxSqCvlA</td>\n",
       "      <td>4.0</td>\n",
       "      <td>很不錯的港式茶餐廳，味道對。住附近的絕對可以一試。\\n侍應態度都很好。\\n午餐價錢$8 / ...</td>\n",
       "    </tr>\n",
       "    <tr>\n",
       "      <th>4</th>\n",
       "      <td>yNPh5SO-7wr8HPpVCDPbXQ</td>\n",
       "      <td>5.0</td>\n",
       "      <td>After our horrible customer service next door ...</td>\n",
       "    </tr>\n",
       "  </tbody>\n",
       "</table>\n",
       "</div>"
      ],
      "text/plain": [
       "              business_id  stars  \\\n",
       "0  EXAbfr5PkoRzMqlCb_3ALQ    5.0   \n",
       "1  6sOBPz69VLgIvNAY7dowOg    2.0   \n",
       "2  VMXl3Dm1Nwvgwo1PVYTXbg    5.0   \n",
       "3  q3ilBINLR7KoBBlxSqCvlA    4.0   \n",
       "4  yNPh5SO-7wr8HPpVCDPbXQ    5.0   \n",
       "\n",
       "                                                text  \n",
       "0  We were in town from San Francisco to visit fr...  \n",
       "1  I bought a Dealfind voucher and decided to giv...  \n",
       "2  Fun club!!  Great place to hang out and a real...  \n",
       "3  很不錯的港式茶餐廳，味道對。住附近的絕對可以一試。\\n侍應態度都很好。\\n午餐價錢$8 / ...  \n",
       "4  After our horrible customer service next door ...  "
      ]
     },
     "execution_count": 16,
     "metadata": {},
     "output_type": "execute_result"
    }
   ],
   "source": [
    "%%time\n",
    "\n",
    "# Collect indexes of non-English and problematic reviews\n",
    "error_data = []\n",
    "data_to_delete = []\n",
    "\n",
    "for i in range(len(rest_reviews)):\n",
    "    try:\n",
    "        review = rest_reviews.text[i]\n",
    "        if detect(review) != 'en':\n",
    "            data_to_delete += [i]\n",
    "    except:\n",
    "        error_data += [i]\n",
    "        continue\n",
    "\n",
    "rest_reviews.head()"
   ]
  },
  {
   "cell_type": "code",
   "execution_count": 20,
   "metadata": {},
   "outputs": [
    {
     "name": "stdout",
     "output_type": "stream",
     "text": [
      "28\n"
     ]
    }
   ],
   "source": [
    "# Determine number of problematic reviews\n",
    "print(len(error_data))"
   ]
  },
  {
   "cell_type": "code",
   "execution_count": 18,
   "metadata": {},
   "outputs": [
    {
     "data": {
      "text/plain": [
       "23806"
      ]
     },
     "execution_count": 18,
     "metadata": {},
     "output_type": "execute_result"
    }
   ],
   "source": [
    "# Determine number of non-English reviews\n",
    "len(data_to_delete)"
   ]
  },
  {
   "cell_type": "code",
   "execution_count": 25,
   "metadata": {
    "scrolled": true
   },
   "outputs": [
    {
     "name": "stdout",
     "output_type": "stream",
     "text": [
      "..\n",
      ".\n",
      "...\n",
      ".\n",
      "!\n",
      "http://blog.tinou.com/2007/08/pinot-brasserie.html\n",
      "http://stellarperspectives.wordpress.com/\n",
      "http://sundaywithachanceofmeatballs.com/2014/02/25/why-i-started-this-site/\n",
      ".\n",
      ".\n",
      "http://jentalkstoomuch.com/2016/08/portland-variety-insulting-people-one-pregnant-woman-at-a-time/\n",
      "..\n",
      ".\n",
      "nan\n",
      "https://www.google.com/amp/amp.ktnv.com/2503333790/thai-tacos-and-more-on-dirty-dining.html\n",
      ".\n",
      "https://www.ktnv.com/news/dirty-dining/dirty-dining-kusina-ni-lorraine-gets-second-c-downgrade-in-six-months\n",
      "...\n",
      ".\n",
      ".....\n",
      "\n",
      "\n",
      "\n",
      "\n",
      "....???!!!\n",
      "...\n",
      "...\n",
      ".\n",
      ".\n",
      "http://www.cabarrusmagazine.com/2017/08/16/152346/cabarrus-county-restaurant-health-inspection-report-7-17-17-8-16-17-\n",
      ";(\n",
      ".\n",
      "nan\n"
     ]
    }
   ],
   "source": [
    "# Observe the problematic reviews that were throwing errors\n",
    "for i in error_data:\n",
    "    print(rest_reviews.text.iloc[i])"
   ]
  },
  {
   "cell_type": "markdown",
   "metadata": {},
   "source": [
    "It makes sense that the reviews causing errors were either hyperlinks or mere punctuation."
   ]
  },
  {
   "cell_type": "code",
   "execution_count": 29,
   "metadata": {},
   "outputs": [
    {
     "data": {
      "text/plain": [
       "23834"
      ]
     },
     "execution_count": 29,
     "metadata": {},
     "output_type": "execute_result"
    }
   ],
   "source": [
    "# Combine the two lists of indexes into a single list in preparation for removal from rest_reviews DataFrame\n",
    "all_remove_list = data_to_delete + error_data\n",
    "len(all_remove_list)"
   ]
  },
  {
   "cell_type": "code",
   "execution_count": 32,
   "metadata": {},
   "outputs": [],
   "source": [
    "# Construct new DataFrame consisting only of English reviews by dropping the non-English and problematic reviews\n",
    "en_rest_reviews = rest_reviews.drop(index=all_remove_list)"
   ]
  },
  {
   "cell_type": "code",
   "execution_count": 34,
   "metadata": {},
   "outputs": [
    {
     "data": {
      "text/html": [
       "<div>\n",
       "<style scoped>\n",
       "    .dataframe tbody tr th:only-of-type {\n",
       "        vertical-align: middle;\n",
       "    }\n",
       "\n",
       "    .dataframe tbody tr th {\n",
       "        vertical-align: top;\n",
       "    }\n",
       "\n",
       "    .dataframe thead th {\n",
       "        text-align: right;\n",
       "    }\n",
       "</style>\n",
       "<table border=\"1\" class=\"dataframe\">\n",
       "  <thead>\n",
       "    <tr style=\"text-align: right;\">\n",
       "      <th></th>\n",
       "      <th>business_id</th>\n",
       "      <th>stars</th>\n",
       "      <th>text</th>\n",
       "    </tr>\n",
       "  </thead>\n",
       "  <tbody>\n",
       "    <tr>\n",
       "      <th>0</th>\n",
       "      <td>EXAbfr5PkoRzMqlCb_3ALQ</td>\n",
       "      <td>5.0</td>\n",
       "      <td>We were in town from San Francisco to visit fr...</td>\n",
       "    </tr>\n",
       "    <tr>\n",
       "      <th>1</th>\n",
       "      <td>6sOBPz69VLgIvNAY7dowOg</td>\n",
       "      <td>2.0</td>\n",
       "      <td>I bought a Dealfind voucher and decided to giv...</td>\n",
       "    </tr>\n",
       "    <tr>\n",
       "      <th>2</th>\n",
       "      <td>VMXl3Dm1Nwvgwo1PVYTXbg</td>\n",
       "      <td>5.0</td>\n",
       "      <td>Fun club!!  Great place to hang out and a real...</td>\n",
       "    </tr>\n",
       "    <tr>\n",
       "      <th>3</th>\n",
       "      <td>q3ilBINLR7KoBBlxSqCvlA</td>\n",
       "      <td>4.0</td>\n",
       "      <td>很不錯的港式茶餐廳，味道對。住附近的絕對可以一試。\\n侍應態度都很好。\\n午餐價錢$8 / ...</td>\n",
       "    </tr>\n",
       "    <tr>\n",
       "      <th>4</th>\n",
       "      <td>yNPh5SO-7wr8HPpVCDPbXQ</td>\n",
       "      <td>5.0</td>\n",
       "      <td>After our horrible customer service next door ...</td>\n",
       "    </tr>\n",
       "  </tbody>\n",
       "</table>\n",
       "</div>"
      ],
      "text/plain": [
       "              business_id  stars  \\\n",
       "0  EXAbfr5PkoRzMqlCb_3ALQ    5.0   \n",
       "1  6sOBPz69VLgIvNAY7dowOg    2.0   \n",
       "2  VMXl3Dm1Nwvgwo1PVYTXbg    5.0   \n",
       "3  q3ilBINLR7KoBBlxSqCvlA    4.0   \n",
       "4  yNPh5SO-7wr8HPpVCDPbXQ    5.0   \n",
       "\n",
       "                                                text  \n",
       "0  We were in town from San Francisco to visit fr...  \n",
       "1  I bought a Dealfind voucher and decided to giv...  \n",
       "2  Fun club!!  Great place to hang out and a real...  \n",
       "3  很不錯的港式茶餐廳，味道對。住附近的絕對可以一試。\\n侍應態度都很好。\\n午餐價錢$8 / ...  \n",
       "4  After our horrible customer service next door ...  "
      ]
     },
     "execution_count": 34,
     "metadata": {},
     "output_type": "execute_result"
    }
   ],
   "source": [
    "# Display beginning of original rest_reviews df to compare with the new en_rest_reviews df\n",
    "rest_reviews.head()"
   ]
  },
  {
   "cell_type": "code",
   "execution_count": 33,
   "metadata": {
    "scrolled": true
   },
   "outputs": [
    {
     "data": {
      "text/html": [
       "<div>\n",
       "<style scoped>\n",
       "    .dataframe tbody tr th:only-of-type {\n",
       "        vertical-align: middle;\n",
       "    }\n",
       "\n",
       "    .dataframe tbody tr th {\n",
       "        vertical-align: top;\n",
       "    }\n",
       "\n",
       "    .dataframe thead th {\n",
       "        text-align: right;\n",
       "    }\n",
       "</style>\n",
       "<table border=\"1\" class=\"dataframe\">\n",
       "  <thead>\n",
       "    <tr style=\"text-align: right;\">\n",
       "      <th></th>\n",
       "      <th>business_id</th>\n",
       "      <th>stars</th>\n",
       "      <th>text</th>\n",
       "    </tr>\n",
       "  </thead>\n",
       "  <tbody>\n",
       "    <tr>\n",
       "      <th>0</th>\n",
       "      <td>EXAbfr5PkoRzMqlCb_3ALQ</td>\n",
       "      <td>5.0</td>\n",
       "      <td>We were in town from San Francisco to visit fr...</td>\n",
       "    </tr>\n",
       "    <tr>\n",
       "      <th>1</th>\n",
       "      <td>6sOBPz69VLgIvNAY7dowOg</td>\n",
       "      <td>2.0</td>\n",
       "      <td>I bought a Dealfind voucher and decided to giv...</td>\n",
       "    </tr>\n",
       "    <tr>\n",
       "      <th>2</th>\n",
       "      <td>VMXl3Dm1Nwvgwo1PVYTXbg</td>\n",
       "      <td>5.0</td>\n",
       "      <td>Fun club!!  Great place to hang out and a real...</td>\n",
       "    </tr>\n",
       "    <tr>\n",
       "      <th>4</th>\n",
       "      <td>yNPh5SO-7wr8HPpVCDPbXQ</td>\n",
       "      <td>5.0</td>\n",
       "      <td>After our horrible customer service next door ...</td>\n",
       "    </tr>\n",
       "    <tr>\n",
       "      <th>5</th>\n",
       "      <td>L0aSDVHNXCl6sY4cfZQ-5Q</td>\n",
       "      <td>1.0</td>\n",
       "      <td>If I could give this place zero stars, I would...</td>\n",
       "    </tr>\n",
       "  </tbody>\n",
       "</table>\n",
       "</div>"
      ],
      "text/plain": [
       "              business_id  stars  \\\n",
       "0  EXAbfr5PkoRzMqlCb_3ALQ    5.0   \n",
       "1  6sOBPz69VLgIvNAY7dowOg    2.0   \n",
       "2  VMXl3Dm1Nwvgwo1PVYTXbg    5.0   \n",
       "4  yNPh5SO-7wr8HPpVCDPbXQ    5.0   \n",
       "5  L0aSDVHNXCl6sY4cfZQ-5Q    1.0   \n",
       "\n",
       "                                                text  \n",
       "0  We were in town from San Francisco to visit fr...  \n",
       "1  I bought a Dealfind voucher and decided to giv...  \n",
       "2  Fun club!!  Great place to hang out and a real...  \n",
       "4  After our horrible customer service next door ...  \n",
       "5  If I could give this place zero stars, I would...  "
      ]
     },
     "execution_count": 33,
     "metadata": {},
     "output_type": "execute_result"
    }
   ],
   "source": [
    "# Note how the new en_rest_reviews df no longer has the non_English review at the beginning\n",
    "en_rest_reviews.head()"
   ]
  },
  {
   "cell_type": "code",
   "execution_count": 41,
   "metadata": {},
   "outputs": [
    {
     "data": {
      "text/plain": [
       "True"
      ]
     },
     "execution_count": 41,
     "metadata": {},
     "output_type": "execute_result"
    }
   ],
   "source": [
    "''' Compare the size of the difference between the original rest_reviews df and the new\n",
    "en_rest_reviews df with the size of the list of reviews to be removed. Note that they are equivalent.\n",
    "This shows that all non-English and problematic reviews have been removed from the DataFrame.\n",
    "'''\n",
    "(len(rest_reviews) - len(en_rest_reviews)) == len(all_remove_list)"
   ]
  },
  {
   "cell_type": "markdown",
   "metadata": {},
   "source": [
    "We now have our final DataFrame of all and only English restaurant reviews, so we can save it as a CSV file."
   ]
  },
  {
   "cell_type": "code",
   "execution_count": 43,
   "metadata": {},
   "outputs": [],
   "source": [
    "en_rest_reviews.to_csv('restaurant_reviews_final.csv', index=False)"
   ]
  }
 ],
 "metadata": {
  "kernelspec": {
   "display_name": "Python 3",
   "language": "python",
   "name": "python3"
  },
  "language_info": {
   "codemirror_mode": {
    "name": "ipython",
    "version": 3
   },
   "file_extension": ".py",
   "mimetype": "text/x-python",
   "name": "python",
   "nbconvert_exporter": "python",
   "pygments_lexer": "ipython3",
   "version": "3.7.3"
  }
 },
 "nbformat": 4,
 "nbformat_minor": 2
}
