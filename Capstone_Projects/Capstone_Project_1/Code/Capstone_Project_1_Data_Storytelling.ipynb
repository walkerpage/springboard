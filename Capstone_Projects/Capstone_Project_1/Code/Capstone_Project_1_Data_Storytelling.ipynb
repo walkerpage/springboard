{
 "cells": [
  {
   "cell_type": "code",
   "execution_count": 106,
   "metadata": {},
   "outputs": [],
   "source": [
    "import pandas as pd\n",
    "import numpy as np\n",
    "import matplotlib.pyplot as plt"
   ]
  },
  {
   "cell_type": "code",
   "execution_count": 5,
   "metadata": {},
   "outputs": [],
   "source": [
    "# Import data as DataFrame\n",
    "reviews = pd.read_csv('/Users/dwalkerpage/Documents/Data_Science/Springboard/Projects/springboard/Capstone_Projects/Capstone_Project_1/Capstone_Project_1_Data/restaurant_reviews_final.csv')"
   ]
  },
  {
   "cell_type": "code",
   "execution_count": 6,
   "metadata": {},
   "outputs": [
    {
     "data": {
      "text/html": [
       "<div>\n",
       "<style scoped>\n",
       "    .dataframe tbody tr th:only-of-type {\n",
       "        vertical-align: middle;\n",
       "    }\n",
       "\n",
       "    .dataframe tbody tr th {\n",
       "        vertical-align: top;\n",
       "    }\n",
       "\n",
       "    .dataframe thead th {\n",
       "        text-align: right;\n",
       "    }\n",
       "</style>\n",
       "<table border=\"1\" class=\"dataframe\">\n",
       "  <thead>\n",
       "    <tr style=\"text-align: right;\">\n",
       "      <th></th>\n",
       "      <th>business_id</th>\n",
       "      <th>stars</th>\n",
       "      <th>text</th>\n",
       "    </tr>\n",
       "  </thead>\n",
       "  <tbody>\n",
       "    <tr>\n",
       "      <th>0</th>\n",
       "      <td>EXAbfr5PkoRzMqlCb_3ALQ</td>\n",
       "      <td>5.0</td>\n",
       "      <td>We were in town from San Francisco to visit fr...</td>\n",
       "    </tr>\n",
       "    <tr>\n",
       "      <th>1</th>\n",
       "      <td>6sOBPz69VLgIvNAY7dowOg</td>\n",
       "      <td>2.0</td>\n",
       "      <td>I bought a Dealfind voucher and decided to giv...</td>\n",
       "    </tr>\n",
       "    <tr>\n",
       "      <th>2</th>\n",
       "      <td>VMXl3Dm1Nwvgwo1PVYTXbg</td>\n",
       "      <td>5.0</td>\n",
       "      <td>Fun club!!  Great place to hang out and a real...</td>\n",
       "    </tr>\n",
       "    <tr>\n",
       "      <th>3</th>\n",
       "      <td>yNPh5SO-7wr8HPpVCDPbXQ</td>\n",
       "      <td>5.0</td>\n",
       "      <td>After our horrible customer service next door ...</td>\n",
       "    </tr>\n",
       "    <tr>\n",
       "      <th>4</th>\n",
       "      <td>L0aSDVHNXCl6sY4cfZQ-5Q</td>\n",
       "      <td>1.0</td>\n",
       "      <td>If I could give this place zero stars, I would...</td>\n",
       "    </tr>\n",
       "  </tbody>\n",
       "</table>\n",
       "</div>"
      ],
      "text/plain": [
       "              business_id  stars  \\\n",
       "0  EXAbfr5PkoRzMqlCb_3ALQ    5.0   \n",
       "1  6sOBPz69VLgIvNAY7dowOg    2.0   \n",
       "2  VMXl3Dm1Nwvgwo1PVYTXbg    5.0   \n",
       "3  yNPh5SO-7wr8HPpVCDPbXQ    5.0   \n",
       "4  L0aSDVHNXCl6sY4cfZQ-5Q    1.0   \n",
       "\n",
       "                                                text  \n",
       "0  We were in town from San Francisco to visit fr...  \n",
       "1  I bought a Dealfind voucher and decided to giv...  \n",
       "2  Fun club!!  Great place to hang out and a real...  \n",
       "3  After our horrible customer service next door ...  \n",
       "4  If I could give this place zero stars, I would...  "
      ]
     },
     "execution_count": 6,
     "metadata": {},
     "output_type": "execute_result"
    }
   ],
   "source": [
    "reviews.head()"
   ]
  },
  {
   "cell_type": "markdown",
   "metadata": {},
   "source": [
    "## Question: What is the total number of each star rating in the data set? ##"
   ]
  },
  {
   "cell_type": "code",
   "execution_count": 84,
   "metadata": {
    "scrolled": true
   },
   "outputs": [
    {
     "data": {
      "text/plain": [
       "5.0    1589831\n",
       "4.0    1054999\n",
       "3.0     538961\n",
       "1.0     481143\n",
       "2.0     378515\n",
       "Name: stars, dtype: int64"
      ]
     },
     "execution_count": 84,
     "metadata": {},
     "output_type": "execute_result"
    }
   ],
   "source": [
    "# Count total number of each star rating\n",
    "star_cts = reviews.stars.value_counts()\n",
    "star_cts"
   ]
  },
  {
   "cell_type": "code",
   "execution_count": 83,
   "metadata": {
    "scrolled": false
   },
   "outputs": [
    {
     "data": {
      "image/png": "[encoded data removed]",
      "text/plain": [
       "<Figure size 432x288 with 1 Axes>"
      ]
     },
     "metadata": {
      "needs_background": "light"
     },
     "output_type": "display_data"
    }
   ],
   "source": [
    "# Plot total number/frequency of each star rating\n",
    "_ = star_cts.sort_index().plot.bar()\n",
    "_ = plt.xlabel('Number of Stars', fontsize='large')\n",
    "_ = plt.ylabel('Frequency', fontsize='large')\n",
    "_ = plt.title('Most Star Ratings are 4 or 5', fontsize='xx-large')\n",
    "\n",
    "plt.show()"
   ]
  },
  {
   "cell_type": "markdown",
   "metadata": {},
   "source": [
    "## Question: What are the percentages of each star rating out of all ratings? ##"
   ]
  },
  {
   "cell_type": "code",
   "execution_count": 104,
   "metadata": {},
   "outputs": [
    {
     "name": "stdout",
     "output_type": "stream",
     "text": [
      "Approximately 11.9% of the star ratings are 1 star.\n",
      "Approximately 9.36% of the star ratings are 2 stars.\n",
      "Approximately 13.33% of the star ratings are 3 stars.\n",
      "Approximately 26.09% of the star ratings are 4 stars.\n",
      "Approximately 39.32% of the star ratings are 5 stars.\n"
     ]
    }
   ],
   "source": [
    "# Percentage of 1 star reviews\n",
    "print('Approximately {}% of the star ratings are 1 star.'.format(round((star_cts.loc[1.0] / len(reviews)) * 100, 2)))\n",
    "\n",
    "# Percentage of 2 star reviews\n",
    "print('Approximately {}% of the star ratings are 2 stars.'.format(round((star_cts.loc[2.0] / len(reviews)) * 100, 2)))\n",
    "\n",
    "# Percentage of 3 star reviews\n",
    "print('Approximately {}% of the star ratings are 3 stars.'.format(round((star_cts.loc[3.0] / len(reviews)) * 100, 2)))\n",
    "\n",
    "# Percentage of 4 star reviews\n",
    "print('Approximately {}% of the star ratings are 4 stars.'.format(round((star_cts.loc[4.0] / len(reviews)) * 100, 2)))\n",
    "\n",
    "# Percentage of 5 star reviews\n",
    "print('Approximately {}% of the star ratings are 5 stars.'.format(round((star_cts.loc[5.0] / len(reviews)) * 100, 2)))"
   ]
  },
  {
   "cell_type": "code",
   "execution_count": 134,
   "metadata": {},
   "outputs": [
    {
     "data": {
      "image/png": "[encoded data removed]",
      "text/plain": [
       "<Figure size 432x288 with 1 Axes>"
      ]
     },
     "metadata": {},
     "output_type": "display_data"
    }
   ],
   "source": [
    "# Plot of percentage of ratings for each rating\n",
    "_ = star_cts.plot.pie(autopct='%1.2f%%', radius=1.1)\n",
    "_ = plt.ylabel('')\n",
    "_ = plt.title('Percentage of Ratings', fontsize='xx-large')\n",
    "_ = plt.legend(title='Star Ratings',\n",
    "               loc='center right',\n",
    "               bbox_to_anchor=(1, 0, 0.5, 1))\n",
    "\n",
    "plt.show()"
   ]
  },
  {
   "cell_type": "markdown",
   "metadata": {},
   "source": [
    "## Question: What is the average star rating for each restaurant? ##"
   ]
  },
  {
   "cell_type": "code",
   "execution_count": 43,
   "metadata": {},
   "outputs": [],
   "source": [
    "# Group review data by business_id and calculate mean star rating for each restaurant\n",
    "df = reviews.groupby(['business_id']).mean()"
   ]
  },
  {
   "cell_type": "code",
   "execution_count": 48,
   "metadata": {
    "scrolled": true
   },
   "outputs": [
    {
     "data": {
      "text/html": [
       "<div>\n",
       "<style scoped>\n",
       "    .dataframe tbody tr th:only-of-type {\n",
       "        vertical-align: middle;\n",
       "    }\n",
       "\n",
       "    .dataframe tbody tr th {\n",
       "        vertical-align: top;\n",
       "    }\n",
       "\n",
       "    .dataframe thead th {\n",
       "        text-align: right;\n",
       "    }\n",
       "</style>\n",
       "<table border=\"1\" class=\"dataframe\">\n",
       "  <thead>\n",
       "    <tr style=\"text-align: right;\">\n",
       "      <th></th>\n",
       "      <th>stars</th>\n",
       "    </tr>\n",
       "    <tr>\n",
       "      <th>business_id</th>\n",
       "      <th></th>\n",
       "    </tr>\n",
       "  </thead>\n",
       "  <tbody>\n",
       "    <tr>\n",
       "      <th>--1UhMGODdWsrMastO9DZw</th>\n",
       "      <td>4.076923</td>\n",
       "    </tr>\n",
       "    <tr>\n",
       "      <th>--6MefnULPED_I942VcFNA</th>\n",
       "      <td>3.173913</td>\n",
       "    </tr>\n",
       "    <tr>\n",
       "      <th>--9e1ONYQuAa-CB_Rrw7Tw</th>\n",
       "      <td>4.125680</td>\n",
       "    </tr>\n",
       "    <tr>\n",
       "      <th>--DaPTJW3-tB1vP-PfdTEg</th>\n",
       "      <td>3.714286</td>\n",
       "    </tr>\n",
       "    <tr>\n",
       "      <th>--FBCX-N37CMYDfs790Bnw</th>\n",
       "      <td>3.746479</td>\n",
       "    </tr>\n",
       "  </tbody>\n",
       "</table>\n",
       "</div>"
      ],
      "text/plain": [
       "                           stars\n",
       "business_id                     \n",
       "--1UhMGODdWsrMastO9DZw  4.076923\n",
       "--6MefnULPED_I942VcFNA  3.173913\n",
       "--9e1ONYQuAa-CB_Rrw7Tw  4.125680\n",
       "--DaPTJW3-tB1vP-PfdTEg  3.714286\n",
       "--FBCX-N37CMYDfs790Bnw  3.746479"
      ]
     },
     "execution_count": 48,
     "metadata": {},
     "output_type": "execute_result"
    }
   ],
   "source": [
    "df.head()"
   ]
  },
  {
   "cell_type": "code",
   "execution_count": 135,
   "metadata": {},
   "outputs": [
    {
     "data": {
      "image/png": "[encoded data removed]",
      "text/plain": [
       "<Figure size 432x288 with 1 Axes>"
      ]
     },
     "metadata": {
      "needs_background": "light"
     },
     "output_type": "display_data"
    }
   ],
   "source": [
    "# Plot histogram of frequency of mean star rating for each restaurant\n",
    "_ = df.plot.hist(bins=[1, 2, 3, 4, 5])\n",
    "_ = plt.xticks(ticks=[1, 2, 3, 4, 5])\n",
    "_ = plt.xlabel('Mean Number of Stars', fontsize='large')\n",
    "_ = plt.ylabel('Frequency', fontsize='large')\n",
    "_ = plt.title('Half of Restaurants Have an Average Star Rating Between 3 and 4', fontsize='xx-large')\n",
    "\n",
    "plt.show()"
   ]
  },
  {
   "cell_type": "code",
   "execution_count": 77,
   "metadata": {},
   "outputs": [
    {
     "name": "stdout",
     "output_type": "stream",
     "text": [
      "The percentage of restaurants whose mean star rating is between 1 and 2 is approximately: 5.65%\n",
      "The percentage of restaurants whose mean star rating is between 2 and 3 is approximately: 22.42%\n",
      "The percentage of restaurants whose mean star rating is between 3 and 4 is approximately: 46.86%\n",
      "The percentage of restaurants whose mean star rating is between 4 and 5 is approximately: 24.56%\n"
     ]
    }
   ],
   "source": [
    "# Percentage of restaurants whose mean star rating is between 1 and 2\n",
    "print('The percentage of restaurants whose mean star rating is between 1 and 2 is approximately: {}%'\n",
    "      .format(round((len(df[(df['stars'] > 1) & (df['stars'] <= 2)]) / len(df)) * 100, 2)))\n",
    "\n",
    "# Percentage of restaurants whose mean star rating is between 2 and 3\n",
    "print('The percentage of restaurants whose mean star rating is between 2 and 3 is approximately: {}%'\n",
    "      .format(round((len(df[(df['stars'] > 2) & (df['stars'] <= 3)]) / len(df)) * 100, 2)))\n",
    "\n",
    "# Percentage of restaurants whose mean star rating is between 3 and 4\n",
    "print('The percentage of restaurants whose mean star rating is between 3 and 4 is approximately: {}%'\n",
    "      .format(round((len(df[(df['stars'] > 3) & (df['stars'] <= 4)]) / len(df)) * 100, 2)))\n",
    "\n",
    "# Percentage of restaurants whose mean star rating is between 4 and 5\n",
    "print('The percentage of restaurants whose mean star rating is between 4 and 5 is approximately: {}%'\n",
    "      .format(round((len(df[(df['stars'] > 4) & (df['stars'] <= 5)]) / len(df)) * 100, 2)))"
   ]
  },
  {
   "cell_type": "markdown",
   "metadata": {},
   "source": [
    "Approximately half of all restaurants have a mean star rating between 3 and 4."
   ]
  },
  {
   "cell_type": "code",
   "execution_count": 90,
   "metadata": {
    "scrolled": true
   },
   "outputs": [
    {
     "data": {
      "text/html": [
       "<div>\n",
       "<style scoped>\n",
       "    .dataframe tbody tr th:only-of-type {\n",
       "        vertical-align: middle;\n",
       "    }\n",
       "\n",
       "    .dataframe tbody tr th {\n",
       "        vertical-align: top;\n",
       "    }\n",
       "\n",
       "    .dataframe thead th {\n",
       "        text-align: right;\n",
       "    }\n",
       "</style>\n",
       "<table border=\"1\" class=\"dataframe\">\n",
       "  <thead>\n",
       "    <tr style=\"text-align: right;\">\n",
       "      <th></th>\n",
       "      <th>stars</th>\n",
       "    </tr>\n",
       "  </thead>\n",
       "  <tbody>\n",
       "    <tr>\n",
       "      <th>count</th>\n",
       "      <td>59287.000000</td>\n",
       "    </tr>\n",
       "    <tr>\n",
       "      <th>mean</th>\n",
       "      <td>3.444693</td>\n",
       "    </tr>\n",
       "    <tr>\n",
       "      <th>std</th>\n",
       "      <td>0.797605</td>\n",
       "    </tr>\n",
       "    <tr>\n",
       "      <th>min</th>\n",
       "      <td>1.000000</td>\n",
       "    </tr>\n",
       "    <tr>\n",
       "      <th>25%</th>\n",
       "      <td>2.984791</td>\n",
       "    </tr>\n",
       "    <tr>\n",
       "      <th>50%</th>\n",
       "      <td>3.533333</td>\n",
       "    </tr>\n",
       "    <tr>\n",
       "      <th>75%</th>\n",
       "      <td>4.000000</td>\n",
       "    </tr>\n",
       "    <tr>\n",
       "      <th>max</th>\n",
       "      <td>5.000000</td>\n",
       "    </tr>\n",
       "  </tbody>\n",
       "</table>\n",
       "</div>"
      ],
      "text/plain": [
       "              stars\n",
       "count  59287.000000\n",
       "mean       3.444693\n",
       "std        0.797605\n",
       "min        1.000000\n",
       "25%        2.984791\n",
       "50%        3.533333\n",
       "75%        4.000000\n",
       "max        5.000000"
      ]
     },
     "execution_count": 90,
     "metadata": {},
     "output_type": "execute_result"
    }
   ],
   "source": [
    "# Compute descriptive statistics of mean star ratings\n",
    "df.describe()"
   ]
  },
  {
   "cell_type": "markdown",
   "metadata": {},
   "source": [
    "## Question: How many reviews has each restaurant received? ##"
   ]
  },
  {
   "cell_type": "code",
   "execution_count": 85,
   "metadata": {
    "scrolled": true
   },
   "outputs": [
    {
     "data": {
      "text/plain": [
       "RESDUcs7fIiihp38-d6_6g    8521\n",
       "4JNXUYY8wbaaDmk3BPzlWw    8516\n",
       "K7lWdNUhCbcnEvI0NhGewg    6867\n",
       "f4x1YBxkLrZg652xt2KR5g    5821\n",
       "cYwJA2A6I12KNkm2rtXd5g    5537\n",
       "DkYS3arLOhA8si5uUEmHOw    5182\n",
       "2weQS-RnoOBhb1KsHKyoSQ    4509\n",
       "5LNZ67Yw9RD6nf4_UhXOjw    4509\n",
       "iCQpiavjjPzJ5_3gPD5Ebg    4332\n",
       "AV6weBrZFFBfRGCbcRGO4g    4185\n",
       "KskYqH1Bi7Z_61pH6Om8pg    4119\n",
       "El4FC8jcawUVgw_0EIcbaQ    4067\n",
       "rcaPajgKOJC2vo_l3xa42A    4011\n",
       "eoHdUeQDNgQ6WYEnP2aiRw    3997\n",
       "OETh78qcgDltvHULowwhJg    3624\n",
       "hihud--QRriCYZw1zZvW4g    3516\n",
       "7sPNbCx7vGAaH7SbNPZ6oA    3488\n",
       "g8OnV26ywJlZpezdBnOWUQ    3360\n",
       "3kdSl5mo9dWC4clrQjEDGg    3336\n",
       "XZbuPXdyA0ZtTu3AzqtQhg    3335\n",
       "YJ8ljUhLsz6CtT_2ORNFmg    3293\n",
       "RwMLuOkImBIqqYj4SSKSPg    3240\n",
       "P7pxQFqr7yBKMMI2J51udw    3215\n",
       "eAc9Vd6loOgRQolMXQt6FA    3174\n",
       "yfxDa8RFOvJPQh0rNtakHA    3097\n",
       "G-5kEa6E6PD5fkBRuA7k9Q    2971\n",
       "fL-b760btOaGa85OJ9ut3w    2933\n",
       "ujHiaprwCQ5ewziu0Vi9rw    2921\n",
       "QJatAcxYgK1Zp9BRZMAx7g    2859\n",
       "NvKNe9DnQavC9GstglcBJQ    2816\n",
       "                          ... \n",
       "oqqBEXH84dJgBlfEMA69XA       1\n",
       "V2lhqmmpe3G51WDOfhVQXQ       1\n",
       "_oso_F3XAy5SYtbYg7Jf0Q       1\n",
       "pq38ABFpgiLKhJPUCj7ttg       1\n",
       "K2gKLEbzKOy6JJuNkHP4lw       1\n",
       "RbFy8qBvs_8VJkDqMehZFg       1\n",
       "zRXUGT5HLSjCVqBeMQHpsQ       1\n",
       "Lw49aJ96ntO_4ddZA-NtDw       1\n",
       "vJ2esWrQ4CDyYJbrZ0JI2Q       1\n",
       "oDz72mVeyKe59j28YmG8mA       1\n",
       "im98gAIpHi55l9s-TtTgmQ       1\n",
       "hChPQiRlYqVaP_3r-HbfXQ       1\n",
       "k9byY47rtCCXaVPo9GyYPg       1\n",
       "fsMgUPvNasNOMoz5yx680Q       1\n",
       "PbOnLu9ZVqG88oVem8_khA       1\n",
       "fZ9NN2JDnoeFNOr9tAaUbw       1\n",
       "kTqhrYTKwbWUe-HxfKjB4Q       1\n",
       "ZgOBymsRE9F6VTqQiLqYQw       1\n",
       "wFP9QkYF7lxwXa52t_qsXg       1\n",
       "YtRMn_pgS-8wNoTOyHfENA       1\n",
       "SvBYXF90-eqcxD8sAHzZfw       1\n",
       "NP5K9KRnBckoOGInUbs-SQ       1\n",
       "6BpELbqMVHEuQEH8ooZZxw       1\n",
       "ID89DX9hQ-WbVMxLWqy4Cw       1\n",
       "t23jdrNUOjVa7WMxdSbHMA       1\n",
       "zHstKayEam5PTQbTRcqAeg       1\n",
       "CPZwngSfv-5OpQ3iQZOrsQ       1\n",
       "mvqvZ1ipV6xNP7WU4guI4g       1\n",
       "H4NYlACsPEIFqMCkmgl5BA       1\n",
       "0gfGLDe_gSr9CYUBO57i0g       1\n",
       "Name: business_id, Length: 59287, dtype: int64"
      ]
     },
     "execution_count": 85,
     "metadata": {},
     "output_type": "execute_result"
    }
   ],
   "source": [
    "# Count number of reviews per restaurant\n",
    "reviews_per_rest = reviews['business_id'].value_counts()\n",
    "reviews_per_rest"
   ]
  },
  {
   "cell_type": "code",
   "execution_count": 89,
   "metadata": {},
   "outputs": [
    {
     "data": {
      "text/plain": [
       "count    59287.000000\n",
       "mean        68.201275\n",
       "std        176.910411\n",
       "min          1.000000\n",
       "25%          7.000000\n",
       "50%         20.000000\n",
       "75%         62.000000\n",
       "max       8521.000000\n",
       "Name: business_id, dtype: float64"
      ]
     },
     "execution_count": 89,
     "metadata": {},
     "output_type": "execute_result"
    }
   ],
   "source": [
    "# Compute descriptive statistics for number of reviews per restaurant\n",
    "reviews_per_rest.describe()"
   ]
  }
 ],
 "metadata": {
  "kernelspec": {
   "display_name": "Python 3",
   "language": "python",
   "name": "python3"
  },
  "language_info": {
   "codemirror_mode": {
    "name": "ipython",
    "version": 3
   },
   "file_extension": ".py",
   "mimetype": "text/x-python",
   "name": "python",
   "nbconvert_exporter": "python",
   "pygments_lexer": "ipython3",
   "version": "3.7.3"
  }
 },
 "nbformat": 4,
 "nbformat_minor": 2
}
