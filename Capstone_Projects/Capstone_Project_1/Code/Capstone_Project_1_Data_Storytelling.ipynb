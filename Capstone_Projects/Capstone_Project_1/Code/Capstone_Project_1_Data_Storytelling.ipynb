{
 "cells": [
  {
   "cell_type": "code",
   "execution_count": 156,
   "metadata": {},
   "outputs": [],
   "source": [
    "import pandas as pd\n",
    "import numpy as np\n",
    "import matplotlib.pyplot as plt"
   ]
  },
  {
   "cell_type": "code",
   "execution_count": 2,
   "metadata": {},
   "outputs": [],
   "source": [
    "# Import data as DataFrame\n",
    "reviews = pd.read_csv('/Users/dwalkerpage/Documents/Data_Science/Springboard/Projects/springboard/Capstone_Projects/Capstone_Project_1/Capstone_Project_1_Data/restaurant_reviews_final.csv')"
   ]
  },
  {
   "cell_type": "code",
   "execution_count": 3,
   "metadata": {},
   "outputs": [
    {
     "data": {
      "text/html": [
       "<div>\n",
       "<style scoped>\n",
       "    .dataframe tbody tr th:only-of-type {\n",
       "        vertical-align: middle;\n",
       "    }\n",
       "\n",
       "    .dataframe tbody tr th {\n",
       "        vertical-align: top;\n",
       "    }\n",
       "\n",
       "    .dataframe thead th {\n",
       "        text-align: right;\n",
       "    }\n",
       "</style>\n",
       "<table border=\"1\" class=\"dataframe\">\n",
       "  <thead>\n",
       "    <tr style=\"text-align: right;\">\n",
       "      <th></th>\n",
       "      <th>business_id</th>\n",
       "      <th>stars</th>\n",
       "      <th>text</th>\n",
       "    </tr>\n",
       "  </thead>\n",
       "  <tbody>\n",
       "    <tr>\n",
       "      <th>0</th>\n",
       "      <td>EXAbfr5PkoRzMqlCb_3ALQ</td>\n",
       "      <td>5.0</td>\n",
       "      <td>We were in town from San Francisco to visit fr...</td>\n",
       "    </tr>\n",
       "    <tr>\n",
       "      <th>1</th>\n",
       "      <td>6sOBPz69VLgIvNAY7dowOg</td>\n",
       "      <td>2.0</td>\n",
       "      <td>I bought a Dealfind voucher and decided to giv...</td>\n",
       "    </tr>\n",
       "    <tr>\n",
       "      <th>2</th>\n",
       "      <td>VMXl3Dm1Nwvgwo1PVYTXbg</td>\n",
       "      <td>5.0</td>\n",
       "      <td>Fun club!!  Great place to hang out and a real...</td>\n",
       "    </tr>\n",
       "    <tr>\n",
       "      <th>3</th>\n",
       "      <td>yNPh5SO-7wr8HPpVCDPbXQ</td>\n",
       "      <td>5.0</td>\n",
       "      <td>After our horrible customer service next door ...</td>\n",
       "    </tr>\n",
       "    <tr>\n",
       "      <th>4</th>\n",
       "      <td>L0aSDVHNXCl6sY4cfZQ-5Q</td>\n",
       "      <td>1.0</td>\n",
       "      <td>If I could give this place zero stars, I would...</td>\n",
       "    </tr>\n",
       "  </tbody>\n",
       "</table>\n",
       "</div>"
      ],
      "text/plain": [
       "              business_id  stars  \\\n",
       "0  EXAbfr5PkoRzMqlCb_3ALQ    5.0   \n",
       "1  6sOBPz69VLgIvNAY7dowOg    2.0   \n",
       "2  VMXl3Dm1Nwvgwo1PVYTXbg    5.0   \n",
       "3  yNPh5SO-7wr8HPpVCDPbXQ    5.0   \n",
       "4  L0aSDVHNXCl6sY4cfZQ-5Q    1.0   \n",
       "\n",
       "                                                text  \n",
       "0  We were in town from San Francisco to visit fr...  \n",
       "1  I bought a Dealfind voucher and decided to giv...  \n",
       "2  Fun club!!  Great place to hang out and a real...  \n",
       "3  After our horrible customer service next door ...  \n",
       "4  If I could give this place zero stars, I would...  "
      ]
     },
     "execution_count": 3,
     "metadata": {},
     "output_type": "execute_result"
    }
   ],
   "source": [
    "reviews.head()"
   ]
  },
  {
   "cell_type": "markdown",
   "metadata": {},
   "source": [
    "## Question: What is the total number of each star rating in the data set? ##"
   ]
  },
  {
   "cell_type": "code",
   "execution_count": 4,
   "metadata": {
    "scrolled": true
   },
   "outputs": [
    {
     "data": {
      "text/plain": [
       "5.0    1589831\n",
       "4.0    1054999\n",
       "3.0     538961\n",
       "1.0     481143\n",
       "2.0     378515\n",
       "Name: stars, dtype: int64"
      ]
     },
     "execution_count": 4,
     "metadata": {},
     "output_type": "execute_result"
    }
   ],
   "source": [
    "# Count total number of each star rating\n",
    "star_cts = reviews.stars.value_counts()\n",
    "star_cts"
   ]
  },
  {
   "cell_type": "code",
   "execution_count": 5,
   "metadata": {
    "scrolled": false
   },
   "outputs": [
    {
     "data": {
      "image/png": "[encoded data removed]",
      "text/plain": [
       "<Figure size 432x288 with 1 Axes>"
      ]
     },
     "metadata": {
      "needs_background": "light"
     },
     "output_type": "display_data"
    }
   ],
   "source": [
    "# Plot total number/frequency of each star rating\n",
    "_ = star_cts.sort_index().plot.bar()\n",
    "_ = plt.xlabel('Number of Stars', fontsize='large')\n",
    "_ = plt.ylabel('Frequency', fontsize='large')\n",
    "_ = plt.title('Most Star Ratings are 4 or 5', fontsize='xx-large')\n",
    "\n",
    "plt.show()"
   ]
  },
  {
   "cell_type": "markdown",
   "metadata": {},
   "source": [
    "## Question: What are the percentages of each star rating out of all ratings? ##"
   ]
  },
  {
   "cell_type": "code",
   "execution_count": 6,
   "metadata": {},
   "outputs": [
    {
     "name": "stdout",
     "output_type": "stream",
     "text": [
      "Approximately 11.9% of the star ratings are 1 star.\n",
      "Approximately 9.36% of the star ratings are 2 stars.\n",
      "Approximately 13.33% of the star ratings are 3 stars.\n",
      "Approximately 26.09% of the star ratings are 4 stars.\n",
      "Approximately 39.32% of the star ratings are 5 stars.\n"
     ]
    }
   ],
   "source": [
    "# Percentage of 1 star reviews\n",
    "print('Approximately {}% of the star ratings are 1 star.'.format(round((star_cts.loc[1.0] / len(reviews)) * 100, 2)))\n",
    "\n",
    "# Percentage of 2 star reviews\n",
    "print('Approximately {}% of the star ratings are 2 stars.'.format(round((star_cts.loc[2.0] / len(reviews)) * 100, 2)))\n",
    "\n",
    "# Percentage of 3 star reviews\n",
    "print('Approximately {}% of the star ratings are 3 stars.'.format(round((star_cts.loc[3.0] / len(reviews)) * 100, 2)))\n",
    "\n",
    "# Percentage of 4 star reviews\n",
    "print('Approximately {}% of the star ratings are 4 stars.'.format(round((star_cts.loc[4.0] / len(reviews)) * 100, 2)))\n",
    "\n",
    "# Percentage of 5 star reviews\n",
    "print('Approximately {}% of the star ratings are 5 stars.'.format(round((star_cts.loc[5.0] / len(reviews)) * 100, 2)))"
   ]
  },
  {
   "cell_type": "code",
   "execution_count": 7,
   "metadata": {},
   "outputs": [
    {
     "data": {
      "image/png": "[encoded data removed]",
      "text/plain": [
       "<Figure size 432x288 with 1 Axes>"
      ]
     },
     "metadata": {},
     "output_type": "display_data"
    }
   ],
   "source": [
    "# Plot of percentage of ratings for each rating\n",
    "_ = star_cts.plot.pie(autopct='%1.2f%%', radius=1.1)\n",
    "_ = plt.ylabel('')\n",
    "_ = plt.title('Percentage of Ratings', fontsize='xx-large')\n",
    "_ = plt.legend(title='Star Ratings',\n",
    "               loc='center right',\n",
    "               bbox_to_anchor=(1, 0, 0.5, 1))\n",
    "\n",
    "plt.show()"
   ]
  },
  {
   "cell_type": "markdown",
   "metadata": {},
   "source": [
    "## Question: What is the average star rating for each restaurant? ##"
   ]
  },
  {
   "cell_type": "code",
   "execution_count": 8,
   "metadata": {},
   "outputs": [],
   "source": [
    "# Group review data by business_id and calculate mean star rating for each restaurant\n",
    "df = reviews.groupby(['business_id']).mean()"
   ]
  },
  {
   "cell_type": "code",
   "execution_count": 9,
   "metadata": {
    "scrolled": true
   },
   "outputs": [
    {
     "data": {
      "text/html": [
       "<div>\n",
       "<style scoped>\n",
       "    .dataframe tbody tr th:only-of-type {\n",
       "        vertical-align: middle;\n",
       "    }\n",
       "\n",
       "    .dataframe tbody tr th {\n",
       "        vertical-align: top;\n",
       "    }\n",
       "\n",
       "    .dataframe thead th {\n",
       "        text-align: right;\n",
       "    }\n",
       "</style>\n",
       "<table border=\"1\" class=\"dataframe\">\n",
       "  <thead>\n",
       "    <tr style=\"text-align: right;\">\n",
       "      <th></th>\n",
       "      <th>stars</th>\n",
       "    </tr>\n",
       "    <tr>\n",
       "      <th>business_id</th>\n",
       "      <th></th>\n",
       "    </tr>\n",
       "  </thead>\n",
       "  <tbody>\n",
       "    <tr>\n",
       "      <th>--1UhMGODdWsrMastO9DZw</th>\n",
       "      <td>4.076923</td>\n",
       "    </tr>\n",
       "    <tr>\n",
       "      <th>--6MefnULPED_I942VcFNA</th>\n",
       "      <td>3.173913</td>\n",
       "    </tr>\n",
       "    <tr>\n",
       "      <th>--9e1ONYQuAa-CB_Rrw7Tw</th>\n",
       "      <td>4.125680</td>\n",
       "    </tr>\n",
       "    <tr>\n",
       "      <th>--DaPTJW3-tB1vP-PfdTEg</th>\n",
       "      <td>3.714286</td>\n",
       "    </tr>\n",
       "    <tr>\n",
       "      <th>--FBCX-N37CMYDfs790Bnw</th>\n",
       "      <td>3.746479</td>\n",
       "    </tr>\n",
       "  </tbody>\n",
       "</table>\n",
       "</div>"
      ],
      "text/plain": [
       "                           stars\n",
       "business_id                     \n",
       "--1UhMGODdWsrMastO9DZw  4.076923\n",
       "--6MefnULPED_I942VcFNA  3.173913\n",
       "--9e1ONYQuAa-CB_Rrw7Tw  4.125680\n",
       "--DaPTJW3-tB1vP-PfdTEg  3.714286\n",
       "--FBCX-N37CMYDfs790Bnw  3.746479"
      ]
     },
     "execution_count": 9,
     "metadata": {},
     "output_type": "execute_result"
    }
   ],
   "source": [
    "df.head()"
   ]
  },
  {
   "cell_type": "code",
   "execution_count": 18,
   "metadata": {},
   "outputs": [
    {
     "data": {
      "image/png": "[encoded data removed]",
      "text/plain": [
       "<Figure size 432x288 with 1 Axes>"
      ]
     },
     "metadata": {
      "needs_background": "light"
     },
     "output_type": "display_data"
    }
   ],
   "source": [
    "# Plot histogram of frequency of mean star rating for each restaurant\n",
    "_ = df.plot.hist(bins=[1, 2, 3, 4, 5])\n",
    "_ = plt.xticks(ticks=[1, 2, 3, 4, 5])\n",
    "_ = plt.xlabel('Mean Number of Stars', fontsize='large')\n",
    "_ = plt.ylabel('Frequency', fontsize='large')\n",
    "_ = plt.title('Half of Restaurants Have an Average Star Rating Between 3 and 4', fontsize='xx-large')\n",
    "\n",
    "plt.show()"
   ]
  },
  {
   "cell_type": "code",
   "execution_count": 11,
   "metadata": {},
   "outputs": [
    {
     "name": "stdout",
     "output_type": "stream",
     "text": [
      "The percentage of restaurants whose mean star rating is between 1 and 2 is approximately: 5.65%\n",
      "The percentage of restaurants whose mean star rating is between 2 and 3 is approximately: 22.42%\n",
      "The percentage of restaurants whose mean star rating is between 3 and 4 is approximately: 46.86%\n",
      "The percentage of restaurants whose mean star rating is between 4 and 5 is approximately: 24.56%\n"
     ]
    }
   ],
   "source": [
    "# Percentage of restaurants whose mean star rating is between 1 and 2\n",
    "print('The percentage of restaurants whose mean star rating is between 1 and 2 is approximately: {}%'\n",
    "      .format(round((len(df[(df['stars'] > 1) & (df['stars'] <= 2)]) / len(df)) * 100, 2)))\n",
    "\n",
    "# Percentage of restaurants whose mean star rating is between 2 and 3\n",
    "print('The percentage of restaurants whose mean star rating is between 2 and 3 is approximately: {}%'\n",
    "      .format(round((len(df[(df['stars'] > 2) & (df['stars'] <= 3)]) / len(df)) * 100, 2)))\n",
    "\n",
    "# Percentage of restaurants whose mean star rating is between 3 and 4\n",
    "print('The percentage of restaurants whose mean star rating is between 3 and 4 is approximately: {}%'\n",
    "      .format(round((len(df[(df['stars'] > 3) & (df['stars'] <= 4)]) / len(df)) * 100, 2)))\n",
    "\n",
    "# Percentage of restaurants whose mean star rating is between 4 and 5\n",
    "print('The percentage of restaurants whose mean star rating is between 4 and 5 is approximately: {}%'\n",
    "      .format(round((len(df[(df['stars'] > 4) & (df['stars'] <= 5)]) / len(df)) * 100, 2)))"
   ]
  },
  {
   "cell_type": "markdown",
   "metadata": {},
   "source": [
    "Approximately half of all restaurants have a mean star rating between 3 and 4."
   ]
  },
  {
   "cell_type": "code",
   "execution_count": 12,
   "metadata": {
    "scrolled": true
   },
   "outputs": [
    {
     "data": {
      "text/html": [
       "<div>\n",
       "<style scoped>\n",
       "    .dataframe tbody tr th:only-of-type {\n",
       "        vertical-align: middle;\n",
       "    }\n",
       "\n",
       "    .dataframe tbody tr th {\n",
       "        vertical-align: top;\n",
       "    }\n",
       "\n",
       "    .dataframe thead th {\n",
       "        text-align: right;\n",
       "    }\n",
       "</style>\n",
       "<table border=\"1\" class=\"dataframe\">\n",
       "  <thead>\n",
       "    <tr style=\"text-align: right;\">\n",
       "      <th></th>\n",
       "      <th>stars</th>\n",
       "    </tr>\n",
       "  </thead>\n",
       "  <tbody>\n",
       "    <tr>\n",
       "      <th>count</th>\n",
       "      <td>59287.000000</td>\n",
       "    </tr>\n",
       "    <tr>\n",
       "      <th>mean</th>\n",
       "      <td>3.444693</td>\n",
       "    </tr>\n",
       "    <tr>\n",
       "      <th>std</th>\n",
       "      <td>0.797605</td>\n",
       "    </tr>\n",
       "    <tr>\n",
       "      <th>min</th>\n",
       "      <td>1.000000</td>\n",
       "    </tr>\n",
       "    <tr>\n",
       "      <th>25%</th>\n",
       "      <td>2.984791</td>\n",
       "    </tr>\n",
       "    <tr>\n",
       "      <th>50%</th>\n",
       "      <td>3.533333</td>\n",
       "    </tr>\n",
       "    <tr>\n",
       "      <th>75%</th>\n",
       "      <td>4.000000</td>\n",
       "    </tr>\n",
       "    <tr>\n",
       "      <th>max</th>\n",
       "      <td>5.000000</td>\n",
       "    </tr>\n",
       "  </tbody>\n",
       "</table>\n",
       "</div>"
      ],
      "text/plain": [
       "              stars\n",
       "count  59287.000000\n",
       "mean       3.444693\n",
       "std        0.797605\n",
       "min        1.000000\n",
       "25%        2.984791\n",
       "50%        3.533333\n",
       "75%        4.000000\n",
       "max        5.000000"
      ]
     },
     "execution_count": 12,
     "metadata": {},
     "output_type": "execute_result"
    }
   ],
   "source": [
    "# Compute descriptive statistics of mean star ratings\n",
    "df.describe()"
   ]
  },
  {
   "cell_type": "markdown",
   "metadata": {},
   "source": [
    "## Question: How many reviews has each restaurant received? ##"
   ]
  },
  {
   "cell_type": "code",
   "execution_count": 13,
   "metadata": {
    "scrolled": true
   },
   "outputs": [
    {
     "data": {
      "text/plain": [
       "RESDUcs7fIiihp38-d6_6g    8521\n",
       "4JNXUYY8wbaaDmk3BPzlWw    8516\n",
       "K7lWdNUhCbcnEvI0NhGewg    6867\n",
       "f4x1YBxkLrZg652xt2KR5g    5821\n",
       "cYwJA2A6I12KNkm2rtXd5g    5537\n",
       "DkYS3arLOhA8si5uUEmHOw    5182\n",
       "2weQS-RnoOBhb1KsHKyoSQ    4509\n",
       "5LNZ67Yw9RD6nf4_UhXOjw    4509\n",
       "iCQpiavjjPzJ5_3gPD5Ebg    4332\n",
       "AV6weBrZFFBfRGCbcRGO4g    4185\n",
       "KskYqH1Bi7Z_61pH6Om8pg    4119\n",
       "El4FC8jcawUVgw_0EIcbaQ    4067\n",
       "rcaPajgKOJC2vo_l3xa42A    4011\n",
       "eoHdUeQDNgQ6WYEnP2aiRw    3997\n",
       "OETh78qcgDltvHULowwhJg    3624\n",
       "hihud--QRriCYZw1zZvW4g    3516\n",
       "7sPNbCx7vGAaH7SbNPZ6oA    3488\n",
       "g8OnV26ywJlZpezdBnOWUQ    3360\n",
       "3kdSl5mo9dWC4clrQjEDGg    3336\n",
       "XZbuPXdyA0ZtTu3AzqtQhg    3335\n",
       "YJ8ljUhLsz6CtT_2ORNFmg    3293\n",
       "RwMLuOkImBIqqYj4SSKSPg    3240\n",
       "P7pxQFqr7yBKMMI2J51udw    3215\n",
       "eAc9Vd6loOgRQolMXQt6FA    3174\n",
       "yfxDa8RFOvJPQh0rNtakHA    3097\n",
       "G-5kEa6E6PD5fkBRuA7k9Q    2971\n",
       "fL-b760btOaGa85OJ9ut3w    2933\n",
       "ujHiaprwCQ5ewziu0Vi9rw    2921\n",
       "QJatAcxYgK1Zp9BRZMAx7g    2859\n",
       "NvKNe9DnQavC9GstglcBJQ    2816\n",
       "                          ... \n",
       "N2NOGUd_EyrnY8JoEBhFkg       1\n",
       "buk0wVdm_42901qeVIoTrg       1\n",
       "DV341cpTqEDdT3_iST3Sgw       1\n",
       "I0YeW3yodiQzGrCNhM_pQg       1\n",
       "nTkWg0MKJOUAD98BbA0KVw       1\n",
       "k0hubMR5shuk4OP3FhySSA       1\n",
       "n7aUTY0zBFTrfzh2gxpWzg       1\n",
       "iK4RMXD0ZOBhnGIt1LaSJg       1\n",
       "_oso_F3XAy5SYtbYg7Jf0Q       1\n",
       "a3tn3GvThDxtEYHengsOBQ       1\n",
       "nMK88o5qijYTFi2WjqcIZQ       1\n",
       "w4y-Sx_PJpP6sCfK7obuRQ       1\n",
       "O8Lo-36jwEgKOtBsOxfnuA       1\n",
       "5Ro4an5IOaDEb3UJRxOkeg       1\n",
       "L8Iy7uZOQYy3TMZ2L3RFyA       1\n",
       "So2tr4GnhCMYeZvfJYRCEQ       1\n",
       "zHstKayEam5PTQbTRcqAeg       1\n",
       "PJqRa0uMRpAPAXpC0Z5a_g       1\n",
       "1AEALHEuoiM0aeU9FL3asw       1\n",
       "8oDj7XmPrBcH2D2iYcpP9Q       1\n",
       "0Phpwe_bkn8GdDBcEViAbg       1\n",
       "hxH6HAfS8H_S7EBDb4bybg       1\n",
       "sTmHeHv-4uZRRne5jBDzvA       1\n",
       "Lw49aJ96ntO_4ddZA-NtDw       1\n",
       "iSmLOFqnv3BQ2zY6pSSu4g       1\n",
       "9wJNXm3L-N1lEeIKwrTNgg       1\n",
       "V2lhqmmpe3G51WDOfhVQXQ       1\n",
       "sEKFq5u8P_s0-2mAZnx0JQ       1\n",
       "BqOiF0Md73bdG_yKnIGHWg       1\n",
       "ErxWfh9zfMjUF_zdvWqUpQ       1\n",
       "Name: business_id, Length: 59287, dtype: int64"
      ]
     },
     "execution_count": 13,
     "metadata": {},
     "output_type": "execute_result"
    }
   ],
   "source": [
    "# Count number of reviews per restaurant\n",
    "reviews_per_rest = reviews['business_id'].value_counts()\n",
    "reviews_per_rest"
   ]
  },
  {
   "cell_type": "code",
   "execution_count": 14,
   "metadata": {
    "scrolled": true
   },
   "outputs": [
    {
     "data": {
      "text/plain": [
       "count    59287.000000\n",
       "mean        68.201275\n",
       "std        176.910411\n",
       "min          1.000000\n",
       "25%          7.000000\n",
       "50%         20.000000\n",
       "75%         62.000000\n",
       "max       8521.000000\n",
       "Name: business_id, dtype: float64"
      ]
     },
     "execution_count": 14,
     "metadata": {},
     "output_type": "execute_result"
    }
   ],
   "source": [
    "# Compute descriptive statistics for number of reviews per restaurant\n",
    "reviews_per_rest.describe()"
   ]
  },
  {
   "cell_type": "markdown",
   "metadata": {},
   "source": [
    "## Question: What is the distribution of ratings for some specific restaurants that have multiple reviews? ##"
   ]
  },
  {
   "cell_type": "code",
   "execution_count": 26,
   "metadata": {},
   "outputs": [
    {
     "name": "stdout",
     "output_type": "stream",
     "text": [
      "Restaurant RESDUcs7fIiihp38-d6_6g has 8521 total reviews.\n"
     ]
    },
    {
     "data": {
      "text/plain": [
       "5.0    3376\n",
       "4.0    2264\n",
       "3.0    1294\n",
       "1.0     828\n",
       "2.0     759\n",
       "Name: stars, dtype: int64"
      ]
     },
     "execution_count": 26,
     "metadata": {},
     "output_type": "execute_result"
    }
   ],
   "source": [
    "# Count total number of each star rating for restaurant RESDUcs7fIiihp38-d6_6g\n",
    "rest1_ratings_count = reviews[reviews['business_id'] == 'RESDUcs7fIiihp38-d6_6g'].stars.value_counts()\n",
    "print('Restaurant RESDUcs7fIiihp38-d6_6g has {} total reviews.'.format(len(reviews[reviews['business_id'] == 'RESDUcs7fIiihp38-d6_6g'])))\n",
    "rest1_ratings_count"
   ]
  },
  {
   "cell_type": "code",
   "execution_count": 27,
   "metadata": {},
   "outputs": [
    {
     "data": {
      "image/png": "[encoded data removed]",
      "text/plain": [
       "<Figure size 432x288 with 1 Axes>"
      ]
     },
     "metadata": {
      "needs_background": "light"
     },
     "output_type": "display_data"
    }
   ],
   "source": [
    "# Plot total number/frequency of each star rating for restaurant RESDUcs7fIiihp38-d6_6g\n",
    "_ = rest1_ratings_count.sort_index().plot.bar()\n",
    "_ = plt.xlabel('Number of Stars for RESDUcs7fIiihp38-d6_6g', fontsize='large')\n",
    "_ = plt.ylabel('Frequency', fontsize='large')\n",
    "_ = plt.title('Most Star Ratings are 4 or 5', fontsize='xx-large')\n",
    "\n",
    "plt.show()"
   ]
  },
  {
   "cell_type": "markdown",
   "metadata": {},
   "source": [
    "Note that the shape of this distribution closely resembles the shape of the distribution of all star ratings for the entire data set. It's worth analyzing some other specific restaurants to see how closely their distributions resemble this."
   ]
  },
  {
   "cell_type": "code",
   "execution_count": 28,
   "metadata": {},
   "outputs": [
    {
     "name": "stdout",
     "output_type": "stream",
     "text": [
      "Restaurant 4JNXUYY8wbaaDmk3BPzlWw has 8516 total reviews.\n"
     ]
    },
    {
     "data": {
      "text/plain": [
       "5.0    3909\n",
       "4.0    2882\n",
       "3.0     969\n",
       "2.0     455\n",
       "1.0     301\n",
       "Name: stars, dtype: int64"
      ]
     },
     "execution_count": 28,
     "metadata": {},
     "output_type": "execute_result"
    }
   ],
   "source": [
    "# Count total number of each star rating for restaurant 4JNXUYY8wbaaDmk3BPzlWw\n",
    "rest2_ratings_count = reviews[reviews['business_id'] == '4JNXUYY8wbaaDmk3BPzlWw'].stars.value_counts()\n",
    "print('Restaurant 4JNXUYY8wbaaDmk3BPzlWw has {} total reviews.'.format(len(reviews[reviews['business_id'] == '4JNXUYY8wbaaDmk3BPzlWw'])))\n",
    "rest2_ratings_count"
   ]
  },
  {
   "cell_type": "code",
   "execution_count": 29,
   "metadata": {},
   "outputs": [
    {
     "data": {
      "image/png": "[encoded data removed]",
      "text/plain": [
       "<Figure size 432x288 with 1 Axes>"
      ]
     },
     "metadata": {
      "needs_background": "light"
     },
     "output_type": "display_data"
    }
   ],
   "source": [
    "# Plot total number/frequency of each star rating for restaurant 4JNXUYY8wbaaDmk3BPzlWw\n",
    "_ = rest2_ratings_count.sort_index().plot.bar()\n",
    "_ = plt.xlabel('Number of Stars for 4JNXUYY8wbaaDmk3BPzlWw', fontsize='large')\n",
    "_ = plt.ylabel('Frequency', fontsize='large')\n",
    "_ = plt.title('Most Star Ratings are 4 or 5', fontsize='xx-large')\n",
    "\n",
    "plt.show()"
   ]
  },
  {
   "cell_type": "code",
   "execution_count": 30,
   "metadata": {},
   "outputs": [
    {
     "name": "stdout",
     "output_type": "stream",
     "text": [
      "Restaurant NvKNe9DnQavC9GstglcBJQ has 2816 total reviews.\n"
     ]
    },
    {
     "data": {
      "text/plain": [
       "4.0    1118\n",
       "5.0     963\n",
       "3.0     438\n",
       "2.0     149\n",
       "1.0     148\n",
       "Name: stars, dtype: int64"
      ]
     },
     "execution_count": 30,
     "metadata": {},
     "output_type": "execute_result"
    }
   ],
   "source": [
    "# Count total number of each star rating for restaurant NvKNe9DnQavC9GstglcBJQ\n",
    "rest3_ratings_count = reviews[reviews['business_id'] == 'NvKNe9DnQavC9GstglcBJQ'].stars.value_counts()\n",
    "print('Restaurant NvKNe9DnQavC9GstglcBJQ has {} total reviews.'.format(len(reviews[reviews['business_id'] == 'NvKNe9DnQavC9GstglcBJQ'])))\n",
    "rest3_ratings_count"
   ]
  },
  {
   "cell_type": "code",
   "execution_count": 31,
   "metadata": {},
   "outputs": [
    {
     "data": {
      "image/png": "[encoded data removed]",
      "text/plain": [
       "<Figure size 432x288 with 1 Axes>"
      ]
     },
     "metadata": {
      "needs_background": "light"
     },
     "output_type": "display_data"
    }
   ],
   "source": [
    "# Plot total number/frequency of each star rating for restaurant NvKNe9DnQavC9GstglcBJQ\n",
    "_ = rest3_ratings_count.sort_index().plot.bar()\n",
    "_ = plt.xlabel('Number of Stars for NvKNe9DnQavC9GstglcBJQ', fontsize='large')\n",
    "_ = plt.ylabel('Frequency', fontsize='large')\n",
    "_ = plt.title('Most Star Ratings are 4 or 5', fontsize='xx-large')\n",
    "\n",
    "plt.show()"
   ]
  },
  {
   "cell_type": "markdown",
   "metadata": {},
   "source": [
    "Let's compare these three restaurants in a single DataFrame and plot."
   ]
  },
  {
   "cell_type": "code",
   "execution_count": 44,
   "metadata": {},
   "outputs": [
    {
     "data": {
      "text/html": [
       "<div>\n",
       "<style scoped>\n",
       "    .dataframe tbody tr th:only-of-type {\n",
       "        vertical-align: middle;\n",
       "    }\n",
       "\n",
       "    .dataframe tbody tr th {\n",
       "        vertical-align: top;\n",
       "    }\n",
       "\n",
       "    .dataframe thead th {\n",
       "        text-align: right;\n",
       "    }\n",
       "</style>\n",
       "<table border=\"1\" class=\"dataframe\">\n",
       "  <thead>\n",
       "    <tr style=\"text-align: right;\">\n",
       "      <th></th>\n",
       "      <th>RESDUcs7fIiihp38-d6_6g</th>\n",
       "      <th>4JNXUYY8wbaaDmk3BPzlWw</th>\n",
       "      <th>NvKNe9DnQavC9GstglcBJQ</th>\n",
       "    </tr>\n",
       "  </thead>\n",
       "  <tbody>\n",
       "    <tr>\n",
       "      <th>1.0</th>\n",
       "      <td>828</td>\n",
       "      <td>301</td>\n",
       "      <td>148</td>\n",
       "    </tr>\n",
       "    <tr>\n",
       "      <th>2.0</th>\n",
       "      <td>759</td>\n",
       "      <td>455</td>\n",
       "      <td>149</td>\n",
       "    </tr>\n",
       "    <tr>\n",
       "      <th>3.0</th>\n",
       "      <td>1294</td>\n",
       "      <td>969</td>\n",
       "      <td>438</td>\n",
       "    </tr>\n",
       "    <tr>\n",
       "      <th>4.0</th>\n",
       "      <td>2264</td>\n",
       "      <td>2882</td>\n",
       "      <td>1118</td>\n",
       "    </tr>\n",
       "    <tr>\n",
       "      <th>5.0</th>\n",
       "      <td>3376</td>\n",
       "      <td>3909</td>\n",
       "      <td>963</td>\n",
       "    </tr>\n",
       "  </tbody>\n",
       "</table>\n",
       "</div>"
      ],
      "text/plain": [
       "     RESDUcs7fIiihp38-d6_6g  4JNXUYY8wbaaDmk3BPzlWw  NvKNe9DnQavC9GstglcBJQ\n",
       "1.0                     828                     301                     148\n",
       "2.0                     759                     455                     149\n",
       "3.0                    1294                     969                     438\n",
       "4.0                    2264                    2882                    1118\n",
       "5.0                    3376                    3909                     963"
      ]
     },
     "execution_count": 44,
     "metadata": {},
     "output_type": "execute_result"
    }
   ],
   "source": [
    "# Construct DataFrame with ratings counts for all three restaurants\n",
    "ratings_count_df = pd.concat([rest1_ratings_count, rest2_ratings_count, rest3_ratings_count], axis=1)\n",
    "ratings_count_df.columns = ['RESDUcs7fIiihp38-d6_6g', '4JNXUYY8wbaaDmk3BPzlWw', 'NvKNe9DnQavC9GstglcBJQ']\n",
    "ratings_count_df"
   ]
  },
  {
   "cell_type": "code",
   "execution_count": 48,
   "metadata": {
    "scrolled": false
   },
   "outputs": [
    {
     "data": {
      "image/png": "[encoded data removed]",
      "text/plain": [
       "<Figure size 432x288 with 1 Axes>"
      ]
     },
     "metadata": {
      "needs_background": "light"
     },
     "output_type": "display_data"
    }
   ],
   "source": [
    "# Plot total number/frequency of each star rating for all three restaurants\n",
    "_ = ratings_count_df.sort_index().plot.bar()\n",
    "_ = plt.xlabel('Number of Stars for Three Restaurants', fontsize='large')\n",
    "_ = plt.ylabel('Frequency', fontsize='large')\n",
    "\n",
    "plt.show()"
   ]
  },
  {
   "cell_type": "markdown",
   "metadata": {},
   "source": [
    "## Question: What is the distribution of the length of the reviews? ##\n",
    "For simplicity, I will use number of characters (including letters, spaces, punctuation, etc.) as the metric for length of a review. This metric will be useful as an approximation of length."
   ]
  },
  {
   "cell_type": "code",
   "execution_count": 56,
   "metadata": {},
   "outputs": [
    {
     "data": {
      "text/plain": [
       "0           823\n",
       "1           534\n",
       "2           124\n",
       "3           353\n",
       "4           499\n",
       "5            87\n",
       "6           406\n",
       "7           170\n",
       "8            99\n",
       "9           512\n",
       "10          148\n",
       "11          298\n",
       "12          563\n",
       "13          554\n",
       "14          138\n",
       "15          111\n",
       "16         1697\n",
       "17          100\n",
       "18          688\n",
       "19         1517\n",
       "20          806\n",
       "21         1167\n",
       "22         2930\n",
       "23          236\n",
       "24          225\n",
       "25           78\n",
       "26          316\n",
       "27          195\n",
       "28         2627\n",
       "29          487\n",
       "           ... \n",
       "4043419     379\n",
       "4043420     409\n",
       "4043421     180\n",
       "4043422     207\n",
       "4043423     402\n",
       "4043424     812\n",
       "4043425     444\n",
       "4043426    1297\n",
       "4043427     148\n",
       "4043428     122\n",
       "4043429     385\n",
       "4043430    2567\n",
       "4043431     606\n",
       "4043432     626\n",
       "4043433     747\n",
       "4043434     319\n",
       "4043435     119\n",
       "4043436     470\n",
       "4043437     515\n",
       "4043438     641\n",
       "4043439     302\n",
       "4043440     505\n",
       "4043441     115\n",
       "4043442     957\n",
       "4043443     941\n",
       "4043444     569\n",
       "4043445      87\n",
       "4043446     185\n",
       "4043447     715\n",
       "4043448     810\n",
       "Name: text, Length: 4043449, dtype: int64"
      ]
     },
     "execution_count": 56,
     "metadata": {},
     "output_type": "execute_result"
    }
   ],
   "source": [
    "# Construct series of review lengths (measured in terms of number of characters in review)\n",
    "review_lens = reviews['text'].str.len()\n",
    "review_lens"
   ]
  },
  {
   "cell_type": "code",
   "execution_count": 70,
   "metadata": {},
   "outputs": [
    {
     "data": {
      "image/png": "[encoded data removed]",
      "text/plain": [
       "<Figure size 432x288 with 1 Axes>"
      ]
     },
     "metadata": {
      "needs_background": "light"
     },
     "output_type": "display_data"
    }
   ],
   "source": [
    "# Construct histogram plot of review lengths\n",
    "_ = review_lens.plot.hist()\n",
    "_ = plt.xticks(ticks=[0, 500, 1000, 1500, 2000, 2500, 3000, 3500, 4000, 4500, 5000])\n",
    "_ = plt.xlabel('Length of Review (Unit: # of Characters)', fontsize='large')\n",
    "_ = plt.ylabel('Number of Reviews', fontsize='large')\n",
    "_ = plt.title('Most Reviews Are Less Than 1000 Characters', fontsize='large')\n",
    "\n",
    "plt.show()"
   ]
  },
  {
   "cell_type": "markdown",
   "metadata": {},
   "source": [
    "## Question: What is the relationship between rating and review length? ##"
   ]
  },
  {
   "cell_type": "code",
   "execution_count": 86,
   "metadata": {
    "scrolled": true
   },
   "outputs": [
    {
     "data": {
      "text/html": [
       "<div>\n",
       "<style scoped>\n",
       "    .dataframe tbody tr th:only-of-type {\n",
       "        vertical-align: middle;\n",
       "    }\n",
       "\n",
       "    .dataframe tbody tr th {\n",
       "        vertical-align: top;\n",
       "    }\n",
       "\n",
       "    .dataframe thead th {\n",
       "        text-align: right;\n",
       "    }\n",
       "</style>\n",
       "<table border=\"1\" class=\"dataframe\">\n",
       "  <thead>\n",
       "    <tr style=\"text-align: right;\">\n",
       "      <th></th>\n",
       "      <th>business_id</th>\n",
       "      <th>stars</th>\n",
       "      <th>text</th>\n",
       "      <th>review_lengths</th>\n",
       "    </tr>\n",
       "  </thead>\n",
       "  <tbody>\n",
       "    <tr>\n",
       "      <th>0</th>\n",
       "      <td>EXAbfr5PkoRzMqlCb_3ALQ</td>\n",
       "      <td>5.0</td>\n",
       "      <td>We were in town from San Francisco to visit fr...</td>\n",
       "      <td>823</td>\n",
       "    </tr>\n",
       "    <tr>\n",
       "      <th>1</th>\n",
       "      <td>6sOBPz69VLgIvNAY7dowOg</td>\n",
       "      <td>2.0</td>\n",
       "      <td>I bought a Dealfind voucher and decided to giv...</td>\n",
       "      <td>534</td>\n",
       "    </tr>\n",
       "    <tr>\n",
       "      <th>2</th>\n",
       "      <td>VMXl3Dm1Nwvgwo1PVYTXbg</td>\n",
       "      <td>5.0</td>\n",
       "      <td>Fun club!!  Great place to hang out and a real...</td>\n",
       "      <td>124</td>\n",
       "    </tr>\n",
       "    <tr>\n",
       "      <th>3</th>\n",
       "      <td>yNPh5SO-7wr8HPpVCDPbXQ</td>\n",
       "      <td>5.0</td>\n",
       "      <td>After our horrible customer service next door ...</td>\n",
       "      <td>353</td>\n",
       "    </tr>\n",
       "    <tr>\n",
       "      <th>4</th>\n",
       "      <td>L0aSDVHNXCl6sY4cfZQ-5Q</td>\n",
       "      <td>1.0</td>\n",
       "      <td>If I could give this place zero stars, I would...</td>\n",
       "      <td>499</td>\n",
       "    </tr>\n",
       "  </tbody>\n",
       "</table>\n",
       "</div>"
      ],
      "text/plain": [
       "              business_id  stars  \\\n",
       "0  EXAbfr5PkoRzMqlCb_3ALQ    5.0   \n",
       "1  6sOBPz69VLgIvNAY7dowOg    2.0   \n",
       "2  VMXl3Dm1Nwvgwo1PVYTXbg    5.0   \n",
       "3  yNPh5SO-7wr8HPpVCDPbXQ    5.0   \n",
       "4  L0aSDVHNXCl6sY4cfZQ-5Q    1.0   \n",
       "\n",
       "                                                text  review_lengths  \n",
       "0  We were in town from San Francisco to visit fr...             823  \n",
       "1  I bought a Dealfind voucher and decided to giv...             534  \n",
       "2  Fun club!!  Great place to hang out and a real...             124  \n",
       "3  After our horrible customer service next door ...             353  \n",
       "4  If I could give this place zero stars, I would...             499  "
      ]
     },
     "execution_count": 86,
     "metadata": {},
     "output_type": "execute_result"
    }
   ],
   "source": [
    "# Construct new DataFrame with review lengths added as a column\n",
    "review_lens_df = reviews.copy()\n",
    "review_lens_df['review_lengths'] = review_lens\n",
    "review_lens_df.head()"
   ]
  },
  {
   "cell_type": "code",
   "execution_count": 117,
   "metadata": {},
   "outputs": [
    {
     "data": {
      "text/html": [
       "<div>\n",
       "<style scoped>\n",
       "    .dataframe tbody tr th:only-of-type {\n",
       "        vertical-align: middle;\n",
       "    }\n",
       "\n",
       "    .dataframe tbody tr th {\n",
       "        vertical-align: top;\n",
       "    }\n",
       "\n",
       "    .dataframe thead tr th {\n",
       "        text-align: left;\n",
       "    }\n",
       "\n",
       "    .dataframe thead tr:last-of-type th {\n",
       "        text-align: right;\n",
       "    }\n",
       "</style>\n",
       "<table border=\"1\" class=\"dataframe\">\n",
       "  <thead>\n",
       "    <tr>\n",
       "      <th></th>\n",
       "      <th colspan=\"2\" halign=\"left\">review_lengths</th>\n",
       "    </tr>\n",
       "    <tr>\n",
       "      <th></th>\n",
       "      <th>mean</th>\n",
       "      <th>median</th>\n",
       "    </tr>\n",
       "    <tr>\n",
       "      <th>stars</th>\n",
       "      <th></th>\n",
       "      <th></th>\n",
       "    </tr>\n",
       "  </thead>\n",
       "  <tbody>\n",
       "    <tr>\n",
       "      <th>1.0</th>\n",
       "      <td>669.122246</td>\n",
       "      <td>479</td>\n",
       "    </tr>\n",
       "    <tr>\n",
       "      <th>2.0</th>\n",
       "      <td>734.363719</td>\n",
       "      <td>551</td>\n",
       "    </tr>\n",
       "    <tr>\n",
       "      <th>3.0</th>\n",
       "      <td>701.818360</td>\n",
       "      <td>533</td>\n",
       "    </tr>\n",
       "    <tr>\n",
       "      <th>4.0</th>\n",
       "      <td>615.932487</td>\n",
       "      <td>449</td>\n",
       "    </tr>\n",
       "    <tr>\n",
       "      <th>5.0</th>\n",
       "      <td>469.145701</td>\n",
       "      <td>320</td>\n",
       "    </tr>\n",
       "  </tbody>\n",
       "</table>\n",
       "</div>"
      ],
      "text/plain": [
       "      review_lengths       \n",
       "                mean median\n",
       "stars                      \n",
       "1.0       669.122246    479\n",
       "2.0       734.363719    551\n",
       "3.0       701.818360    533\n",
       "4.0       615.932487    449\n",
       "5.0       469.145701    320"
      ]
     },
     "execution_count": 117,
     "metadata": {},
     "output_type": "execute_result"
    }
   ],
   "source": [
    "len_stats = review_lens_df.groupby('stars').agg([np.mean, np.median])\n",
    "len_stats"
   ]
  },
  {
   "cell_type": "code",
   "execution_count": 145,
   "metadata": {},
   "outputs": [
    {
     "data": {
      "image/png": "[encoded data removed]",
      "text/plain": [
       "<Figure size 432x288 with 1 Axes>"
      ]
     },
     "metadata": {
      "needs_background": "light"
     },
     "output_type": "display_data"
    }
   ],
   "source": [
    "_ = len_stats.plot.bar()\n",
    "_ = plt.xticks(range(6))\n",
    "_ = plt.xlabel('Number of Stars', fontsize='large')\n",
    "_ = plt.ylabel('Mean and Median Review Lengths', fontsize='large')\n",
    "_ = plt.legend(['Mean Length', 'Median Length'])\n",
    "\n",
    "plt.show()"
   ]
  },
  {
   "cell_type": "code",
   "execution_count": 146,
   "metadata": {},
   "outputs": [
    {
     "data": {
      "image/png": "[encoded data removed]",
      "text/plain": [
       "<Figure size 432x288 with 1 Axes>"
      ]
     },
     "metadata": {
      "needs_background": "light"
     },
     "output_type": "display_data"
    }
   ],
   "source": [
    "_ = len_stats.plot(marker='.', linestyle='', ms=12)\n",
    "_ = plt.xticks(range(7))\n",
    "_ = plt.yticks([0, 100, 200, 300, 400, 500, 600, 700])\n",
    "_ = plt.xlabel('Number of Stars', fontsize='large')\n",
    "_ = plt.ylabel('Mean and Median Review Lengths', fontsize='large')\n",
    "_ = plt.legend(['Mean Length', 'Median Length'])\n",
    "\n",
    "plt.show()"
   ]
  }
 ],
 "metadata": {
  "kernelspec": {
   "display_name": "Python 3",
   "language": "python",
   "name": "python3"
  },
  "language_info": {
   "codemirror_mode": {
    "name": "ipython",
    "version": 3
   },
   "file_extension": ".py",
   "mimetype": "text/x-python",
   "name": "python",
   "nbconvert_exporter": "python",
   "pygments_lexer": "ipython3",
   "version": "3.7.3"
  }
 },
 "nbformat": 4,
 "nbformat_minor": 2
}
