{
 "cells": [
  {
   "cell_type": "markdown",
   "metadata": {},
   "source": [
    "# Statistical Data Analysis #\n",
    "\n",
    "This notebook aims to complete the following tasks:\n",
    "* Compute mean and median length of reviews for each star rating, and compute whether the differences in the means and medians are statistically significant.\n",
    "* Identify some number of frequent words across each star rating, calculate their frequency for each star rating, compare the differences of frequency across star ratings, and compute whether the differences in frequency are statistically significant."
   ]
  },
  {
   "cell_type": "code",
   "execution_count": 3,
   "metadata": {},
   "outputs": [],
   "source": [
    "import pandas as pd\n",
    "import numpy as np\n",
    "import matplotlib.pyplot as plt\n",
    "import seaborn as sns"
   ]
  },
  {
   "cell_type": "code",
   "execution_count": 4,
   "metadata": {},
   "outputs": [],
   "source": [
    "# Import data as DataFrame\n",
    "reviews = pd.read_csv('/Users/dwalkerpage/Documents/Data_Science/Springboard/Projects/springboard/Capstone_Projects/Capstone_Project_1/Capstone_Project_1_Data/restaurant_reviews_final.csv')"
   ]
  },
  {
   "cell_type": "markdown",
   "metadata": {},
   "source": [
    "## Analysis of Differences in Mean Review Length for Each Star Rating ##"
   ]
  },
  {
   "cell_type": "markdown",
   "metadata": {},
   "source": [
    "**Null Hypothesis:** The mean and median review lengths are the same for each star rating.  \n",
    "**Alternative Hypothesis:** The mean and median review lengths are *not* the same for each star rating.  \n",
    "We can perform a permutation test of the null hypothesis."
   ]
  },
  {
   "cell_type": "code",
   "execution_count": 5,
   "metadata": {},
   "outputs": [],
   "source": [
    "# Construct series of review lengths (measured in terms of number of characters in review)\n",
    "review_lens = reviews['text'].str.len()"
   ]
  },
  {
   "cell_type": "code",
   "execution_count": 6,
   "metadata": {},
   "outputs": [],
   "source": [
    "# Construct new DataFrame with review lengths added as a column\n",
    "review_lens_df = reviews.copy()\n",
    "review_lens_df['review_lengths'] = review_lens\n",
    "#review_lens_df.head()"
   ]
  },
  {
   "cell_type": "code",
   "execution_count": 7,
   "metadata": {},
   "outputs": [
    {
     "data": {
      "text/html": [
       "<div>\n",
       "<style scoped>\n",
       "    .dataframe tbody tr th:only-of-type {\n",
       "        vertical-align: middle;\n",
       "    }\n",
       "\n",
       "    .dataframe tbody tr th {\n",
       "        vertical-align: top;\n",
       "    }\n",
       "\n",
       "    .dataframe thead th {\n",
       "        text-align: right;\n",
       "    }\n",
       "</style>\n",
       "<table border=\"1\" class=\"dataframe\">\n",
       "  <thead>\n",
       "    <tr style=\"text-align: right;\">\n",
       "      <th></th>\n",
       "      <th>business_id</th>\n",
       "      <th>stars</th>\n",
       "      <th>text</th>\n",
       "      <th>review_lengths</th>\n",
       "    </tr>\n",
       "  </thead>\n",
       "  <tbody>\n",
       "    <tr>\n",
       "      <th>0</th>\n",
       "      <td>EXAbfr5PkoRzMqlCb_3ALQ</td>\n",
       "      <td>5.0</td>\n",
       "      <td>We were in town from San Francisco to visit fr...</td>\n",
       "      <td>823</td>\n",
       "    </tr>\n",
       "    <tr>\n",
       "      <th>1</th>\n",
       "      <td>6sOBPz69VLgIvNAY7dowOg</td>\n",
       "      <td>2.0</td>\n",
       "      <td>I bought a Dealfind voucher and decided to giv...</td>\n",
       "      <td>534</td>\n",
       "    </tr>\n",
       "    <tr>\n",
       "      <th>2</th>\n",
       "      <td>VMXl3Dm1Nwvgwo1PVYTXbg</td>\n",
       "      <td>5.0</td>\n",
       "      <td>Fun club!!  Great place to hang out and a real...</td>\n",
       "      <td>124</td>\n",
       "    </tr>\n",
       "    <tr>\n",
       "      <th>3</th>\n",
       "      <td>yNPh5SO-7wr8HPpVCDPbXQ</td>\n",
       "      <td>5.0</td>\n",
       "      <td>After our horrible customer service next door ...</td>\n",
       "      <td>353</td>\n",
       "    </tr>\n",
       "    <tr>\n",
       "      <th>4</th>\n",
       "      <td>L0aSDVHNXCl6sY4cfZQ-5Q</td>\n",
       "      <td>1.0</td>\n",
       "      <td>If I could give this place zero stars, I would...</td>\n",
       "      <td>499</td>\n",
       "    </tr>\n",
       "  </tbody>\n",
       "</table>\n",
       "</div>"
      ],
      "text/plain": [
       "              business_id  stars  \\\n",
       "0  EXAbfr5PkoRzMqlCb_3ALQ    5.0   \n",
       "1  6sOBPz69VLgIvNAY7dowOg    2.0   \n",
       "2  VMXl3Dm1Nwvgwo1PVYTXbg    5.0   \n",
       "3  yNPh5SO-7wr8HPpVCDPbXQ    5.0   \n",
       "4  L0aSDVHNXCl6sY4cfZQ-5Q    1.0   \n",
       "\n",
       "                                                text  review_lengths  \n",
       "0  We were in town from San Francisco to visit fr...             823  \n",
       "1  I bought a Dealfind voucher and decided to giv...             534  \n",
       "2  Fun club!!  Great place to hang out and a real...             124  \n",
       "3  After our horrible customer service next door ...             353  \n",
       "4  If I could give this place zero stars, I would...             499  "
      ]
     },
     "execution_count": 7,
     "metadata": {},
     "output_type": "execute_result"
    }
   ],
   "source": [
    "review_lens_df.head()"
   ]
  },
  {
   "cell_type": "code",
   "execution_count": 8,
   "metadata": {
    "scrolled": true
   },
   "outputs": [
    {
     "data": {
      "text/html": [
       "<div>\n",
       "<style scoped>\n",
       "    .dataframe tbody tr th:only-of-type {\n",
       "        vertical-align: middle;\n",
       "    }\n",
       "\n",
       "    .dataframe tbody tr th {\n",
       "        vertical-align: top;\n",
       "    }\n",
       "\n",
       "    .dataframe thead tr th {\n",
       "        text-align: left;\n",
       "    }\n",
       "\n",
       "    .dataframe thead tr:last-of-type th {\n",
       "        text-align: right;\n",
       "    }\n",
       "</style>\n",
       "<table border=\"1\" class=\"dataframe\">\n",
       "  <thead>\n",
       "    <tr>\n",
       "      <th></th>\n",
       "      <th colspan=\"2\" halign=\"left\">review_lengths</th>\n",
       "    </tr>\n",
       "    <tr>\n",
       "      <th></th>\n",
       "      <th>mean</th>\n",
       "      <th>median</th>\n",
       "    </tr>\n",
       "    <tr>\n",
       "      <th>stars</th>\n",
       "      <th></th>\n",
       "      <th></th>\n",
       "    </tr>\n",
       "  </thead>\n",
       "  <tbody>\n",
       "    <tr>\n",
       "      <th>1.0</th>\n",
       "      <td>669.122246</td>\n",
       "      <td>479</td>\n",
       "    </tr>\n",
       "    <tr>\n",
       "      <th>2.0</th>\n",
       "      <td>734.363719</td>\n",
       "      <td>551</td>\n",
       "    </tr>\n",
       "    <tr>\n",
       "      <th>3.0</th>\n",
       "      <td>701.818360</td>\n",
       "      <td>533</td>\n",
       "    </tr>\n",
       "    <tr>\n",
       "      <th>4.0</th>\n",
       "      <td>615.932487</td>\n",
       "      <td>449</td>\n",
       "    </tr>\n",
       "    <tr>\n",
       "      <th>5.0</th>\n",
       "      <td>469.145701</td>\n",
       "      <td>320</td>\n",
       "    </tr>\n",
       "  </tbody>\n",
       "</table>\n",
       "</div>"
      ],
      "text/plain": [
       "      review_lengths       \n",
       "                mean median\n",
       "stars                      \n",
       "1.0       669.122246    479\n",
       "2.0       734.363719    551\n",
       "3.0       701.818360    533\n",
       "4.0       615.932487    449\n",
       "5.0       469.145701    320"
      ]
     },
     "execution_count": 8,
     "metadata": {},
     "output_type": "execute_result"
    }
   ],
   "source": [
    "# Compute mean and median length of reviews for each star rating\n",
    "len_stats = review_lens_df.groupby('stars').agg([np.mean, np.median])\n",
    "len_stats"
   ]
  },
  {
   "cell_type": "code",
   "execution_count": 9,
   "metadata": {},
   "outputs": [
    {
     "data": {
      "image/png": "[encoded data removed]",
      "text/plain": [
       "<Figure size 432x288 with 1 Axes>"
      ]
     },
     "metadata": {
      "needs_background": "light"
     },
     "output_type": "display_data"
    }
   ],
   "source": [
    "# Plot empirical cumulative distribution functions of review lengths for each star rating\n",
    "# The ECDF indicates the distributions of the review lengths for each star rating,\n",
    "# and how these relate to each other\n",
    "x1 = np.sort(review_lens_df[review_lens_df['stars'] == 1.0]['review_lengths'])\n",
    "x2 = np.sort(review_lens_df[review_lens_df['stars'] == 2.0]['review_lengths'])\n",
    "x3 = np.sort(review_lens_df[review_lens_df['stars'] == 3.0]['review_lengths'])\n",
    "x4 = np.sort(review_lens_df[review_lens_df['stars'] == 4.0]['review_lengths'])\n",
    "x5 = np.sort(review_lens_df[review_lens_df['stars'] == 5.0]['review_lengths'])\n",
    "y1 = np.arange(1, len(x1)+1) / len(x1)\n",
    "y2 = np.arange(1, len(x2)+1) / len(x2)\n",
    "y3 = np.arange(1, len(x3)+1) / len(x3)\n",
    "y4 = np.arange(1, len(x4)+1) / len(x4)\n",
    "y5 = np.arange(1, len(x5)+1) / len(x5)\n",
    "\n",
    "_ = plt.plot(x1, y1, marker='.', linestyle='none', label='1 Star')\n",
    "_ = plt.plot(x2, y2, marker='.', linestyle='none', label='2 Star')\n",
    "_ = plt.plot(x3, y3, marker='.', linestyle='none', label='3 Star')\n",
    "_ = plt.plot(x4, y4, marker='.', linestyle='none', label='4 Star')\n",
    "_ = plt.plot(x5, y5, marker='.', linestyle='none', label='5 Star')\n",
    "_ = plt.xlabel('Review Lengths')\n",
    "_ = plt.ylabel('ECDF')\n",
    "_ = plt.title('Comparison of Cumulative Distribution Functions')\n",
    "plt.margins(0.02)\n",
    "plt.legend(loc='lower right')\n",
    "plt.show()"
   ]
  },
  {
   "cell_type": "markdown",
   "metadata": {},
   "source": [
    "#### Some options for proceeding: ####\n",
    "1. Use a standard statistical test (such as z-test or t-test) and compute confidence intervals and p-values\n",
    "2. Use bootstrap method to approximate population distribution and compute confidence intervals and p-values\n",
    "3. Use bootstrap method and permutation\n",
    "\n",
    "#### I will use the second option. To accomplish this hypothesis testing, I will execute the following steps: ####\n",
    "1. Define function to calculate test statistic (difference between means, difference between medians)\n",
    "2. Calculate observed statistics\n",
    "3. Define function to draw samples of size 1000, then draw bootstrap samples from the samples, and then compute replicate statistics on the bootstrap samples\n",
    "4. Execute function 1000 times to calculate 1000 replicate statistics and store them in array\n",
    "5. Calculate 95% confidence interval\n",
    "6. Plot the distribution of replicates as a histogram, and plot 95% confidence interval\n",
    "7. Calculate p-value, and see if it is statistically significant (i.e. less than or equal to 0.05)."
   ]
  },
  {
   "cell_type": "markdown",
   "metadata": {},
   "source": [
    "### Step 1:"
   ]
  },
  {
   "cell_type": "code",
   "execution_count": 22,
   "metadata": {},
   "outputs": [],
   "source": [
    "# Define function to calculate test statistics,\n",
    "# which will be the difference between certain summary statistics (e.g. mean, median)\n",
    "def difference(data1, data2, func):\n",
    "    return abs(func(data1) - func(data2))"
   ]
  },
  {
   "cell_type": "markdown",
   "metadata": {},
   "source": [
    "### Step 2:"
   ]
  },
  {
   "cell_type": "code",
   "execution_count": 25,
   "metadata": {},
   "outputs": [
    {
     "name": "stdout",
     "output_type": "stream",
     "text": [
      "Observed Difference Between Means:  199.97654537970624\n",
      "Observed Difference Between Medians:  159.0\n"
     ]
    }
   ],
   "source": [
    "# Calculate observed statistics between one star review lengths and five star review lengths\n",
    "one_star_lens = review_lens_df[review_lens_df['stars'] == 1.0]['review_lengths']\n",
    "five_star_lens = review_lens_df[review_lens_df['stars'] == 5.0]['review_lengths']\n",
    "\n",
    "one_five_mean_difference = difference(one_star_lens, five_star_lens, np.mean)\n",
    "one_five_median_difference = difference(one_star_lens, five_star_lens, np.median)\n",
    "\n",
    "print('Observed Difference Between Means: ', one_five_mean_difference)\n",
    "print('Observed Difference Between Medians: ', one_five_median_difference)"
   ]
  },
  {
   "cell_type": "markdown",
   "metadata": {},
   "source": [
    "### Step 3:"
   ]
  },
  {
   "cell_type": "code",
   "execution_count": 26,
   "metadata": {},
   "outputs": [],
   "source": [
    "# Define function to (1) draw samples, (2) draw bootstrap samples, and (3) compute replicate statistics\n",
    "np.random.seed(7)\n",
    "\n",
    "def bootstrap_replicates(data1, data2, func):\n",
    "    # Draw samples of size 1000 from data\n",
    "    data1_sample = data1.sample(n=1000, random_state=7)\n",
    "    data2_sample = data2.sample(n=1000, random_state=7)\n",
    "    \n",
    "    # Construct bootstrap samples\n",
    "    # To do this, sample (with replacement) from original sample data\n",
    "    # Make sample the same size as the original sample\n",
    "    bs_sample1 = np.random.choice(data1_sample, len(data1_sample))\n",
    "    bs_sample2 = np.random.choice(data2_sample, len(data2_sample))\n",
    "    \n",
    "    # Calculate replicate statistic\n",
    "    bs_replicate = difference(bs_sample1, bs_sample2, func)\n",
    "    \n",
    "    return bs_replicate"
   ]
  },
  {
   "cell_type": "markdown",
   "metadata": {},
   "source": [
    "### Step 4:"
   ]
  },
  {
   "cell_type": "code",
   "execution_count": 31,
   "metadata": {},
   "outputs": [
    {
     "name": "stdout",
     "output_type": "stream",
     "text": [
      "CPU times: user 1min 52s, sys: 7.74 s, total: 2min\n",
      "Wall time: 2min\n"
     ]
    }
   ],
   "source": [
    "%%time\n",
    "\n",
    "# Calculate 1000 replicates\n",
    "\n",
    "# Construct empty arrays to store replicates\n",
    "mean_difference_bs_replicates = np.empty(1000)\n",
    "median_difference_bs_replicates = np.empty(1000)\n",
    "\n",
    "for i in range(1000):\n",
    "    mean_difference_bs_replicates[i] = bootstrap_replicates(one_star_lens, five_star_lens, np.mean)\n",
    "    median_difference_bs_replicates[i] = bootstrap_replicates(one_star_lens, five_star_lens, np.median)"
   ]
  },
  {
   "cell_type": "markdown",
   "metadata": {},
   "source": [
    "### Step 5:"
   ]
  },
  {
   "cell_type": "code",
   "execution_count": 52,
   "metadata": {},
   "outputs": [
    {
     "name": "stdout",
     "output_type": "stream",
     "text": [
      "Confidence Interval for Difference Between Means: [151.97242499999996, 242.36042500000002]\n",
      "Confidence Interval for Difference Between Medians: [131.5, 213.0125]\n"
     ]
    }
   ],
   "source": [
    "# Compute 95% confidence intervals\n",
    "mean_confidence_interval = np.percentile(mean_difference_bs_replicates, [2.5, 97.5])\n",
    "median_confidence_interval = np.percentile(median_difference_bs_replicates, [2.5, 97.5])\n",
    "\n",
    "print('Confidence Interval for Difference Between Means: [{}, {}]'.format(mean_confidence_interval[0], mean_confidence_interval[1]))\n",
    "print('Confidence Interval for Difference Between Medians: [{}, {}]'.format(median_confidence_interval[0], median_confidence_interval[1]))"
   ]
  },
  {
   "cell_type": "markdown",
   "metadata": {},
   "source": [
    "### Step 6:"
   ]
  },
  {
   "cell_type": "code",
   "execution_count": 56,
   "metadata": {},
   "outputs": [
    {
     "data": {
      "image/png": "[encoded data removed]",
      "text/plain": [
       "<Figure size 432x288 with 1 Axes>"
      ]
     },
     "metadata": {
      "needs_background": "light"
     },
     "output_type": "display_data"
    },
    {
     "data": {
      "image/png": "[encoded data removed]",
      "text/plain": [
       "<Figure size 432x288 with 1 Axes>"
      ]
     },
     "metadata": {
      "needs_background": "light"
     },
     "output_type": "display_data"
    }
   ],
   "source": [
    "_ = plt.hist(mean_difference_bs_replicates, bins=30, density=True, ec='black')\n",
    "_ = plt.xlabel('Difference Between Mean Review Lengths')\n",
    "_ = plt.ylabel('PDF')\n",
    "_ = plt.title('Difference Between Mean Review Lengths for One Star and Five Star Reviews')\n",
    "_ = plt.axvline(mean_confidence_interval[0], color='r', linestyle='--')\n",
    "_ = plt.axvline(mean_confidence_interval[1], color='r', linestyle='--')\n",
    "_ = plt.axvline(np.mean(mean_difference_bs_replicates), color='r', linestyle='-.')\n",
    "_ = plt.axvline(one_five_mean_difference, color='r', linestyle='-')\n",
    "\n",
    "\n",
    "plt.show()\n",
    "\n",
    "_ = plt.hist(median_difference_bs_replicates, bins=30, density=True, ec='black')\n",
    "_ = plt.xlabel('Difference Between Median Review Lengths')\n",
    "_ = plt.ylabel('PDF')\n",
    "_ = plt.title('Difference Between Median Review Lengths for One Star and Five Star Reviews')\n",
    "_ = plt.axvline(median_confidence_interval[0], color='r', linestyle='--')\n",
    "_ = plt.axvline(median_confidence_interval[1], color='r', linestyle='--')\n",
    "_ = plt.axvline(np.mean(median_difference_bs_replicates), color='r', linestyle='-.')\n",
    "_ = plt.axvline(one_five_median_difference, color='r', linestyle='-')\n",
    "\n",
    "plt.show()"
   ]
  },
  {
   "cell_type": "markdown",
   "metadata": {},
   "source": [
    "### Step 7:"
   ]
  },
  {
   "cell_type": "code",
   "execution_count": 61,
   "metadata": {},
   "outputs": [],
   "source": [
    "# Calculate p-values"
   ]
  },
  {
   "cell_type": "code",
   "execution_count": null,
   "metadata": {},
   "outputs": [],
   "source": []
  },
  {
   "cell_type": "code",
   "execution_count": null,
   "metadata": {},
   "outputs": [],
   "source": []
  },
  {
   "cell_type": "code",
   "execution_count": null,
   "metadata": {},
   "outputs": [],
   "source": []
  },
  {
   "cell_type": "code",
   "execution_count": null,
   "metadata": {},
   "outputs": [],
   "source": []
  },
  {
   "cell_type": "code",
   "execution_count": null,
   "metadata": {},
   "outputs": [],
   "source": []
  },
  {
   "cell_type": "code",
   "execution_count": 60,
   "metadata": {},
   "outputs": [],
   "source": [
    "# Thoughts on p-value\n",
    "\n",
    "# p_value_mean_differences = np.sum(mean_difference_bs_replicates != one_five_mean_difference) / 1000\n",
    "\n",
    "# p_value_median_differences = np.sum(median_difference_bs_replicates != one_five_median_difference) / 1000\n",
    "\n",
    "# print(p_value_mean_differences)\n",
    "# print(p_value_median_differences)"
   ]
  },
  {
   "cell_type": "code",
   "execution_count": null,
   "metadata": {},
   "outputs": [],
   "source": []
  },
  {
   "cell_type": "code",
   "execution_count": 10,
   "metadata": {},
   "outputs": [],
   "source": [
    "# # Define ss_between function to compute test statistic\n",
    "# def ss_between(group, overall_data=review_lens_df['review_lengths']):\n",
    "#     return len(group) * (np.mean(group) - np.mean(overall_data))**2"
   ]
  },
  {
   "cell_type": "code",
   "execution_count": 54,
   "metadata": {},
   "outputs": [],
   "source": [
    "# ss_between(review_lens_df[review_lens_df['stars'] == 1.0]['review_lengths']) + ss_between(review_lens_df[review_lens_df['stars'] == 2.0]['review_lengths']) + ss_between(review_lens_df[review_lens_df['stars'] == 3.0]['review_lengths']) + ss_between(review_lens_df[review_lens_df['stars'] == 4.0]['review_lengths']) + ss_between(review_lens_df[review_lens_df['stars'] == 5.0]['review_lengths'])"
   ]
  },
  {
   "cell_type": "code",
   "execution_count": null,
   "metadata": {},
   "outputs": [],
   "source": []
  },
  {
   "cell_type": "code",
   "execution_count": null,
   "metadata": {},
   "outputs": [],
   "source": []
  },
  {
   "cell_type": "markdown",
   "metadata": {},
   "source": [
    "## Analysis of Differences in Word Frequency ##"
   ]
  },
  {
   "cell_type": "markdown",
   "metadata": {},
   "source": [
    "Suggestions for calculating word frequencies:\n",
    "* https://stackoverflow.com/questions/46786211/counting-the-frequency-of-words-in-a-pandas-data-frame\n",
    "* https://www.geeksforgeeks.org/find-frequency-of-each-word-in-a-string-in-python/\n",
    "* https://www.datacamp.com/community/tutorials/absolute-weighted-word-frequency\n",
    "* https://programminghistorian.org/en/lessons/counting-frequencies\n",
    "* *Think Python*, Ch. 13"
   ]
  },
  {
   "cell_type": "code",
   "execution_count": null,
   "metadata": {},
   "outputs": [],
   "source": []
  },
  {
   "cell_type": "code",
   "execution_count": null,
   "metadata": {},
   "outputs": [],
   "source": []
  },
  {
   "cell_type": "code",
   "execution_count": null,
   "metadata": {},
   "outputs": [],
   "source": []
  },
  {
   "cell_type": "code",
   "execution_count": null,
   "metadata": {},
   "outputs": [],
   "source": []
  }
 ],
 "metadata": {
  "kernelspec": {
   "display_name": "Python 3",
   "language": "python",
   "name": "python3"
  },
  "language_info": {
   "codemirror_mode": {
    "name": "ipython",
    "version": 3
   },
   "file_extension": ".py",
   "mimetype": "text/x-python",
   "name": "python",
   "nbconvert_exporter": "python",
   "pygments_lexer": "ipython3",
   "version": "3.7.3"
  }
 },
 "nbformat": 4,
 "nbformat_minor": 2
}
