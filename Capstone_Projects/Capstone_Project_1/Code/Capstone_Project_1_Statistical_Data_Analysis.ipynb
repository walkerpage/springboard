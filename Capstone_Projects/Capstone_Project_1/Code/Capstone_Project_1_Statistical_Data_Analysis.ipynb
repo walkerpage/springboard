{
 "cells": [
  {
   "cell_type": "markdown",
   "metadata": {},
   "source": [
    "# Statistical Data Analysis #\n",
    "\n",
    "This notebook aims to complete the following tasks:\n",
    "* Compute mean length of reviews for each star rating, and compute whether the differences in the means are statistically significant.\n",
    "* Identify some number of frequent words across each star rating, calculate their frequency for each star rating, compare the differences of frequency across star ratings, and compute whether the differences in frequency are statistically significant."
   ]
  },
  {
   "cell_type": "code",
   "execution_count": 92,
   "metadata": {},
   "outputs": [],
   "source": [
    "import pandas as pd\n",
    "import numpy as np\n",
    "import matplotlib.pyplot as plt\n",
    "import scipy.stats as stats\n",
    "import researchpy as rp\n",
    "import statsmodels.api as sm\n",
    "from statsmodels.formula.api import ols"
   ]
  },
  {
   "cell_type": "code",
   "execution_count": 13,
   "metadata": {},
   "outputs": [],
   "source": [
    "# Import data as DataFrame\n",
    "reviews = pd.read_csv('/Users/dwalkerpage/Documents/Data_Science/Springboard/Projects/springboard/Capstone_Projects/Capstone_Project_1/Capstone_Project_1_Data/restaurant_reviews_final.csv')"
   ]
  },
  {
   "cell_type": "markdown",
   "metadata": {},
   "source": [
    "## 1. Analysis of Differences in Mean Review Length for Each Star Rating ##"
   ]
  },
  {
   "cell_type": "markdown",
   "metadata": {},
   "source": [
    "### 1.1 Preparing the Data, Initial Analysis ###"
   ]
  },
  {
   "cell_type": "code",
   "execution_count": 14,
   "metadata": {},
   "outputs": [],
   "source": [
    "# Construct series of review lengths (measured in terms of number of characters in review)\n",
    "review_lens = reviews['text'].str.len()"
   ]
  },
  {
   "cell_type": "code",
   "execution_count": 15,
   "metadata": {},
   "outputs": [],
   "source": [
    "# Construct new DataFrame with review lengths added as a column\n",
    "review_lens_df = reviews.copy()\n",
    "review_lens_df['review_lengths'] = review_lens\n",
    "#review_lens_df.head()"
   ]
  },
  {
   "cell_type": "code",
   "execution_count": 16,
   "metadata": {},
   "outputs": [
    {
     "data": {
      "text/html": [
       "<div>\n",
       "<style scoped>\n",
       "    .dataframe tbody tr th:only-of-type {\n",
       "        vertical-align: middle;\n",
       "    }\n",
       "\n",
       "    .dataframe tbody tr th {\n",
       "        vertical-align: top;\n",
       "    }\n",
       "\n",
       "    .dataframe thead th {\n",
       "        text-align: right;\n",
       "    }\n",
       "</style>\n",
       "<table border=\"1\" class=\"dataframe\">\n",
       "  <thead>\n",
       "    <tr style=\"text-align: right;\">\n",
       "      <th></th>\n",
       "      <th>business_id</th>\n",
       "      <th>stars</th>\n",
       "      <th>text</th>\n",
       "      <th>review_lengths</th>\n",
       "    </tr>\n",
       "  </thead>\n",
       "  <tbody>\n",
       "    <tr>\n",
       "      <th>0</th>\n",
       "      <td>EXAbfr5PkoRzMqlCb_3ALQ</td>\n",
       "      <td>5.0</td>\n",
       "      <td>We were in town from San Francisco to visit fr...</td>\n",
       "      <td>823</td>\n",
       "    </tr>\n",
       "    <tr>\n",
       "      <th>1</th>\n",
       "      <td>6sOBPz69VLgIvNAY7dowOg</td>\n",
       "      <td>2.0</td>\n",
       "      <td>I bought a Dealfind voucher and decided to giv...</td>\n",
       "      <td>534</td>\n",
       "    </tr>\n",
       "    <tr>\n",
       "      <th>2</th>\n",
       "      <td>VMXl3Dm1Nwvgwo1PVYTXbg</td>\n",
       "      <td>5.0</td>\n",
       "      <td>Fun club!!  Great place to hang out and a real...</td>\n",
       "      <td>124</td>\n",
       "    </tr>\n",
       "    <tr>\n",
       "      <th>3</th>\n",
       "      <td>yNPh5SO-7wr8HPpVCDPbXQ</td>\n",
       "      <td>5.0</td>\n",
       "      <td>After our horrible customer service next door ...</td>\n",
       "      <td>353</td>\n",
       "    </tr>\n",
       "    <tr>\n",
       "      <th>4</th>\n",
       "      <td>L0aSDVHNXCl6sY4cfZQ-5Q</td>\n",
       "      <td>1.0</td>\n",
       "      <td>If I could give this place zero stars, I would...</td>\n",
       "      <td>499</td>\n",
       "    </tr>\n",
       "  </tbody>\n",
       "</table>\n",
       "</div>"
      ],
      "text/plain": [
       "              business_id  stars  \\\n",
       "0  EXAbfr5PkoRzMqlCb_3ALQ    5.0   \n",
       "1  6sOBPz69VLgIvNAY7dowOg    2.0   \n",
       "2  VMXl3Dm1Nwvgwo1PVYTXbg    5.0   \n",
       "3  yNPh5SO-7wr8HPpVCDPbXQ    5.0   \n",
       "4  L0aSDVHNXCl6sY4cfZQ-5Q    1.0   \n",
       "\n",
       "                                                text  review_lengths  \n",
       "0  We were in town from San Francisco to visit fr...             823  \n",
       "1  I bought a Dealfind voucher and decided to giv...             534  \n",
       "2  Fun club!!  Great place to hang out and a real...             124  \n",
       "3  After our horrible customer service next door ...             353  \n",
       "4  If I could give this place zero stars, I would...             499  "
      ]
     },
     "execution_count": 16,
     "metadata": {},
     "output_type": "execute_result"
    }
   ],
   "source": [
    "review_lens_df.head()"
   ]
  },
  {
   "cell_type": "code",
   "execution_count": 37,
   "metadata": {},
   "outputs": [],
   "source": [
    "# Isolating review lengths by star ratings\n",
    "one_star_lens = review_lens_df['review_lengths'][review_lens_df['stars'] == 1.0]\n",
    "two_star_lens = review_lens_df['review_lengths'][review_lens_df['stars'] == 2.0]\n",
    "three_star_lens = review_lens_df['review_lengths'][review_lens_df['stars'] == 3.0]\n",
    "four_star_lens = review_lens_df['review_lengths'][review_lens_df['stars'] == 4.0]\n",
    "five_star_lens = review_lens_df['review_lengths'][review_lens_df['stars'] == 5.0]"
   ]
  },
  {
   "cell_type": "code",
   "execution_count": 29,
   "metadata": {
    "scrolled": true
   },
   "outputs": [
    {
     "data": {
      "text/html": [
       "<div>\n",
       "<style scoped>\n",
       "    .dataframe tbody tr th:only-of-type {\n",
       "        vertical-align: middle;\n",
       "    }\n",
       "\n",
       "    .dataframe tbody tr th {\n",
       "        vertical-align: top;\n",
       "    }\n",
       "\n",
       "    .dataframe thead tr th {\n",
       "        text-align: left;\n",
       "    }\n",
       "\n",
       "    .dataframe thead tr:last-of-type th {\n",
       "        text-align: right;\n",
       "    }\n",
       "</style>\n",
       "<table border=\"1\" class=\"dataframe\">\n",
       "  <thead>\n",
       "    <tr>\n",
       "      <th></th>\n",
       "      <th>review_lengths</th>\n",
       "    </tr>\n",
       "    <tr>\n",
       "      <th></th>\n",
       "      <th>mean</th>\n",
       "    </tr>\n",
       "    <tr>\n",
       "      <th>stars</th>\n",
       "      <th></th>\n",
       "    </tr>\n",
       "  </thead>\n",
       "  <tbody>\n",
       "    <tr>\n",
       "      <th>1.0</th>\n",
       "      <td>669.122246</td>\n",
       "    </tr>\n",
       "    <tr>\n",
       "      <th>2.0</th>\n",
       "      <td>734.363719</td>\n",
       "    </tr>\n",
       "    <tr>\n",
       "      <th>3.0</th>\n",
       "      <td>701.818360</td>\n",
       "    </tr>\n",
       "    <tr>\n",
       "      <th>4.0</th>\n",
       "      <td>615.932487</td>\n",
       "    </tr>\n",
       "    <tr>\n",
       "      <th>5.0</th>\n",
       "      <td>469.145701</td>\n",
       "    </tr>\n",
       "  </tbody>\n",
       "</table>\n",
       "</div>"
      ],
      "text/plain": [
       "      review_lengths\n",
       "                mean\n",
       "stars               \n",
       "1.0       669.122246\n",
       "2.0       734.363719\n",
       "3.0       701.818360\n",
       "4.0       615.932487\n",
       "5.0       469.145701"
      ]
     },
     "execution_count": 29,
     "metadata": {},
     "output_type": "execute_result"
    }
   ],
   "source": [
    "# Compute mean length of reviews for each star rating\n",
    "len_stats = review_lens_df.groupby('stars').agg([np.mean])\n",
    "len_stats"
   ]
  },
  {
   "cell_type": "code",
   "execution_count": 18,
   "metadata": {},
   "outputs": [
    {
     "data": {
      "image/png": "[encoded data removed]",
      "text/plain": [
       "<Figure size 432x288 with 1 Axes>"
      ]
     },
     "metadata": {
      "needs_background": "light"
     },
     "output_type": "display_data"
    }
   ],
   "source": [
    "# Plot empirical cumulative distribution functions of review lengths for each star rating\n",
    "# The ECDF indicates the distributions of the review lengths for each star rating,\n",
    "# and how these distributions relate to each other\n",
    "x1 = np.sort(review_lens_df[review_lens_df['stars'] == 1.0]['review_lengths'])\n",
    "x2 = np.sort(review_lens_df[review_lens_df['stars'] == 2.0]['review_lengths'])\n",
    "x3 = np.sort(review_lens_df[review_lens_df['stars'] == 3.0]['review_lengths'])\n",
    "x4 = np.sort(review_lens_df[review_lens_df['stars'] == 4.0]['review_lengths'])\n",
    "x5 = np.sort(review_lens_df[review_lens_df['stars'] == 5.0]['review_lengths'])\n",
    "y1 = np.arange(1, len(x1)+1) / len(x1)\n",
    "y2 = np.arange(1, len(x2)+1) / len(x2)\n",
    "y3 = np.arange(1, len(x3)+1) / len(x3)\n",
    "y4 = np.arange(1, len(x4)+1) / len(x4)\n",
    "y5 = np.arange(1, len(x5)+1) / len(x5)\n",
    "\n",
    "_ = plt.plot(x1, y1, marker='.', linestyle='none', label='1 Star')\n",
    "_ = plt.plot(x2, y2, marker='.', linestyle='none', label='2 Star')\n",
    "_ = plt.plot(x3, y3, marker='.', linestyle='none', label='3 Star')\n",
    "_ = plt.plot(x4, y4, marker='.', linestyle='none', label='4 Star')\n",
    "_ = plt.plot(x5, y5, marker='.', linestyle='none', label='5 Star')\n",
    "_ = plt.xlabel('Review Lengths')\n",
    "_ = plt.ylabel('ECDF')\n",
    "_ = plt.title('Comparison of Cumulative Distribution Functions')\n",
    "plt.margins(0.02)\n",
    "plt.legend(loc='lower right')\n",
    "plt.show()"
   ]
  },
  {
   "cell_type": "code",
   "execution_count": 35,
   "metadata": {},
   "outputs": [
    {
     "name": "stdout",
     "output_type": "stream",
     "text": [
      "\n",
      "\n"
     ]
    },
    {
     "data": {
      "text/html": [
       "<div>\n",
       "<style scoped>\n",
       "    .dataframe tbody tr th:only-of-type {\n",
       "        vertical-align: middle;\n",
       "    }\n",
       "\n",
       "    .dataframe tbody tr th {\n",
       "        vertical-align: top;\n",
       "    }\n",
       "\n",
       "    .dataframe thead th {\n",
       "        text-align: right;\n",
       "    }\n",
       "</style>\n",
       "<table border=\"1\" class=\"dataframe\">\n",
       "  <thead>\n",
       "    <tr style=\"text-align: right;\">\n",
       "      <th></th>\n",
       "      <th>N</th>\n",
       "      <th>Mean</th>\n",
       "      <th>SD</th>\n",
       "      <th>SE</th>\n",
       "      <th>95% Conf.</th>\n",
       "      <th>Interval</th>\n",
       "    </tr>\n",
       "    <tr>\n",
       "      <th>stars</th>\n",
       "      <th></th>\n",
       "      <th></th>\n",
       "      <th></th>\n",
       "      <th></th>\n",
       "      <th></th>\n",
       "      <th></th>\n",
       "    </tr>\n",
       "  </thead>\n",
       "  <tbody>\n",
       "    <tr>\n",
       "      <th>1.0</th>\n",
       "      <td>481143</td>\n",
       "      <td>669.122246</td>\n",
       "      <td>618.003496</td>\n",
       "      <td>0.890951</td>\n",
       "      <td>667.375981</td>\n",
       "      <td>670.868512</td>\n",
       "    </tr>\n",
       "    <tr>\n",
       "      <th>2.0</th>\n",
       "      <td>378515</td>\n",
       "      <td>734.363719</td>\n",
       "      <td>629.447069</td>\n",
       "      <td>1.023099</td>\n",
       "      <td>732.358442</td>\n",
       "      <td>736.368995</td>\n",
       "    </tr>\n",
       "    <tr>\n",
       "      <th>3.0</th>\n",
       "      <td>538961</td>\n",
       "      <td>701.818360</td>\n",
       "      <td>592.841645</td>\n",
       "      <td>0.807533</td>\n",
       "      <td>700.235595</td>\n",
       "      <td>703.401125</td>\n",
       "    </tr>\n",
       "    <tr>\n",
       "      <th>4.0</th>\n",
       "      <td>1054999</td>\n",
       "      <td>615.932487</td>\n",
       "      <td>550.122738</td>\n",
       "      <td>0.535591</td>\n",
       "      <td>614.882728</td>\n",
       "      <td>616.982247</td>\n",
       "    </tr>\n",
       "    <tr>\n",
       "      <th>5.0</th>\n",
       "      <td>1589831</td>\n",
       "      <td>469.145701</td>\n",
       "      <td>465.203214</td>\n",
       "      <td>0.368950</td>\n",
       "      <td>468.422559</td>\n",
       "      <td>469.868843</td>\n",
       "    </tr>\n",
       "  </tbody>\n",
       "</table>\n",
       "</div>"
      ],
      "text/plain": [
       "             N        Mean          SD        SE   95% Conf.    Interval\n",
       "stars                                                                   \n",
       "1.0     481143  669.122246  618.003496  0.890951  667.375981  670.868512\n",
       "2.0     378515  734.363719  629.447069  1.023099  732.358442  736.368995\n",
       "3.0     538961  701.818360  592.841645  0.807533  700.235595  703.401125\n",
       "4.0    1054999  615.932487  550.122738  0.535591  614.882728  616.982247\n",
       "5.0    1589831  469.145701  465.203214  0.368950  468.422559  469.868843"
      ]
     },
     "execution_count": 35,
     "metadata": {},
     "output_type": "execute_result"
    }
   ],
   "source": [
    "# Data table grouped by star rating categories that includes\n",
    "# the total number of non-missing observations, standard deviation, standard error, and the 95% confidence interval.\n",
    "rp.summary_cont(review_lens_df['review_lengths'].groupby(review_lens_df['stars']))"
   ]
  },
  {
   "cell_type": "markdown",
   "metadata": {},
   "source": [
    "### 1.2 ANOVA - One Way (Analysis of Variance) ###\n",
    "See [here](https://pythonfordatascience.org/anova-python/) for helpful tutorial.  \n",
    "For practice, we will conduct the ANOVA test in two different ways."
   ]
  },
  {
   "cell_type": "markdown",
   "metadata": {},
   "source": [
    "**Null Hypothesis:** The mean review lengths are the same for each star rating.  \n",
    "**Alternative Hypothesis:** The mean review lengths are *not* the same for each star rating. That is, at least one of the mean review lengths differs from another.\n",
    "\n",
    "**alpha:** We will set alpha at 0.05, and thus conclude that a p-value less than or equal to 0.05 is statistically significant."
   ]
  },
  {
   "cell_type": "code",
   "execution_count": 39,
   "metadata": {},
   "outputs": [],
   "source": [
    "# Taking samples to make groups same size\n",
    "one_star_lens_sample = one_star_lens.sample(n=1000, random_state=7)\n",
    "two_star_lens_sample = two_star_lens.sample(n=1000, random_state=7)\n",
    "three_star_lens_sample = three_star_lens.sample(n=1000, random_state=7)\n",
    "four_star_lens_sample = four_star_lens.sample(n=1000, random_state=7)\n",
    "five_star_lens_sample = five_star_lens.sample(n=1000, random_state=7)"
   ]
  },
  {
   "cell_type": "code",
   "execution_count": 41,
   "metadata": {},
   "outputs": [
    {
     "data": {
      "text/plain": [
       "F_onewayResult(statistic=36.22489614861847, pvalue=6.869670691699495e-30)"
      ]
     },
     "execution_count": 41,
     "metadata": {},
     "output_type": "execute_result"
    }
   ],
   "source": [
    "# First ANOVA test with scipy.stats\n",
    "# https://docs.scipy.org/doc/scipy/reference/generated/scipy.stats.f_oneway.html\n",
    "stats.f_oneway(one_star_lens_sample, two_star_lens_sample, three_star_lens_sample, four_star_lens_sample, five_star_lens_sample)"
   ]
  },
  {
   "cell_type": "code",
   "execution_count": 65,
   "metadata": {},
   "outputs": [],
   "source": [
    "# Prepare samples for second ANOVA test with statsmodels\n",
    "\n",
    "# Construct DataFrame from samples\n",
    "review_samples = pd.DataFrame({'1_star': one_star_lens_sample,\n",
    "                               '2_star': two_star_lens_sample,\n",
    "                               '3_star': three_star_lens_sample,\n",
    "                               '4_star': four_star_lens_sample,\n",
    "                               '5_star': five_star_lens_sample}).reset_index(drop=True)\n",
    "\n",
    "# Remove NaN values from DataFrame\n",
    "review_samples = review_samples.apply(lambda x: pd.Series(x.dropna().values))\n",
    "\n",
    "# Reshape DataFrame for ANOVA test\n",
    "review_samples = review_samples.melt(var_name='stars', value_name='review_lengths')\n",
    "\n",
    "#review_samples.head()"
   ]
  },
  {
   "cell_type": "code",
   "execution_count": 66,
   "metadata": {},
   "outputs": [],
   "source": [
    "# Second ANOVA test with statsmodels\n",
    "# https://www.statsmodels.org/dev/generated/statsmodels.regression.linear_model.OLS.html\n",
    "results = ols('review_lengths ~ C(stars)', data=review_samples).fit()"
   ]
  },
  {
   "cell_type": "code",
   "execution_count": 67,
   "metadata": {
    "scrolled": false
   },
   "outputs": [
    {
     "data": {
      "text/html": [
       "<table class=\"simpletable\">\n",
       "<caption>OLS Regression Results</caption>\n",
       "<tr>\n",
       "  <th>Dep. Variable:</th>     <td>review_lengths</td>  <th>  R-squared:         </th> <td>   0.028</td> \n",
       "</tr>\n",
       "<tr>\n",
       "  <th>Model:</th>                   <td>OLS</td>       <th>  Adj. R-squared:    </th> <td>   0.027</td> \n",
       "</tr>\n",
       "<tr>\n",
       "  <th>Method:</th>             <td>Least Squares</td>  <th>  F-statistic:       </th> <td>   36.22</td> \n",
       "</tr>\n",
       "<tr>\n",
       "  <th>Date:</th>             <td>Sat, 14 Dec 2019</td> <th>  Prob (F-statistic):</th> <td>6.87e-30</td> \n",
       "</tr>\n",
       "<tr>\n",
       "  <th>Time:</th>                 <td>14:34:04</td>     <th>  Log-Likelihood:    </th> <td> -38763.</td> \n",
       "</tr>\n",
       "<tr>\n",
       "  <th>No. Observations:</th>      <td>  5000</td>      <th>  AIC:               </th> <td>7.754e+04</td>\n",
       "</tr>\n",
       "<tr>\n",
       "  <th>Df Residuals:</th>          <td>  4995</td>      <th>  BIC:               </th> <td>7.757e+04</td>\n",
       "</tr>\n",
       "<tr>\n",
       "  <th>Df Model:</th>              <td>     4</td>      <th>                     </th>     <td> </td>    \n",
       "</tr>\n",
       "<tr>\n",
       "  <th>Covariance Type:</th>      <td>nonrobust</td>    <th>                     </th>     <td> </td>    \n",
       "</tr>\n",
       "</table>\n",
       "<table class=\"simpletable\">\n",
       "<tr>\n",
       "           <td></td>             <th>coef</th>     <th>std err</th>      <th>t</th>      <th>P>|t|</th>  <th>[0.025</th>    <th>0.975]</th>  \n",
       "</tr>\n",
       "<tr>\n",
       "  <th>Intercept</th>          <td>  668.3140</td> <td>   17.819</td> <td>   37.506</td> <td> 0.000</td> <td>  633.381</td> <td>  703.247</td>\n",
       "</tr>\n",
       "<tr>\n",
       "  <th>C(stars)[T.2_star]</th> <td>   73.0420</td> <td>   25.200</td> <td>    2.898</td> <td> 0.004</td> <td>   23.639</td> <td>  122.445</td>\n",
       "</tr>\n",
       "<tr>\n",
       "  <th>C(stars)[T.3_star]</th> <td>   38.4720</td> <td>   25.200</td> <td>    1.527</td> <td> 0.127</td> <td>  -10.931</td> <td>   87.875</td>\n",
       "</tr>\n",
       "<tr>\n",
       "  <th>C(stars)[T.4_star]</th> <td>  -60.1290</td> <td>   25.200</td> <td>   -2.386</td> <td> 0.017</td> <td> -109.532</td> <td>  -10.726</td>\n",
       "</tr>\n",
       "<tr>\n",
       "  <th>C(stars)[T.5_star]</th> <td> -199.9850</td> <td>   25.200</td> <td>   -7.936</td> <td> 0.000</td> <td> -249.388</td> <td> -150.582</td>\n",
       "</tr>\n",
       "</table>\n",
       "<table class=\"simpletable\">\n",
       "<tr>\n",
       "  <th>Omnibus:</th>       <td>2697.551</td> <th>  Durbin-Watson:     </th> <td>   1.984</td> \n",
       "</tr>\n",
       "<tr>\n",
       "  <th>Prob(Omnibus):</th>  <td> 0.000</td>  <th>  Jarque-Bera (JB):  </th> <td>23286.482</td>\n",
       "</tr>\n",
       "<tr>\n",
       "  <th>Skew:</th>           <td> 2.454</td>  <th>  Prob(JB):          </th> <td>    0.00</td> \n",
       "</tr>\n",
       "<tr>\n",
       "  <th>Kurtosis:</th>       <td>12.364</td>  <th>  Cond. No.          </th> <td>    5.83</td> \n",
       "</tr>\n",
       "</table><br/><br/>Warnings:<br/>[1] Standard Errors assume that the covariance matrix of the errors is correctly specified."
      ],
      "text/plain": [
       "<class 'statsmodels.iolib.summary.Summary'>\n",
       "\"\"\"\n",
       "                            OLS Regression Results                            \n",
       "==============================================================================\n",
       "Dep. Variable:         review_lengths   R-squared:                       0.028\n",
       "Model:                            OLS   Adj. R-squared:                  0.027\n",
       "Method:                 Least Squares   F-statistic:                     36.22\n",
       "Date:                Sat, 14 Dec 2019   Prob (F-statistic):           6.87e-30\n",
       "Time:                        14:34:04   Log-Likelihood:                -38763.\n",
       "No. Observations:                5000   AIC:                         7.754e+04\n",
       "Df Residuals:                    4995   BIC:                         7.757e+04\n",
       "Df Model:                           4                                         \n",
       "Covariance Type:            nonrobust                                         \n",
       "======================================================================================\n",
       "                         coef    std err          t      P>|t|      [0.025      0.975]\n",
       "--------------------------------------------------------------------------------------\n",
       "Intercept            668.3140     17.819     37.506      0.000     633.381     703.247\n",
       "C(stars)[T.2_star]    73.0420     25.200      2.898      0.004      23.639     122.445\n",
       "C(stars)[T.3_star]    38.4720     25.200      1.527      0.127     -10.931      87.875\n",
       "C(stars)[T.4_star]   -60.1290     25.200     -2.386      0.017    -109.532     -10.726\n",
       "C(stars)[T.5_star]  -199.9850     25.200     -7.936      0.000    -249.388    -150.582\n",
       "==============================================================================\n",
       "Omnibus:                     2697.551   Durbin-Watson:                   1.984\n",
       "Prob(Omnibus):                  0.000   Jarque-Bera (JB):            23286.482\n",
       "Skew:                           2.454   Prob(JB):                         0.00\n",
       "Kurtosis:                      12.364   Cond. No.                         5.83\n",
       "==============================================================================\n",
       "\n",
       "Warnings:\n",
       "[1] Standard Errors assume that the covariance matrix of the errors is correctly specified.\n",
       "\"\"\""
      ]
     },
     "execution_count": 67,
     "metadata": {},
     "output_type": "execute_result"
    }
   ],
   "source": [
    "results.summary()"
   ]
  },
  {
   "cell_type": "code",
   "execution_count": 68,
   "metadata": {},
   "outputs": [
    {
     "data": {
      "text/html": [
       "<div>\n",
       "<style scoped>\n",
       "    .dataframe tbody tr th:only-of-type {\n",
       "        vertical-align: middle;\n",
       "    }\n",
       "\n",
       "    .dataframe tbody tr th {\n",
       "        vertical-align: top;\n",
       "    }\n",
       "\n",
       "    .dataframe thead th {\n",
       "        text-align: right;\n",
       "    }\n",
       "</style>\n",
       "<table border=\"1\" class=\"dataframe\">\n",
       "  <thead>\n",
       "    <tr style=\"text-align: right;\">\n",
       "      <th></th>\n",
       "      <th>sum_sq</th>\n",
       "      <th>df</th>\n",
       "      <th>F</th>\n",
       "      <th>PR(&gt;F)</th>\n",
       "    </tr>\n",
       "  </thead>\n",
       "  <tbody>\n",
       "    <tr>\n",
       "      <th>C(stars)</th>\n",
       "      <td>4.600833e+07</td>\n",
       "      <td>4.0</td>\n",
       "      <td>36.224896</td>\n",
       "      <td>6.869671e-30</td>\n",
       "    </tr>\n",
       "    <tr>\n",
       "      <th>Residual</th>\n",
       "      <td>1.586006e+09</td>\n",
       "      <td>4995.0</td>\n",
       "      <td>NaN</td>\n",
       "      <td>NaN</td>\n",
       "    </tr>\n",
       "  </tbody>\n",
       "</table>\n",
       "</div>"
      ],
      "text/plain": [
       "                sum_sq      df          F        PR(>F)\n",
       "C(stars)  4.600833e+07     4.0  36.224896  6.869671e-30\n",
       "Residual  1.586006e+09  4995.0        NaN           NaN"
      ]
     },
     "execution_count": 68,
     "metadata": {},
     "output_type": "execute_result"
    }
   ],
   "source": [
    "aov_table = sm.stats.anova_lm(results, typ=2)\n",
    "aov_table"
   ]
  },
  {
   "cell_type": "markdown",
   "metadata": {},
   "source": [
    "Both ways of doing the ANOVA test (with scipy.stats and statsmodels) show that the $F$-statistic=36.224 and the p-value approximates 0, which indicates that the observed differences in review lengths for the star ratings are statistically significant. The $F$-statistic is a ratio of the variation *between* the variables divided by the variation *within* the variables, so a large value indicates that more of the variation is explained by variation between the variables than by variation within the variables. We can conclude that there is an overall statistically significant effect of star rating on review length. However, the ANOVA test leaves open where the effect occurs, or where the statistically significant difference is located. We can now conduct a post-hoc analysis by using t-tests between pairs of star ratings to answer this further question of which specific differences are statistically significant.\n",
    "\n",
    "For discussion of F-tests, and interpreting the results, see [here](https://www.statisticshowto.datasciencecentral.com/probability-and-statistics/f-statistic-value-test/) and [here](https://www.statisticshowto.datasciencecentral.com/mean-square-between/)."
   ]
  },
  {
   "cell_type": "markdown",
   "metadata": {},
   "source": [
    "### 1.3 Post Hoc Analysis ###"
   ]
  },
  {
   "cell_type": "markdown",
   "metadata": {},
   "source": [
    "In our post hoc analysis, we will conduct t-tests on the following 6 pairs of star ratings: 1 & 4, 1 & 5, 2 & 4, 2 & 5,3 & 4, 3 & 5. We select these 6 pairs because in our modeling we will consider ratings of 1, 2, or 3 to indicate negative sentiment, and 4 or 5 to indicate positive sentiment. Since the primary goal is to discriminate between reviews manifesting negative or positive sentiment, the main comparisons that matter are between star ratings in the negative sentiment group (1, 2, or 3) and star ratings in the positive sentiment group (4 or 5).  \n",
    "\n",
    "In conducting our post hoc analysis we need to control for familywise error. We will use the Bonferroni correction of dividing our significance level for the ANOVA by the number of t-tests we plan to run, and using the new value as our significance level for the t-tests."
   ]
  },
  {
   "cell_type": "code",
   "execution_count": 74,
   "metadata": {},
   "outputs": [
    {
     "data": {
      "text/plain": [
       "0.0083"
      ]
     },
     "execution_count": 74,
     "metadata": {},
     "output_type": "execute_result"
    }
   ],
   "source": [
    "# Calculate new significance level (original alpha / number of t-tests)\n",
    "new_alpha = round(0.05/6, 4)\n",
    "new_alpha"
   ]
  },
  {
   "cell_type": "code",
   "execution_count": 84,
   "metadata": {},
   "outputs": [],
   "source": [
    "# Define function to perform t-tests\n",
    "def t_test(data1, data2):\n",
    "    result = stats.ttest_ind(data1, data2)\n",
    "    if result[1] <= new_alpha:\n",
    "        print(result)\n",
    "        print('The difference is statistically significant.')\n",
    "    else:\n",
    "        print(result)\n",
    "        print('The difference is not statistically significant.')"
   ]
  },
  {
   "cell_type": "code",
   "execution_count": 85,
   "metadata": {},
   "outputs": [
    {
     "name": "stdout",
     "output_type": "stream",
     "text": [
      "Ttest_indResult(statistic=2.4186073389717624, pvalue=0.01566890993003886)\n",
      "The difference is not statistically significant.\n"
     ]
    }
   ],
   "source": [
    "# Comparison of 1 & 4 Star Reviews\n",
    "t_test(one_star_lens_sample, four_star_lens_sample)"
   ]
  },
  {
   "cell_type": "code",
   "execution_count": 86,
   "metadata": {},
   "outputs": [
    {
     "name": "stdout",
     "output_type": "stream",
     "text": [
      "Ttest_indResult(statistic=8.628699769853972, pvalue=1.2434223398955543e-17)\n",
      "The difference is statistically significant.\n"
     ]
    }
   ],
   "source": [
    "# Comparison of 1 & 5 Star Reviews\n",
    "t_test(one_star_lens_sample, five_star_lens_sample)"
   ]
  },
  {
   "cell_type": "code",
   "execution_count": 88,
   "metadata": {},
   "outputs": [
    {
     "name": "stdout",
     "output_type": "stream",
     "text": [
      "Ttest_indResult(statistic=5.029314469543813, pvalue=5.362169525825639e-07)\n",
      "The difference is statistically significant.\n"
     ]
    }
   ],
   "source": [
    "# Comparison of 2 & 4 Star Reviews\n",
    "t_test(two_star_lens_sample, four_star_lens_sample)"
   ]
  },
  {
   "cell_type": "code",
   "execution_count": 89,
   "metadata": {},
   "outputs": [
    {
     "name": "stdout",
     "output_type": "stream",
     "text": [
      "Ttest_indResult(statistic=10.9630272765738, pvalue=3.368668155131326e-27)\n",
      "The difference is statistically significant.\n"
     ]
    }
   ],
   "source": [
    "# Comparison of 2 & 5 Star Reviews\n",
    "t_test(two_star_lens_sample, five_star_lens_sample)"
   ]
  },
  {
   "cell_type": "code",
   "execution_count": 90,
   "metadata": {},
   "outputs": [
    {
     "name": "stdout",
     "output_type": "stream",
     "text": [
      "Ttest_indResult(statistic=3.928125514479278, pvalue=8.851854364474471e-05)\n",
      "The difference is statistically significant.\n"
     ]
    }
   ],
   "source": [
    "# Comparison of 3 & 4 Star Reviews\n",
    "t_test(three_star_lens_sample, four_star_lens_sample)"
   ]
  },
  {
   "cell_type": "code",
   "execution_count": 91,
   "metadata": {},
   "outputs": [
    {
     "name": "stdout",
     "output_type": "stream",
     "text": [
      "Ttest_indResult(statistic=10.175561044966399, pvalue=9.56199857485892e-24)\n",
      "The difference is statistically significant.\n"
     ]
    }
   ],
   "source": [
    "# Comparison of 3 & 5 Star Reviews\n",
    "t_test(three_star_lens_sample, five_star_lens_sample)"
   ]
  },
  {
   "cell_type": "markdown",
   "metadata": {},
   "source": [
    "### 1.4 Conclusions ###"
   ]
  },
  {
   "cell_type": "markdown",
   "metadata": {},
   "source": [
    "Our post hoc analysis indicates that (using the Bonferroni correction) five (of the six tested) differences in mean review lengths are statistically significant. In particular, the differences in mean review lengths between 1 and 5 stars, 2 and 4 stars, 2 and 5, 3 and 4 stars, and 3 and 5 stars are statistically significant.  \n",
    "\n",
    "This analysis suggests that we may be able to use the length of a review to help classify it as manifesting positive or negative sentiment."
   ]
  },
  {
   "cell_type": "markdown",
   "metadata": {},
   "source": [
    "## 2. Analysis of Differences in Word Frequency for Each Star Rating ##"
   ]
  },
  {
   "cell_type": "markdown",
   "metadata": {},
   "source": [
    "Suggestions for calculating word frequencies:\n",
    "* https://stackoverflow.com/questions/46786211/counting-the-frequency-of-words-in-a-pandas-data-frame\n",
    "* https://www.geeksforgeeks.org/find-frequency-of-each-word-in-a-string-in-python/\n",
    "* https://www.datacamp.com/community/tutorials/absolute-weighted-word-frequency\n",
    "* https://programminghistorian.org/en/lessons/counting-frequencies\n",
    "* *Think Python*, Ch. 13"
   ]
  },
  {
   "cell_type": "code",
   "execution_count": null,
   "metadata": {},
   "outputs": [],
   "source": []
  },
  {
   "cell_type": "code",
   "execution_count": null,
   "metadata": {},
   "outputs": [],
   "source": []
  },
  {
   "cell_type": "code",
   "execution_count": null,
   "metadata": {},
   "outputs": [],
   "source": []
  },
  {
   "cell_type": "code",
   "execution_count": null,
   "metadata": {},
   "outputs": [],
   "source": []
  }
 ],
 "metadata": {
  "kernelspec": {
   "display_name": "Python 3",
   "language": "python",
   "name": "python3"
  },
  "language_info": {
   "codemirror_mode": {
    "name": "ipython",
    "version": 3
   },
   "file_extension": ".py",
   "mimetype": "text/x-python",
   "name": "python",
   "nbconvert_exporter": "python",
   "pygments_lexer": "ipython3",
   "version": "3.7.3"
  }
 },
 "nbformat": 4,
 "nbformat_minor": 2
}
